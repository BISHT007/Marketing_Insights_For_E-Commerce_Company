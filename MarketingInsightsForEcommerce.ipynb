{
 "cells": [
  {
   "cell_type": "code",
   "execution_count": 1,
   "id": "c0461ac2-3be4-4ebc-8f1e-d6d4ee43bde2",
   "metadata": {},
   "outputs": [],
   "source": [
    "import pandas as pd\n",
    "import numpy as np\n",
    "import matplotlib.pyplot as plt\n",
    "import seaborn as sns\n",
    "import datetime\n",
    "from sklearn.cluster import KMeans\n",
    "from sklearn.preprocessing import StandardScaler,LabelEncoder\n",
    "from sklearn.model_selection import train_test_split\n",
    "from sklearn.linear_model import LogisticRegression\n",
    "from sklearn.metrics import accuracy_score,classification_report\n",
    "from sklearn.ensemble import RandomForestClassifier\n",
    "import xgboost as xgb"
   ]
  },
  {
   "cell_type": "code",
   "execution_count": 2,
   "id": "3fed97d1-4955-45c5-b988-a737b66680bf",
   "metadata": {},
   "outputs": [],
   "source": [
    "from mlxtend.frequent_patterns import apriori"
   ]
  },
  {
   "cell_type": "code",
   "execution_count": 3,
   "id": "d89c7c90-9b9b-4430-9526-6869309e36cf",
   "metadata": {},
   "outputs": [],
   "source": [
    "customer=pd.read_excel(r\"C:\\Users\\Sweta Bisht\\OneDrive\\Desktop\\term2.2_alabs\\case_study\\4\\Datasets\\CustomersData.xlsx\")\n",
    "discount=pd.read_csv(r\"C:\\Users\\Sweta Bisht\\OneDrive\\Desktop\\term2.2_alabs\\case_study\\4\\Datasets\\Discount_Coupon.csv\")\n",
    "market=pd.read_csv(r\"C:\\Users\\Sweta Bisht\\OneDrive\\Desktop\\term2.2_alabs\\case_study\\4\\Datasets\\Marketing_Spend.csv\")\n",
    "sales=pd.read_csv(r\"C:\\Users\\Sweta Bisht\\OneDrive\\Desktop\\term2.2_alabs\\case_study\\4\\Datasets\\Online_Sales.csv\")\n",
    "tax=pd.read_excel(r\"C:\\Users\\Sweta Bisht\\OneDrive\\Desktop\\term2.2_alabs\\case_study\\4\\Datasets\\Tax_amount.xlsx\")"
   ]
  },
  {
   "cell_type": "code",
   "execution_count": 4,
   "id": "5230a780-812a-45ba-aee8-21317111023b",
   "metadata": {},
   "outputs": [
    {
     "data": {
      "text/html": [
       "<div>\n",
       "<style scoped>\n",
       "    .dataframe tbody tr th:only-of-type {\n",
       "        vertical-align: middle;\n",
       "    }\n",
       "\n",
       "    .dataframe tbody tr th {\n",
       "        vertical-align: top;\n",
       "    }\n",
       "\n",
       "    .dataframe thead th {\n",
       "        text-align: right;\n",
       "    }\n",
       "</style>\n",
       "<table border=\"1\" class=\"dataframe\">\n",
       "  <thead>\n",
       "    <tr style=\"text-align: right;\">\n",
       "      <th></th>\n",
       "      <th>CustomerID</th>\n",
       "      <th>Gender</th>\n",
       "      <th>Location</th>\n",
       "      <th>Tenure_Months</th>\n",
       "    </tr>\n",
       "  </thead>\n",
       "  <tbody>\n",
       "    <tr>\n",
       "      <th>0</th>\n",
       "      <td>17850</td>\n",
       "      <td>M</td>\n",
       "      <td>Chicago</td>\n",
       "      <td>12</td>\n",
       "    </tr>\n",
       "    <tr>\n",
       "      <th>1</th>\n",
       "      <td>13047</td>\n",
       "      <td>M</td>\n",
       "      <td>California</td>\n",
       "      <td>43</td>\n",
       "    </tr>\n",
       "    <tr>\n",
       "      <th>2</th>\n",
       "      <td>12583</td>\n",
       "      <td>M</td>\n",
       "      <td>Chicago</td>\n",
       "      <td>33</td>\n",
       "    </tr>\n",
       "  </tbody>\n",
       "</table>\n",
       "</div>"
      ],
      "text/plain": [
       "   CustomerID Gender    Location  Tenure_Months\n",
       "0       17850      M     Chicago             12\n",
       "1       13047      M  California             43\n",
       "2       12583      M     Chicago             33"
      ]
     },
     "execution_count": 4,
     "metadata": {},
     "output_type": "execute_result"
    }
   ],
   "source": [
    "customer.head(3)"
   ]
  },
  {
   "cell_type": "code",
   "execution_count": 5,
   "id": "843ecf42-22cc-4b27-8bad-02ef224723cf",
   "metadata": {},
   "outputs": [],
   "source": [
    "discount.columns=discount.columns.str.strip()"
   ]
  },
  {
   "cell_type": "code",
   "execution_count": 6,
   "id": "c9bb9f81-baba-49c6-a809-71862df38bdf",
   "metadata": {},
   "outputs": [
    {
     "data": {
      "text/html": [
       "<div>\n",
       "<style scoped>\n",
       "    .dataframe tbody tr th:only-of-type {\n",
       "        vertical-align: middle;\n",
       "    }\n",
       "\n",
       "    .dataframe tbody tr th {\n",
       "        vertical-align: top;\n",
       "    }\n",
       "\n",
       "    .dataframe thead th {\n",
       "        text-align: right;\n",
       "    }\n",
       "</style>\n",
       "<table border=\"1\" class=\"dataframe\">\n",
       "  <thead>\n",
       "    <tr style=\"text-align: right;\">\n",
       "      <th></th>\n",
       "      <th>Date</th>\n",
       "      <th>Offline_Spend</th>\n",
       "      <th>Online_Spend</th>\n",
       "    </tr>\n",
       "  </thead>\n",
       "  <tbody>\n",
       "    <tr>\n",
       "      <th>0</th>\n",
       "      <td>1/1/2019</td>\n",
       "      <td>4500</td>\n",
       "      <td>2424.50</td>\n",
       "    </tr>\n",
       "    <tr>\n",
       "      <th>1</th>\n",
       "      <td>1/2/2019</td>\n",
       "      <td>4500</td>\n",
       "      <td>3480.36</td>\n",
       "    </tr>\n",
       "    <tr>\n",
       "      <th>2</th>\n",
       "      <td>1/3/2019</td>\n",
       "      <td>4500</td>\n",
       "      <td>1576.38</td>\n",
       "    </tr>\n",
       "  </tbody>\n",
       "</table>\n",
       "</div>"
      ],
      "text/plain": [
       "       Date  Offline_Spend  Online_Spend\n",
       "0  1/1/2019           4500       2424.50\n",
       "1  1/2/2019           4500       3480.36\n",
       "2  1/3/2019           4500       1576.38"
      ]
     },
     "execution_count": 6,
     "metadata": {},
     "output_type": "execute_result"
    }
   ],
   "source": [
    "market.head(3)"
   ]
  },
  {
   "cell_type": "code",
   "execution_count": 7,
   "id": "32f6c727-37f1-4a2c-813a-45d82302960d",
   "metadata": {},
   "outputs": [
    {
     "data": {
      "text/html": [
       "<div>\n",
       "<style scoped>\n",
       "    .dataframe tbody tr th:only-of-type {\n",
       "        vertical-align: middle;\n",
       "    }\n",
       "\n",
       "    .dataframe tbody tr th {\n",
       "        vertical-align: top;\n",
       "    }\n",
       "\n",
       "    .dataframe thead th {\n",
       "        text-align: right;\n",
       "    }\n",
       "</style>\n",
       "<table border=\"1\" class=\"dataframe\">\n",
       "  <thead>\n",
       "    <tr style=\"text-align: right;\">\n",
       "      <th></th>\n",
       "      <th>CustomerID</th>\n",
       "      <th>Transaction_ID</th>\n",
       "      <th>Transaction_Date</th>\n",
       "      <th>Product_SKU</th>\n",
       "      <th>Product_Description</th>\n",
       "      <th>Product_Category</th>\n",
       "      <th>Quantity</th>\n",
       "      <th>Avg_Price</th>\n",
       "      <th>Delivery_Charges</th>\n",
       "      <th>Coupon_Status</th>\n",
       "    </tr>\n",
       "  </thead>\n",
       "  <tbody>\n",
       "    <tr>\n",
       "      <th>0</th>\n",
       "      <td>17850</td>\n",
       "      <td>16679</td>\n",
       "      <td>20190101</td>\n",
       "      <td>GGOENEBJ079499</td>\n",
       "      <td>Nest Learning Thermostat 3rd Gen-USA - Stainle...</td>\n",
       "      <td>Nest-USA</td>\n",
       "      <td>1</td>\n",
       "      <td>153.71</td>\n",
       "      <td>6.5</td>\n",
       "      <td>Used</td>\n",
       "    </tr>\n",
       "    <tr>\n",
       "      <th>1</th>\n",
       "      <td>17850</td>\n",
       "      <td>16680</td>\n",
       "      <td>20190101</td>\n",
       "      <td>GGOENEBJ079499</td>\n",
       "      <td>Nest Learning Thermostat 3rd Gen-USA - Stainle...</td>\n",
       "      <td>Nest-USA</td>\n",
       "      <td>1</td>\n",
       "      <td>153.71</td>\n",
       "      <td>6.5</td>\n",
       "      <td>Used</td>\n",
       "    </tr>\n",
       "    <tr>\n",
       "      <th>2</th>\n",
       "      <td>17850</td>\n",
       "      <td>16681</td>\n",
       "      <td>20190101</td>\n",
       "      <td>GGOEGFKQ020399</td>\n",
       "      <td>Google Laptop and Cell Phone Stickers</td>\n",
       "      <td>Office</td>\n",
       "      <td>1</td>\n",
       "      <td>2.05</td>\n",
       "      <td>6.5</td>\n",
       "      <td>Used</td>\n",
       "    </tr>\n",
       "  </tbody>\n",
       "</table>\n",
       "</div>"
      ],
      "text/plain": [
       "   CustomerID  Transaction_ID  Transaction_Date     Product_SKU  \\\n",
       "0       17850           16679          20190101  GGOENEBJ079499   \n",
       "1       17850           16680          20190101  GGOENEBJ079499   \n",
       "2       17850           16681          20190101  GGOEGFKQ020399   \n",
       "\n",
       "                                 Product_Description Product_Category  \\\n",
       "0  Nest Learning Thermostat 3rd Gen-USA - Stainle...         Nest-USA   \n",
       "1  Nest Learning Thermostat 3rd Gen-USA - Stainle...         Nest-USA   \n",
       "2              Google Laptop and Cell Phone Stickers           Office   \n",
       "\n",
       "   Quantity  Avg_Price  Delivery_Charges Coupon_Status  \n",
       "0         1     153.71               6.5          Used  \n",
       "1         1     153.71               6.5          Used  \n",
       "2         1       2.05               6.5          Used  "
      ]
     },
     "execution_count": 7,
     "metadata": {},
     "output_type": "execute_result"
    }
   ],
   "source": [
    "sales.head(3)"
   ]
  },
  {
   "cell_type": "code",
   "execution_count": 8,
   "id": "8b326689-10f3-4545-a699-4fa06cb0daff",
   "metadata": {},
   "outputs": [
    {
     "data": {
      "text/html": [
       "<div>\n",
       "<style scoped>\n",
       "    .dataframe tbody tr th:only-of-type {\n",
       "        vertical-align: middle;\n",
       "    }\n",
       "\n",
       "    .dataframe tbody tr th {\n",
       "        vertical-align: top;\n",
       "    }\n",
       "\n",
       "    .dataframe thead th {\n",
       "        text-align: right;\n",
       "    }\n",
       "</style>\n",
       "<table border=\"1\" class=\"dataframe\">\n",
       "  <thead>\n",
       "    <tr style=\"text-align: right;\">\n",
       "      <th></th>\n",
       "      <th>Product_Category</th>\n",
       "      <th>GST</th>\n",
       "    </tr>\n",
       "  </thead>\n",
       "  <tbody>\n",
       "    <tr>\n",
       "      <th>0</th>\n",
       "      <td>Nest-USA</td>\n",
       "      <td>0.10</td>\n",
       "    </tr>\n",
       "    <tr>\n",
       "      <th>1</th>\n",
       "      <td>Office</td>\n",
       "      <td>0.10</td>\n",
       "    </tr>\n",
       "    <tr>\n",
       "      <th>2</th>\n",
       "      <td>Apparel</td>\n",
       "      <td>0.18</td>\n",
       "    </tr>\n",
       "  </tbody>\n",
       "</table>\n",
       "</div>"
      ],
      "text/plain": [
       "  Product_Category   GST\n",
       "0         Nest-USA  0.10\n",
       "1           Office  0.10\n",
       "2          Apparel  0.18"
      ]
     },
     "execution_count": 8,
     "metadata": {},
     "output_type": "execute_result"
    }
   ],
   "source": [
    "tax.head(3)"
   ]
  },
  {
   "cell_type": "code",
   "execution_count": 9,
   "id": "5002012d-b9c9-4c81-ad95-bd131ef788d4",
   "metadata": {},
   "outputs": [
    {
     "name": "stdout",
     "output_type": "stream",
     "text": [
      "<class 'pandas.core.frame.DataFrame'>\n",
      "RangeIndex: 52924 entries, 0 to 52923\n",
      "Data columns (total 10 columns):\n",
      " #   Column               Non-Null Count  Dtype  \n",
      "---  ------               --------------  -----  \n",
      " 0   CustomerID           52924 non-null  int64  \n",
      " 1   Transaction_ID       52924 non-null  int64  \n",
      " 2   Transaction_Date     52924 non-null  int64  \n",
      " 3   Product_SKU          52924 non-null  object \n",
      " 4   Product_Description  52924 non-null  object \n",
      " 5   Product_Category     52924 non-null  object \n",
      " 6   Quantity             52924 non-null  int64  \n",
      " 7   Avg_Price            52924 non-null  float64\n",
      " 8   Delivery_Charges     52924 non-null  float64\n",
      " 9   Coupon_Status        52924 non-null  object \n",
      "dtypes: float64(2), int64(4), object(4)\n",
      "memory usage: 4.0+ MB\n"
     ]
    }
   ],
   "source": [
    "sales.info()"
   ]
  },
  {
   "cell_type": "code",
   "execution_count": 10,
   "id": "d138e6de-7e69-4741-99a2-d29cb44a3c2c",
   "metadata": {},
   "outputs": [
    {
     "name": "stdout",
     "output_type": "stream",
     "text": [
      "<class 'pandas.core.frame.DataFrame'>\n",
      "RangeIndex: 204 entries, 0 to 203\n",
      "Data columns (total 4 columns):\n",
      " #   Column            Non-Null Count  Dtype \n",
      "---  ------            --------------  ----- \n",
      " 0   Month             204 non-null    object\n",
      " 1   Product_Category  204 non-null    object\n",
      " 2   Coupon_Code       204 non-null    object\n",
      " 3   Discount_pct      204 non-null    int64 \n",
      "dtypes: int64(1), object(3)\n",
      "memory usage: 6.5+ KB\n"
     ]
    }
   ],
   "source": [
    "discount.info()"
   ]
  },
  {
   "cell_type": "code",
   "execution_count": 11,
   "id": "79993e3b-f5f7-4b10-8535-5382717f84c4",
   "metadata": {},
   "outputs": [
    {
     "name": "stdout",
     "output_type": "stream",
     "text": [
      "<class 'pandas.core.frame.DataFrame'>\n",
      "RangeIndex: 20 entries, 0 to 19\n",
      "Data columns (total 2 columns):\n",
      " #   Column            Non-Null Count  Dtype  \n",
      "---  ------            --------------  -----  \n",
      " 0   Product_Category  20 non-null     object \n",
      " 1   GST               20 non-null     float64\n",
      "dtypes: float64(1), object(1)\n",
      "memory usage: 452.0+ bytes\n"
     ]
    }
   ],
   "source": [
    "tax.info()"
   ]
  },
  {
   "cell_type": "code",
   "execution_count": 12,
   "id": "07e35a22-13a2-4bca-93b5-87db80f24131",
   "metadata": {},
   "outputs": [
    {
     "name": "stdout",
     "output_type": "stream",
     "text": [
      "<class 'pandas.core.frame.DataFrame'>\n",
      "RangeIndex: 365 entries, 0 to 364\n",
      "Data columns (total 3 columns):\n",
      " #   Column         Non-Null Count  Dtype  \n",
      "---  ------         --------------  -----  \n",
      " 0   Date           365 non-null    object \n",
      " 1   Offline_Spend  365 non-null    int64  \n",
      " 2   Online_Spend   365 non-null    float64\n",
      "dtypes: float64(1), int64(1), object(1)\n",
      "memory usage: 8.7+ KB\n"
     ]
    }
   ],
   "source": [
    "market.info()"
   ]
  },
  {
   "cell_type": "code",
   "execution_count": 13,
   "id": "f6468b52-51f7-4457-ba82-ffae36adbf07",
   "metadata": {},
   "outputs": [],
   "source": [
    "sales.Transaction_Date=pd.to_datetime(sales.Transaction_Date,format='%Y%m%d')\n",
    "sales['Month']=sales['Transaction_Date'].dt.strftime('%b')\n",
    "sales['Year']=sales['Transaction_Date'].dt.year"
   ]
  },
  {
   "cell_type": "code",
   "execution_count": 14,
   "id": "7e820964-680f-4947-8252-4ac2d1869e21",
   "metadata": {},
   "outputs": [
    {
     "data": {
      "text/html": [
       "<div>\n",
       "<style scoped>\n",
       "    .dataframe tbody tr th:only-of-type {\n",
       "        vertical-align: middle;\n",
       "    }\n",
       "\n",
       "    .dataframe tbody tr th {\n",
       "        vertical-align: top;\n",
       "    }\n",
       "\n",
       "    .dataframe thead th {\n",
       "        text-align: right;\n",
       "    }\n",
       "</style>\n",
       "<table border=\"1\" class=\"dataframe\">\n",
       "  <thead>\n",
       "    <tr style=\"text-align: right;\">\n",
       "      <th></th>\n",
       "      <th>CustomerID</th>\n",
       "      <th>Transaction_ID</th>\n",
       "      <th>Transaction_Date</th>\n",
       "      <th>Product_SKU</th>\n",
       "      <th>Product_Description</th>\n",
       "      <th>Product_Category</th>\n",
       "      <th>Quantity</th>\n",
       "      <th>Avg_Price</th>\n",
       "      <th>Delivery_Charges</th>\n",
       "      <th>Coupon_Status</th>\n",
       "      <th>Month</th>\n",
       "      <th>Year</th>\n",
       "      <th>Coupon_Code</th>\n",
       "      <th>Discount_pct</th>\n",
       "      <th>GST</th>\n",
       "    </tr>\n",
       "  </thead>\n",
       "  <tbody>\n",
       "    <tr>\n",
       "      <th>0</th>\n",
       "      <td>17850</td>\n",
       "      <td>16679</td>\n",
       "      <td>2019-01-01</td>\n",
       "      <td>GGOENEBJ079499</td>\n",
       "      <td>Nest Learning Thermostat 3rd Gen-USA - Stainle...</td>\n",
       "      <td>Nest-USA</td>\n",
       "      <td>1</td>\n",
       "      <td>153.71</td>\n",
       "      <td>6.5</td>\n",
       "      <td>Used</td>\n",
       "      <td>Jan</td>\n",
       "      <td>2019</td>\n",
       "      <td>ELEC10</td>\n",
       "      <td>10.0</td>\n",
       "      <td>0.1</td>\n",
       "    </tr>\n",
       "    <tr>\n",
       "      <th>1</th>\n",
       "      <td>17850</td>\n",
       "      <td>16680</td>\n",
       "      <td>2019-01-01</td>\n",
       "      <td>GGOENEBJ079499</td>\n",
       "      <td>Nest Learning Thermostat 3rd Gen-USA - Stainle...</td>\n",
       "      <td>Nest-USA</td>\n",
       "      <td>1</td>\n",
       "      <td>153.71</td>\n",
       "      <td>6.5</td>\n",
       "      <td>Used</td>\n",
       "      <td>Jan</td>\n",
       "      <td>2019</td>\n",
       "      <td>ELEC10</td>\n",
       "      <td>10.0</td>\n",
       "      <td>0.1</td>\n",
       "    </tr>\n",
       "  </tbody>\n",
       "</table>\n",
       "</div>"
      ],
      "text/plain": [
       "   CustomerID  Transaction_ID Transaction_Date     Product_SKU  \\\n",
       "0       17850           16679       2019-01-01  GGOENEBJ079499   \n",
       "1       17850           16680       2019-01-01  GGOENEBJ079499   \n",
       "\n",
       "                                 Product_Description Product_Category  \\\n",
       "0  Nest Learning Thermostat 3rd Gen-USA - Stainle...         Nest-USA   \n",
       "1  Nest Learning Thermostat 3rd Gen-USA - Stainle...         Nest-USA   \n",
       "\n",
       "   Quantity  Avg_Price  Delivery_Charges Coupon_Status Month  Year  \\\n",
       "0         1     153.71               6.5          Used   Jan  2019   \n",
       "1         1     153.71               6.5          Used   Jan  2019   \n",
       "\n",
       "  Coupon_Code  Discount_pct  GST  \n",
       "0      ELEC10          10.0  0.1  \n",
       "1      ELEC10          10.0  0.1  "
      ]
     },
     "execution_count": 14,
     "metadata": {},
     "output_type": "execute_result"
    }
   ],
   "source": [
    "final=sales.merge(discount,on=['Product_Category','Month'],how='left').merge(tax,on='Product_Category',how='left')\n",
    "final.head(2)"
   ]
  },
  {
   "cell_type": "code",
   "execution_count": 15,
   "id": "915ef8ea-cd2e-40ae-89c9-12d60e7411c2",
   "metadata": {},
   "outputs": [
    {
     "data": {
      "text/plain": [
       "CustomerID               0\n",
       "Transaction_ID           0\n",
       "Transaction_Date         0\n",
       "Product_SKU              0\n",
       "Product_Description      0\n",
       "Product_Category         0\n",
       "Quantity                 0\n",
       "Avg_Price                0\n",
       "Delivery_Charges         0\n",
       "Coupon_Status            0\n",
       "Month                    0\n",
       "Year                     0\n",
       "Coupon_Code            400\n",
       "Discount_pct           400\n",
       "GST                      0\n",
       "dtype: int64"
      ]
     },
     "execution_count": 15,
     "metadata": {},
     "output_type": "execute_result"
    }
   ],
   "source": [
    "final.isna().sum()"
   ]
  },
  {
   "cell_type": "code",
   "execution_count": 16,
   "id": "e409c71a-83c8-4f9c-bcc8-9d3e586ecb51",
   "metadata": {},
   "outputs": [],
   "source": [
    "final.Coupon_Code.fillna('NA',inplace=True)\n",
    "final.Discount_pct.fillna(0,inplace=True)"
   ]
  },
  {
   "cell_type": "markdown",
   "id": "4aca517d-2fee-493a-a921-fae92e344bc2",
   "metadata": {},
   "source": [
    "### 1. Calculate Invoice amount or sale_amount or revenue for each transaction and item level\n",
    "  Invoice Value =(( Quantity*Avg_price)*(1-Dicount_pct)*(1+GST))+Delivery_Charges"
   ]
  },
  {
   "cell_type": "code",
   "execution_count": 18,
   "id": "79d9b1e0-bc88-4785-a80b-590ec83747cd",
   "metadata": {},
   "outputs": [
    {
     "data": {
      "text/plain": [
       "array(['Used', 'Not Used', 'Clicked'], dtype=object)"
      ]
     },
     "execution_count": 18,
     "metadata": {},
     "output_type": "execute_result"
    }
   ],
   "source": [
    "final.Coupon_Status.unique()"
   ]
  },
  {
   "cell_type": "code",
   "execution_count": 19,
   "id": "736b4083-53c5-4763-8473-27a57b01670d",
   "metadata": {},
   "outputs": [
    {
     "data": {
      "text/plain": [
       "Index(['CustomerID', 'Transaction_ID', 'Transaction_Date', 'Product_SKU',\n",
       "       'Product_Description', 'Product_Category', 'Quantity', 'Avg_Price',\n",
       "       'Delivery_Charges', 'Coupon_Status', 'Month', 'Year', 'Coupon_Code',\n",
       "       'Discount_pct', 'GST'],\n",
       "      dtype='object')"
      ]
     },
     "execution_count": 19,
     "metadata": {},
     "output_type": "execute_result"
    }
   ],
   "source": [
    "final.columns"
   ]
  },
  {
   "cell_type": "code",
   "execution_count": 20,
   "id": "6cf85985-819d-46c1-b7c8-4888dba30e51",
   "metadata": {},
   "outputs": [],
   "source": [
    "final['invoice']=np.where(final.Coupon_Status=='Used',\n",
    "                        (( final.Quantity*final.Avg_Price)*(1-(final.Discount_pct/100))*(1+final.GST))+final.Delivery_Charges,\n",
    "                        (( final.Quantity*final.Avg_Price)*(1+final.GST))+final.Delivery_Charges\n",
    "                )"
   ]
  },
  {
   "cell_type": "markdown",
   "id": "c837e96b-b91c-4804-a08f-0765637d5aee",
   "metadata": {},
   "source": [
    "### 2. Perform Detailed exploratory analysis"
   ]
  },
  {
   "cell_type": "code",
   "execution_count": 22,
   "id": "95fdca6a-73c2-46ec-9cd4-3255dc469886",
   "metadata": {},
   "outputs": [],
   "source": [
    "#  Understanding how many customers acquired every month"
   ]
  },
  {
   "cell_type": "code",
   "execution_count": 23,
   "id": "6f1781e1-9c22-43ea-ae18-046310784190",
   "metadata": {},
   "outputs": [
    {
     "data": {
      "text/html": [
       "<div>\n",
       "<style scoped>\n",
       "    .dataframe tbody tr th:only-of-type {\n",
       "        vertical-align: middle;\n",
       "    }\n",
       "\n",
       "    .dataframe tbody tr th {\n",
       "        vertical-align: top;\n",
       "    }\n",
       "\n",
       "    .dataframe thead th {\n",
       "        text-align: right;\n",
       "    }\n",
       "</style>\n",
       "<table border=\"1\" class=\"dataframe\">\n",
       "  <thead>\n",
       "    <tr style=\"text-align: right;\">\n",
       "      <th></th>\n",
       "      <th>CustomerID</th>\n",
       "      <th>Transaction_ID</th>\n",
       "      <th>Transaction_Date</th>\n",
       "      <th>Product_SKU</th>\n",
       "      <th>Product_Description</th>\n",
       "      <th>Product_Category</th>\n",
       "      <th>Quantity</th>\n",
       "      <th>Avg_Price</th>\n",
       "      <th>Delivery_Charges</th>\n",
       "      <th>Coupon_Status</th>\n",
       "      <th>Month</th>\n",
       "      <th>Year</th>\n",
       "      <th>Coupon_Code</th>\n",
       "      <th>Discount_pct</th>\n",
       "      <th>GST</th>\n",
       "      <th>invoice</th>\n",
       "    </tr>\n",
       "  </thead>\n",
       "  <tbody>\n",
       "    <tr>\n",
       "      <th>0</th>\n",
       "      <td>17850</td>\n",
       "      <td>16679</td>\n",
       "      <td>2019-01-01</td>\n",
       "      <td>GGOENEBJ079499</td>\n",
       "      <td>Nest Learning Thermostat 3rd Gen-USA - Stainle...</td>\n",
       "      <td>Nest-USA</td>\n",
       "      <td>1</td>\n",
       "      <td>153.71</td>\n",
       "      <td>6.5</td>\n",
       "      <td>Used</td>\n",
       "      <td>Jan</td>\n",
       "      <td>2019</td>\n",
       "      <td>ELEC10</td>\n",
       "      <td>10.0</td>\n",
       "      <td>0.10</td>\n",
       "      <td>158.6729</td>\n",
       "    </tr>\n",
       "    <tr>\n",
       "      <th>1</th>\n",
       "      <td>17850</td>\n",
       "      <td>16680</td>\n",
       "      <td>2019-01-01</td>\n",
       "      <td>GGOENEBJ079499</td>\n",
       "      <td>Nest Learning Thermostat 3rd Gen-USA - Stainle...</td>\n",
       "      <td>Nest-USA</td>\n",
       "      <td>1</td>\n",
       "      <td>153.71</td>\n",
       "      <td>6.5</td>\n",
       "      <td>Used</td>\n",
       "      <td>Jan</td>\n",
       "      <td>2019</td>\n",
       "      <td>ELEC10</td>\n",
       "      <td>10.0</td>\n",
       "      <td>0.10</td>\n",
       "      <td>158.6729</td>\n",
       "    </tr>\n",
       "    <tr>\n",
       "      <th>2</th>\n",
       "      <td>17850</td>\n",
       "      <td>16681</td>\n",
       "      <td>2019-01-01</td>\n",
       "      <td>GGOEGFKQ020399</td>\n",
       "      <td>Google Laptop and Cell Phone Stickers</td>\n",
       "      <td>Office</td>\n",
       "      <td>1</td>\n",
       "      <td>2.05</td>\n",
       "      <td>6.5</td>\n",
       "      <td>Used</td>\n",
       "      <td>Jan</td>\n",
       "      <td>2019</td>\n",
       "      <td>OFF10</td>\n",
       "      <td>10.0</td>\n",
       "      <td>0.10</td>\n",
       "      <td>8.5295</td>\n",
       "    </tr>\n",
       "    <tr>\n",
       "      <th>3</th>\n",
       "      <td>17850</td>\n",
       "      <td>16682</td>\n",
       "      <td>2019-01-01</td>\n",
       "      <td>GGOEGAAB010516</td>\n",
       "      <td>Google Men's 100% Cotton Short Sleeve Hero Tee...</td>\n",
       "      <td>Apparel</td>\n",
       "      <td>5</td>\n",
       "      <td>17.53</td>\n",
       "      <td>6.5</td>\n",
       "      <td>Not Used</td>\n",
       "      <td>Jan</td>\n",
       "      <td>2019</td>\n",
       "      <td>SALE10</td>\n",
       "      <td>10.0</td>\n",
       "      <td>0.18</td>\n",
       "      <td>109.9270</td>\n",
       "    </tr>\n",
       "    <tr>\n",
       "      <th>4</th>\n",
       "      <td>17850</td>\n",
       "      <td>16682</td>\n",
       "      <td>2019-01-01</td>\n",
       "      <td>GGOEGBJL013999</td>\n",
       "      <td>Google Canvas Tote Natural/Navy</td>\n",
       "      <td>Bags</td>\n",
       "      <td>1</td>\n",
       "      <td>16.50</td>\n",
       "      <td>6.5</td>\n",
       "      <td>Used</td>\n",
       "      <td>Jan</td>\n",
       "      <td>2019</td>\n",
       "      <td>AIO10</td>\n",
       "      <td>10.0</td>\n",
       "      <td>0.18</td>\n",
       "      <td>24.0230</td>\n",
       "    </tr>\n",
       "  </tbody>\n",
       "</table>\n",
       "</div>"
      ],
      "text/plain": [
       "   CustomerID  Transaction_ID Transaction_Date     Product_SKU  \\\n",
       "0       17850           16679       2019-01-01  GGOENEBJ079499   \n",
       "1       17850           16680       2019-01-01  GGOENEBJ079499   \n",
       "2       17850           16681       2019-01-01  GGOEGFKQ020399   \n",
       "3       17850           16682       2019-01-01  GGOEGAAB010516   \n",
       "4       17850           16682       2019-01-01  GGOEGBJL013999   \n",
       "\n",
       "                                 Product_Description Product_Category  \\\n",
       "0  Nest Learning Thermostat 3rd Gen-USA - Stainle...         Nest-USA   \n",
       "1  Nest Learning Thermostat 3rd Gen-USA - Stainle...         Nest-USA   \n",
       "2              Google Laptop and Cell Phone Stickers           Office   \n",
       "3  Google Men's 100% Cotton Short Sleeve Hero Tee...          Apparel   \n",
       "4                    Google Canvas Tote Natural/Navy             Bags   \n",
       "\n",
       "   Quantity  Avg_Price  Delivery_Charges Coupon_Status Month  Year  \\\n",
       "0         1     153.71               6.5          Used   Jan  2019   \n",
       "1         1     153.71               6.5          Used   Jan  2019   \n",
       "2         1       2.05               6.5          Used   Jan  2019   \n",
       "3         5      17.53               6.5      Not Used   Jan  2019   \n",
       "4         1      16.50               6.5          Used   Jan  2019   \n",
       "\n",
       "  Coupon_Code  Discount_pct   GST   invoice  \n",
       "0      ELEC10          10.0  0.10  158.6729  \n",
       "1      ELEC10          10.0  0.10  158.6729  \n",
       "2       OFF10          10.0  0.10    8.5295  \n",
       "3      SALE10          10.0  0.18  109.9270  \n",
       "4       AIO10          10.0  0.18   24.0230  "
      ]
     },
     "execution_count": 23,
     "metadata": {},
     "output_type": "execute_result"
    }
   ],
   "source": [
    "final.head()"
   ]
  },
  {
   "cell_type": "code",
   "execution_count": 24,
   "id": "8211c831-2b7f-4136-b763-fea9e8a57d19",
   "metadata": {},
   "outputs": [
    {
     "data": {
      "text/html": [
       "<div>\n",
       "<style scoped>\n",
       "    .dataframe tbody tr th:only-of-type {\n",
       "        vertical-align: middle;\n",
       "    }\n",
       "\n",
       "    .dataframe tbody tr th {\n",
       "        vertical-align: top;\n",
       "    }\n",
       "\n",
       "    .dataframe thead th {\n",
       "        text-align: right;\n",
       "    }\n",
       "</style>\n",
       "<table border=\"1\" class=\"dataframe\">\n",
       "  <thead>\n",
       "    <tr style=\"text-align: right;\">\n",
       "      <th></th>\n",
       "      <th>CustomerID</th>\n",
       "    </tr>\n",
       "    <tr>\n",
       "      <th>Transaction_Date</th>\n",
       "      <th></th>\n",
       "    </tr>\n",
       "  </thead>\n",
       "  <tbody>\n",
       "    <tr>\n",
       "      <th>1</th>\n",
       "      <td>215</td>\n",
       "    </tr>\n",
       "    <tr>\n",
       "      <th>2</th>\n",
       "      <td>109</td>\n",
       "    </tr>\n",
       "    <tr>\n",
       "      <th>3</th>\n",
       "      <td>208</td>\n",
       "    </tr>\n",
       "    <tr>\n",
       "      <th>4</th>\n",
       "      <td>224</td>\n",
       "    </tr>\n",
       "    <tr>\n",
       "      <th>5</th>\n",
       "      <td>200</td>\n",
       "    </tr>\n",
       "  </tbody>\n",
       "</table>\n",
       "</div>"
      ],
      "text/plain": [
       "                  CustomerID\n",
       "Transaction_Date            \n",
       "1                        215\n",
       "2                        109\n",
       "3                        208\n",
       "4                        224\n",
       "5                        200"
      ]
     },
     "execution_count": 24,
     "metadata": {},
     "output_type": "execute_result"
    }
   ],
   "source": [
    "custbymonth=final.groupby([final.Transaction_Date.dt.month])[['CustomerID']].nunique()\n",
    "custbymonth.head()"
   ]
  },
  {
   "cell_type": "code",
   "execution_count": 25,
   "id": "aa7a5931-6fae-4280-8ebc-d389bed376fa",
   "metadata": {},
   "outputs": [
    {
     "data": {
      "image/png": "[encoded data removed]",
      "text/plain": [
       "<Figure size 640x480 with 1 Axes>"
      ]
     },
     "metadata": {},
     "output_type": "display_data"
    }
   ],
   "source": [
    "custbymonth.plot(kind='bar')\n",
    "plt.xlabel('Month')\n",
    "plt.ylabel('Customer Count')\n",
    "plt.title('Customer Count by Month')\n",
    "plt.xticks(ticks=range(0,12),labels=['Jan', 'Feb', 'Mar', 'Apr', 'May', 'Jun', 'Jul', 'Aug', 'Sep', 'Oct', 'Nov', 'Dec'])\n",
    "plt.show()"
   ]
  },
  {
   "cell_type": "code",
   "execution_count": 26,
   "id": "dc11e9a2-9cf2-4ff3-8f7c-ca8c28dd7a31",
   "metadata": {},
   "outputs": [
    {
     "data": {
      "text/html": [
       "<div>\n",
       "<style scoped>\n",
       "    .dataframe tbody tr th:only-of-type {\n",
       "        vertical-align: middle;\n",
       "    }\n",
       "\n",
       "    .dataframe tbody tr th {\n",
       "        vertical-align: top;\n",
       "    }\n",
       "\n",
       "    .dataframe thead th {\n",
       "        text-align: right;\n",
       "    }\n",
       "</style>\n",
       "<table border=\"1\" class=\"dataframe\">\n",
       "  <thead>\n",
       "    <tr style=\"text-align: right;\">\n",
       "      <th></th>\n",
       "      <th>CustomerID</th>\n",
       "    </tr>\n",
       "    <tr>\n",
       "      <th>Transaction_Date</th>\n",
       "      <th></th>\n",
       "    </tr>\n",
       "  </thead>\n",
       "  <tbody>\n",
       "    <tr>\n",
       "      <th>1</th>\n",
       "      <td>215</td>\n",
       "    </tr>\n",
       "    <tr>\n",
       "      <th>2</th>\n",
       "      <td>96</td>\n",
       "    </tr>\n",
       "    <tr>\n",
       "      <th>3</th>\n",
       "      <td>177</td>\n",
       "    </tr>\n",
       "    <tr>\n",
       "      <th>4</th>\n",
       "      <td>163</td>\n",
       "    </tr>\n",
       "    <tr>\n",
       "      <th>5</th>\n",
       "      <td>112</td>\n",
       "    </tr>\n",
       "  </tbody>\n",
       "</table>\n",
       "</div>"
      ],
      "text/plain": [
       "                  CustomerID\n",
       "Transaction_Date            \n",
       "1                        215\n",
       "2                         96\n",
       "3                        177\n",
       "4                        163\n",
       "5                        112"
      ]
     },
     "execution_count": 26,
     "metadata": {},
     "output_type": "execute_result"
    }
   ],
   "source": [
    "cust_transID=final.groupby('CustomerID')[['Transaction_Date']].min()\n",
    "cust_transID.reset_index(inplace=True)\n",
    "new_cust_per_month=cust_transID.groupby(cust_transID.Transaction_Date.dt.month)[['CustomerID']].count()\n",
    "new_cust_per_month.head()"
   ]
  },
  {
   "cell_type": "code",
   "execution_count": 27,
   "id": "a35c88a1-a767-42a0-884f-41e10a77cfb2",
   "metadata": {},
   "outputs": [
    {
     "data": {
      "image/png": "[encoded data removed]",
      "text/plain": [
       "<Figure size 640x480 with 1 Axes>"
      ]
     },
     "metadata": {},
     "output_type": "display_data"
    }
   ],
   "source": [
    "new_cust_per_month.plot(kind='bar')\n",
    "plt.xlabel('Month')\n",
    "plt.ylabel('new Customer Count')\n",
    "plt.title('new Customer Count by Month')\n",
    "plt.xticks(ticks=range(0,12),labels=['Jan', 'Feb', 'Mar', 'Apr', 'May', 'Jun', 'Jul', 'Aug', 'Sep', 'Oct', 'Nov', 'Dec'])\n",
    "plt.show()"
   ]
  },
  {
   "cell_type": "code",
   "execution_count": 28,
   "id": "42b195e8-9421-4c3e-ae9d-ef425cc0f497",
   "metadata": {},
   "outputs": [],
   "source": [
    "#  Understand the retention of customers on month on month basis"
   ]
  },
  {
   "cell_type": "code",
   "execution_count": 29,
   "id": "f4873622-dbd1-4e88-a790-032515ab4721",
   "metadata": {},
   "outputs": [],
   "source": [
    "month_custID=dict()\n",
    "for i in final['Month'].unique():\n",
    "    month_custID[i]=final[final['Month']==i]['CustomerID'].unique()"
   ]
  },
  {
   "cell_type": "code",
   "execution_count": 30,
   "id": "08b9b8e2-7abb-4bf5-8eed-8fd774430d8c",
   "metadata": {},
   "outputs": [],
   "source": [
    "retention=dict()\n",
    "month=final['Month'].unique()\n",
    "for i in range(11):\n",
    "    count=0\n",
    "    for j in month_custID[month[i+1]]:\n",
    "        if j in month_custID[month[i]]:\n",
    "            count+=1\n",
    "    retention[month[i+1]]=100*count/len(month_custID[month[i]])\n",
    "            "
   ]
  },
  {
   "cell_type": "code",
   "execution_count": 31,
   "id": "b0105468-cac3-4b6b-84fb-a0cc84bb9e50",
   "metadata": {},
   "outputs": [
    {
     "name": "stdout",
     "output_type": "stream",
     "text": [
      "{'jan': 0, 'Feb': 13, 'Mar': 11, 'Apr': 24, 'May': 25, 'Jun': 37, 'Jul': 58, 'Aug': 65, 'Sep': 44, 'Oct': 29, 'Nov': 31, 'Dec': 28}\n"
     ]
    }
   ],
   "source": [
    "retention=dict()\n",
    "retention['jan']=0\n",
    "month=final['Month'].unique()\n",
    "for i in range(11):\n",
    "    count=0\n",
    "    for j in month_custID[month[i]]:\n",
    "        if j in month_custID[month[i+1]]:\n",
    "            count+=1\n",
    "    # retention[month[i+1]]=100*count/len(month_custID[month[i]])\n",
    "    retention[month[i+1]]=count\n",
    "\n",
    "print(retention)"
   ]
  },
  {
   "cell_type": "code",
   "execution_count": 32,
   "id": "f65517cd-44c2-4f11-966d-f8f4cb2add50",
   "metadata": {},
   "outputs": [
    {
     "data": {
      "image/png": "[encoded data removed]",
      "text/plain": [
       "<Figure size 640x480 with 1 Axes>"
      ]
     },
     "metadata": {},
     "output_type": "display_data"
    }
   ],
   "source": [
    "sns.barplot(x=retention.keys(),y=retention.values())\n",
    "plt.xlabel('Month')\n",
    "plt.ylabel('retention of customers')\n",
    "plt.title('retention by Month')\n",
    "plt.show()"
   ]
  },
  {
   "cell_type": "code",
   "execution_count": 33,
   "id": "35cdd025-db85-427f-940d-dc074307515e",
   "metadata": {},
   "outputs": [],
   "source": [
    "#  How the revenues from existing/new customers on month on month basis"
   ]
  },
  {
   "cell_type": "code",
   "execution_count": 34,
   "id": "9d619ecf-edd0-4cf9-9004-86186f42b536",
   "metadata": {},
   "outputs": [],
   "source": [
    "all_cust_month={}\n",
    "for i in month:\n",
    "    all_cust_month[i]=final[final['Month']==i]['CustomerID'].unique()"
   ]
  },
  {
   "cell_type": "code",
   "execution_count": 35,
   "id": "6412f8e0-37b5-487d-9b32-e31edfa6e13f",
   "metadata": {},
   "outputs": [],
   "source": [
    "cust_transID['Month']=cust_transID.Transaction_Date.dt.strftime('%b')\n",
    "curr_cust={}\n",
    "for i in month:\n",
    "  curr_cust[i]=cust_transID[cust_transID['Month']==i]['CustomerID'].unique()"
   ]
  },
  {
   "cell_type": "code",
   "execution_count": 36,
   "id": "0bf69e28-0f7d-429e-a8be-e643e7cbb9e9",
   "metadata": {},
   "outputs": [],
   "source": [
    "exisiting_cust={}\n",
    "for i in month:\n",
    "    temp=[]\n",
    "    for j in all_cust_month[i]:\n",
    "        if j not in curr_cust[i]:\n",
    "            temp.append(j)\n",
    "    exisiting_cust[i]=temp\n"
   ]
  },
  {
   "cell_type": "code",
   "execution_count": 37,
   "id": "de0826b2-a914-4b00-b9ef-2cef4f0df586",
   "metadata": {},
   "outputs": [
    {
     "data": {
      "text/plain": [
       "dict_keys(['Jan', 'Feb', 'Mar', 'Apr', 'May', 'Jun', 'Jul', 'Aug', 'Sep', 'Oct', 'Nov', 'Dec'])"
      ]
     },
     "execution_count": 37,
     "metadata": {},
     "output_type": "execute_result"
    }
   ],
   "source": [
    "curr_cust.keys()"
   ]
  },
  {
   "cell_type": "code",
   "execution_count": 38,
   "id": "83023b18-161d-414a-9e41-017e5d93dd06",
   "metadata": {},
   "outputs": [],
   "source": [
    "curr_revenue={}\n",
    "exisiting_revenue={}\n",
    "\n",
    "for month,ids in curr_cust.items():\n",
    "        curr_revenue[month]=final[(final['CustomerID'].isin(ids)) & (final['Month']==month)]['invoice']\n",
    "        curr_revenue[month]=curr_revenue[month].sum()\n",
    "\n",
    "for month,ids in exisiting_cust.items():\n",
    "        exisiting_revenue[month]=final[(final['CustomerID'].isin(ids)) & (final['Month']==month)]['invoice']\n",
    "        exisiting_revenue[month]=exisiting_revenue[month].sum()"
   ]
  },
  {
   "cell_type": "code",
   "execution_count": 39,
   "id": "ae9ae406-be4d-402c-b32b-aa3d373eb7c6",
   "metadata": {},
   "outputs": [
    {
     "data": {
      "text/plain": [
       "'Dec'"
      ]
     },
     "execution_count": 39,
     "metadata": {},
     "output_type": "execute_result"
    }
   ],
   "source": [
    "month"
   ]
  },
  {
   "cell_type": "code",
   "execution_count": 40,
   "id": "cccc9080-520d-4e1a-b031-354fbda3991d",
   "metadata": {},
   "outputs": [
    {
     "data": {
      "text/plain": [
       "({'Jan': 494090.5487500001,\n",
       "  'Feb': 328637.45408000005,\n",
       "  'Mar': 346227.54936,\n",
       "  'Apr': 281512.70192,\n",
       "  'May': 233257.28268,\n",
       "  'Jun': 217334.50767999998,\n",
       "  'Jul': 180362.68404000002,\n",
       "  'Aug': 228883.77692000003,\n",
       "  'Sep': 162478.53499,\n",
       "  'Oct': 257474.16682,\n",
       "  'Nov': 234631.52196000004,\n",
       "  'Dec': 263414.92764},\n",
       " {'Jan': 0.0,\n",
       "  'Feb': 46524.59322,\n",
       "  'Mar': 68930.24108,\n",
       "  'Apr': 195985.8891,\n",
       "  'May': 132338.74688,\n",
       "  'Jun': 143665.66661000001,\n",
       "  'Jul': 271515.72500000003,\n",
       "  'Aug': 246913.09862,\n",
       "  'Sep': 234031.95755,\n",
       "  'Oct': 223293.20299,\n",
       "  'Nov': 313156.6043,\n",
       "  'Dec': 292697.36415000004})"
      ]
     },
     "execution_count": 40,
     "metadata": {},
     "output_type": "execute_result"
    }
   ],
   "source": [
    "curr_revenue,exisiting_revenue"
   ]
  },
  {
   "cell_type": "code",
   "execution_count": 41,
   "id": "ffa74848-ad86-4c07-a824-fa7723449425",
   "metadata": {},
   "outputs": [
    {
     "data": {
      "image/png": "[encoded data removed]",
      "text/plain": [
       "<Figure size 800x400 with 1 Axes>"
      ]
     },
     "metadata": {},
     "output_type": "display_data"
    }
   ],
   "source": [
    "plt.figure(figsize=(8, 4))\n",
    "x_axis=np.arange(0,12)\n",
    "month=['Jan', 'Feb', 'Mar', 'Apr', 'May', 'Jun', 'Jul', 'Aug', 'Sep', 'Oct', 'Nov', 'Dec']\n",
    "plt.bar(x_axis-0.2,curr_revenue.values(),0.4,label='New customers')\n",
    "plt.bar(x_axis+0.2,exisiting_revenue.values(),0.4,label='existing customers')\n",
    "plt.xticks(x_axis,month)\n",
    "plt.xlabel('Months')\n",
    "plt.ylabel('Revenue')\n",
    "plt.title('Monthly Revenue Comparison')\n",
    "plt.legend()\n",
    "\n",
    "plt.show()"
   ]
  },
  {
   "cell_type": "code",
   "execution_count": 42,
   "id": "45dd2884-21fb-4f5b-9077-db3a6816c203",
   "metadata": {},
   "outputs": [],
   "source": [
    "#  How the discounts playing role in the revenues?"
   ]
  },
  {
   "cell_type": "code",
   "execution_count": 43,
   "id": "33bd666e-aaba-4ced-a0c9-45c8bf4bb43d",
   "metadata": {},
   "outputs": [
    {
     "data": {
      "text/plain": [
       "Index(['CustomerID', 'Transaction_ID', 'Transaction_Date', 'Product_SKU',\n",
       "       'Product_Description', 'Product_Category', 'Quantity', 'Avg_Price',\n",
       "       'Delivery_Charges', 'Coupon_Status', 'Month', 'Year', 'Coupon_Code',\n",
       "       'Discount_pct', 'GST', 'invoice'],\n",
       "      dtype='object')"
      ]
     },
     "execution_count": 43,
     "metadata": {},
     "output_type": "execute_result"
    }
   ],
   "source": [
    "final.columns"
   ]
  },
  {
   "cell_type": "code",
   "execution_count": 44,
   "id": "daa0e023-08a6-499a-8266-ca3c783f74d3",
   "metadata": {},
   "outputs": [
    {
     "data": {
      "text/plain": [
       "Coupon_Status\n",
       "Clicked     2.925734e+06\n",
       "Not Used    8.973176e+05\n",
       "Used        1.574307e+06\n",
       "Name: invoice, dtype: float64"
      ]
     },
     "execution_count": 44,
     "metadata": {},
     "output_type": "execute_result"
    }
   ],
   "source": [
    "coupon_invoice=final.groupby('Coupon_Status')['invoice'].sum()\n",
    "coupon_invoice"
   ]
  },
  {
   "cell_type": "code",
   "execution_count": 45,
   "id": "7b43b3da-e442-4000-9037-a8ede9ee7cc4",
   "metadata": {},
   "outputs": [
    {
     "data": {
      "image/png": "[encoded data removed]",
      "text/plain": [
       "<Figure size 640x480 with 1 Axes>"
      ]
     },
     "metadata": {},
     "output_type": "display_data"
    }
   ],
   "source": [
    "plt.pie(coupon_invoice,labels=coupon_invoice.index,autopct='%1.1f%%')\n",
    "plt.title('Sum of Revenue by Coupon Usage')\n",
    "plt.show()"
   ]
  },
  {
   "cell_type": "code",
   "execution_count": 46,
   "id": "784dcc45-97a3-4797-80d4-b423d2a646f3",
   "metadata": {},
   "outputs": [],
   "source": [
    "#  Analyse KPI’s like Revenue, number of orders, average order value, number of\n",
    "# customers (existing/new), quantity, by category, by month, by week, by day etc…"
   ]
  },
  {
   "cell_type": "code",
   "execution_count": 47,
   "id": "30c30082-774c-40c2-bd2f-53c12fc77402",
   "metadata": {},
   "outputs": [
    {
     "data": {
      "text/plain": [
       "Index(['CustomerID', 'Transaction_ID', 'Transaction_Date', 'Product_SKU',\n",
       "       'Product_Description', 'Product_Category', 'Quantity', 'Avg_Price',\n",
       "       'Delivery_Charges', 'Coupon_Status', 'Month', 'Year', 'Coupon_Code',\n",
       "       'Discount_pct', 'GST', 'invoice'],\n",
       "      dtype='object')"
      ]
     },
     "execution_count": 47,
     "metadata": {},
     "output_type": "execute_result"
    }
   ],
   "source": [
    "final.columns"
   ]
  },
  {
   "cell_type": "code",
   "execution_count": 48,
   "id": "063864d7-a6fe-4506-b05d-6d53a2a7df0e",
   "metadata": {},
   "outputs": [],
   "source": [
    "final['Day']=final.Transaction_Date.dt.day_name()"
   ]
  },
  {
   "cell_type": "code",
   "execution_count": 49,
   "id": "d41bd528-79a3-4ab7-a1d3-66f5e310d1ee",
   "metadata": {},
   "outputs": [],
   "source": [
    "final['Week']=final['Transaction_Date'].dt.strftime('%U')"
   ]
  },
  {
   "cell_type": "code",
   "execution_count": 50,
   "id": "dee3e99d-2363-4731-8189-c33a32e4d658",
   "metadata": {},
   "outputs": [
    {
     "data": {
      "text/html": [
       "<div>\n",
       "<style scoped>\n",
       "    .dataframe tbody tr th:only-of-type {\n",
       "        vertical-align: middle;\n",
       "    }\n",
       "\n",
       "    .dataframe tbody tr th {\n",
       "        vertical-align: top;\n",
       "    }\n",
       "\n",
       "    .dataframe thead th {\n",
       "        text-align: right;\n",
       "    }\n",
       "</style>\n",
       "<table border=\"1\" class=\"dataframe\">\n",
       "  <thead>\n",
       "    <tr style=\"text-align: right;\">\n",
       "      <th></th>\n",
       "      <th>invoice</th>\n",
       "      <th>Transaction_ID</th>\n",
       "      <th>Quantity</th>\n",
       "    </tr>\n",
       "    <tr>\n",
       "      <th>Product_Category</th>\n",
       "      <th></th>\n",
       "      <th></th>\n",
       "      <th></th>\n",
       "    </tr>\n",
       "  </thead>\n",
       "  <tbody>\n",
       "    <tr>\n",
       "      <th>Accessories</th>\n",
       "      <td>1.019929e+04</td>\n",
       "      <td>234</td>\n",
       "      <td>1097</td>\n",
       "    </tr>\n",
       "    <tr>\n",
       "      <th>Android</th>\n",
       "      <td>1.116321e+03</td>\n",
       "      <td>43</td>\n",
       "      <td>45</td>\n",
       "    </tr>\n",
       "    <tr>\n",
       "      <th>Apparel</th>\n",
       "      <td>8.278292e+05</td>\n",
       "      <td>18126</td>\n",
       "      <td>32438</td>\n",
       "    </tr>\n",
       "    <tr>\n",
       "      <th>Backpacks</th>\n",
       "      <td>1.081288e+04</td>\n",
       "      <td>89</td>\n",
       "      <td>113</td>\n",
       "    </tr>\n",
       "    <tr>\n",
       "      <th>Bags</th>\n",
       "      <td>1.936266e+05</td>\n",
       "      <td>1882</td>\n",
       "      <td>15273</td>\n",
       "    </tr>\n",
       "    <tr>\n",
       "      <th>Bottles</th>\n",
       "      <td>1.017231e+04</td>\n",
       "      <td>268</td>\n",
       "      <td>2090</td>\n",
       "    </tr>\n",
       "    <tr>\n",
       "      <th>Drinkware</th>\n",
       "      <td>2.726220e+05</td>\n",
       "      <td>3483</td>\n",
       "      <td>30501</td>\n",
       "    </tr>\n",
       "    <tr>\n",
       "      <th>Fun</th>\n",
       "      <td>8.994542e+03</td>\n",
       "      <td>160</td>\n",
       "      <td>834</td>\n",
       "    </tr>\n",
       "    <tr>\n",
       "      <th>Gift Cards</th>\n",
       "      <td>1.944744e+04</td>\n",
       "      <td>159</td>\n",
       "      <td>206</td>\n",
       "    </tr>\n",
       "    <tr>\n",
       "      <th>Google</th>\n",
       "      <td>1.316881e+04</td>\n",
       "      <td>105</td>\n",
       "      <td>575</td>\n",
       "    </tr>\n",
       "    <tr>\n",
       "      <th>Headgear</th>\n",
       "      <td>5.786149e+04</td>\n",
       "      <td>771</td>\n",
       "      <td>3533</td>\n",
       "    </tr>\n",
       "    <tr>\n",
       "      <th>Housewares</th>\n",
       "      <td>7.042399e+03</td>\n",
       "      <td>122</td>\n",
       "      <td>2484</td>\n",
       "    </tr>\n",
       "    <tr>\n",
       "      <th>Lifestyle</th>\n",
       "      <td>1.252760e+05</td>\n",
       "      <td>3092</td>\n",
       "      <td>24881</td>\n",
       "    </tr>\n",
       "    <tr>\n",
       "      <th>More Bags</th>\n",
       "      <td>3.973113e+03</td>\n",
       "      <td>46</td>\n",
       "      <td>144</td>\n",
       "    </tr>\n",
       "    <tr>\n",
       "      <th>Nest</th>\n",
       "      <td>5.206537e+05</td>\n",
       "      <td>2198</td>\n",
       "      <td>2837</td>\n",
       "    </tr>\n",
       "    <tr>\n",
       "      <th>Nest-Canada</th>\n",
       "      <td>7.624576e+04</td>\n",
       "      <td>317</td>\n",
       "      <td>469</td>\n",
       "    </tr>\n",
       "    <tr>\n",
       "      <th>Nest-USA</th>\n",
       "      <td>2.721646e+06</td>\n",
       "      <td>14013</td>\n",
       "      <td>21430</td>\n",
       "    </tr>\n",
       "    <tr>\n",
       "      <th>Notebooks &amp; Journals</th>\n",
       "      <td>1.224193e+05</td>\n",
       "      <td>749</td>\n",
       "      <td>9556</td>\n",
       "    </tr>\n",
       "    <tr>\n",
       "      <th>Office</th>\n",
       "      <td>3.819453e+05</td>\n",
       "      <td>6513</td>\n",
       "      <td>88383</td>\n",
       "    </tr>\n",
       "    <tr>\n",
       "      <th>Waze</th>\n",
       "      <td>1.230659e+04</td>\n",
       "      <td>554</td>\n",
       "      <td>1144</td>\n",
       "    </tr>\n",
       "  </tbody>\n",
       "</table>\n",
       "</div>"
      ],
      "text/plain": [
       "                           invoice  Transaction_ID  Quantity\n",
       "Product_Category                                            \n",
       "Accessories           1.019929e+04             234      1097\n",
       "Android               1.116321e+03              43        45\n",
       "Apparel               8.278292e+05           18126     32438\n",
       "Backpacks             1.081288e+04              89       113\n",
       "Bags                  1.936266e+05            1882     15273\n",
       "Bottles               1.017231e+04             268      2090\n",
       "Drinkware             2.726220e+05            3483     30501\n",
       "Fun                   8.994542e+03             160       834\n",
       "Gift Cards            1.944744e+04             159       206\n",
       "Google                1.316881e+04             105       575\n",
       "Headgear              5.786149e+04             771      3533\n",
       "Housewares            7.042399e+03             122      2484\n",
       "Lifestyle             1.252760e+05            3092     24881\n",
       "More Bags             3.973113e+03              46       144\n",
       "Nest                  5.206537e+05            2198      2837\n",
       "Nest-Canada           7.624576e+04             317       469\n",
       "Nest-USA              2.721646e+06           14013     21430\n",
       "Notebooks & Journals  1.224193e+05             749      9556\n",
       "Office                3.819453e+05            6513     88383\n",
       "Waze                  1.230659e+04             554      1144"
      ]
     },
     "execution_count": 50,
     "metadata": {},
     "output_type": "execute_result"
    }
   ],
   "source": [
    "final.groupby('Product_Category').agg({'invoice':'sum','Transaction_ID':'count','Quantity':'sum'})"
   ]
  },
  {
   "cell_type": "code",
   "execution_count": 51,
   "id": "8ec2cdcf-d065-47cb-861b-d06c5f338c29",
   "metadata": {},
   "outputs": [
    {
     "data": {
      "text/html": [
       "<div>\n",
       "<style scoped>\n",
       "    .dataframe tbody tr th:only-of-type {\n",
       "        vertical-align: middle;\n",
       "    }\n",
       "\n",
       "    .dataframe tbody tr th {\n",
       "        vertical-align: top;\n",
       "    }\n",
       "\n",
       "    .dataframe thead th {\n",
       "        text-align: right;\n",
       "    }\n",
       "</style>\n",
       "<table border=\"1\" class=\"dataframe\">\n",
       "  <thead>\n",
       "    <tr style=\"text-align: right;\">\n",
       "      <th></th>\n",
       "      <th>invoice</th>\n",
       "      <th>Transaction_ID</th>\n",
       "      <th>Quantity</th>\n",
       "    </tr>\n",
       "    <tr>\n",
       "      <th>Month</th>\n",
       "      <th></th>\n",
       "      <th></th>\n",
       "      <th></th>\n",
       "    </tr>\n",
       "  </thead>\n",
       "  <tbody>\n",
       "    <tr>\n",
       "      <th>Apr</th>\n",
       "      <td>477498.59102</td>\n",
       "      <td>4150</td>\n",
       "      <td>25277</td>\n",
       "    </tr>\n",
       "    <tr>\n",
       "      <th>Aug</th>\n",
       "      <td>475796.87554</td>\n",
       "      <td>6150</td>\n",
       "      <td>27457</td>\n",
       "    </tr>\n",
       "    <tr>\n",
       "      <th>Dec</th>\n",
       "      <td>556112.29179</td>\n",
       "      <td>4502</td>\n",
       "      <td>12667</td>\n",
       "    </tr>\n",
       "    <tr>\n",
       "      <th>Feb</th>\n",
       "      <td>375162.04730</td>\n",
       "      <td>3284</td>\n",
       "      <td>16575</td>\n",
       "    </tr>\n",
       "    <tr>\n",
       "      <th>Jan</th>\n",
       "      <td>494090.54875</td>\n",
       "      <td>4063</td>\n",
       "      <td>20140</td>\n",
       "    </tr>\n",
       "    <tr>\n",
       "      <th>Jul</th>\n",
       "      <td>451878.40904</td>\n",
       "      <td>5251</td>\n",
       "      <td>22898</td>\n",
       "    </tr>\n",
       "    <tr>\n",
       "      <th>Jun</th>\n",
       "      <td>361000.17429</td>\n",
       "      <td>4193</td>\n",
       "      <td>21619</td>\n",
       "    </tr>\n",
       "    <tr>\n",
       "      <th>Mar</th>\n",
       "      <td>415157.79044</td>\n",
       "      <td>4346</td>\n",
       "      <td>20787</td>\n",
       "    </tr>\n",
       "    <tr>\n",
       "      <th>May</th>\n",
       "      <td>365596.02956</td>\n",
       "      <td>4572</td>\n",
       "      <td>18715</td>\n",
       "    </tr>\n",
       "    <tr>\n",
       "      <th>Nov</th>\n",
       "      <td>547788.12626</td>\n",
       "      <td>3961</td>\n",
       "      <td>15120</td>\n",
       "    </tr>\n",
       "    <tr>\n",
       "      <th>Oct</th>\n",
       "      <td>480767.36981</td>\n",
       "      <td>4164</td>\n",
       "      <td>17425</td>\n",
       "    </tr>\n",
       "    <tr>\n",
       "      <th>Sep</th>\n",
       "      <td>396510.49254</td>\n",
       "      <td>4288</td>\n",
       "      <td>19353</td>\n",
       "    </tr>\n",
       "  </tbody>\n",
       "</table>\n",
       "</div>"
      ],
      "text/plain": [
       "            invoice  Transaction_ID  Quantity\n",
       "Month                                        \n",
       "Apr    477498.59102            4150     25277\n",
       "Aug    475796.87554            6150     27457\n",
       "Dec    556112.29179            4502     12667\n",
       "Feb    375162.04730            3284     16575\n",
       "Jan    494090.54875            4063     20140\n",
       "Jul    451878.40904            5251     22898\n",
       "Jun    361000.17429            4193     21619\n",
       "Mar    415157.79044            4346     20787\n",
       "May    365596.02956            4572     18715\n",
       "Nov    547788.12626            3961     15120\n",
       "Oct    480767.36981            4164     17425\n",
       "Sep    396510.49254            4288     19353"
      ]
     },
     "execution_count": 51,
     "metadata": {},
     "output_type": "execute_result"
    }
   ],
   "source": [
    "final.groupby('Month').agg({'invoice':'sum','Transaction_ID':'count','Quantity':'sum'})"
   ]
  },
  {
   "cell_type": "code",
   "execution_count": 52,
   "id": "afa39999-123d-4b18-ad57-2c163b316b58",
   "metadata": {},
   "outputs": [
    {
     "data": {
      "text/html": [
       "<div>\n",
       "<style scoped>\n",
       "    .dataframe tbody tr th:only-of-type {\n",
       "        vertical-align: middle;\n",
       "    }\n",
       "\n",
       "    .dataframe tbody tr th {\n",
       "        vertical-align: top;\n",
       "    }\n",
       "\n",
       "    .dataframe thead th {\n",
       "        text-align: right;\n",
       "    }\n",
       "</style>\n",
       "<table border=\"1\" class=\"dataframe\">\n",
       "  <thead>\n",
       "    <tr style=\"text-align: right;\">\n",
       "      <th></th>\n",
       "      <th>invoice</th>\n",
       "      <th>Transaction_ID</th>\n",
       "      <th>Quantity</th>\n",
       "    </tr>\n",
       "    <tr>\n",
       "      <th>Month</th>\n",
       "      <th></th>\n",
       "      <th></th>\n",
       "      <th></th>\n",
       "    </tr>\n",
       "  </thead>\n",
       "  <tbody>\n",
       "    <tr>\n",
       "      <th>Apr</th>\n",
       "      <td>477498.59102</td>\n",
       "      <td>4150</td>\n",
       "      <td>25277</td>\n",
       "    </tr>\n",
       "    <tr>\n",
       "      <th>Aug</th>\n",
       "      <td>475796.87554</td>\n",
       "      <td>6150</td>\n",
       "      <td>27457</td>\n",
       "    </tr>\n",
       "    <tr>\n",
       "      <th>Dec</th>\n",
       "      <td>556112.29179</td>\n",
       "      <td>4502</td>\n",
       "      <td>12667</td>\n",
       "    </tr>\n",
       "    <tr>\n",
       "      <th>Feb</th>\n",
       "      <td>375162.04730</td>\n",
       "      <td>3284</td>\n",
       "      <td>16575</td>\n",
       "    </tr>\n",
       "    <tr>\n",
       "      <th>Jan</th>\n",
       "      <td>494090.54875</td>\n",
       "      <td>4063</td>\n",
       "      <td>20140</td>\n",
       "    </tr>\n",
       "    <tr>\n",
       "      <th>Jul</th>\n",
       "      <td>451878.40904</td>\n",
       "      <td>5251</td>\n",
       "      <td>22898</td>\n",
       "    </tr>\n",
       "    <tr>\n",
       "      <th>Jun</th>\n",
       "      <td>361000.17429</td>\n",
       "      <td>4193</td>\n",
       "      <td>21619</td>\n",
       "    </tr>\n",
       "    <tr>\n",
       "      <th>Mar</th>\n",
       "      <td>415157.79044</td>\n",
       "      <td>4346</td>\n",
       "      <td>20787</td>\n",
       "    </tr>\n",
       "    <tr>\n",
       "      <th>May</th>\n",
       "      <td>365596.02956</td>\n",
       "      <td>4572</td>\n",
       "      <td>18715</td>\n",
       "    </tr>\n",
       "    <tr>\n",
       "      <th>Nov</th>\n",
       "      <td>547788.12626</td>\n",
       "      <td>3961</td>\n",
       "      <td>15120</td>\n",
       "    </tr>\n",
       "    <tr>\n",
       "      <th>Oct</th>\n",
       "      <td>480767.36981</td>\n",
       "      <td>4164</td>\n",
       "      <td>17425</td>\n",
       "    </tr>\n",
       "    <tr>\n",
       "      <th>Sep</th>\n",
       "      <td>396510.49254</td>\n",
       "      <td>4288</td>\n",
       "      <td>19353</td>\n",
       "    </tr>\n",
       "  </tbody>\n",
       "</table>\n",
       "</div>"
      ],
      "text/plain": [
       "            invoice  Transaction_ID  Quantity\n",
       "Month                                        \n",
       "Apr    477498.59102            4150     25277\n",
       "Aug    475796.87554            6150     27457\n",
       "Dec    556112.29179            4502     12667\n",
       "Feb    375162.04730            3284     16575\n",
       "Jan    494090.54875            4063     20140\n",
       "Jul    451878.40904            5251     22898\n",
       "Jun    361000.17429            4193     21619\n",
       "Mar    415157.79044            4346     20787\n",
       "May    365596.02956            4572     18715\n",
       "Nov    547788.12626            3961     15120\n",
       "Oct    480767.36981            4164     17425\n",
       "Sep    396510.49254            4288     19353"
      ]
     },
     "execution_count": 52,
     "metadata": {},
     "output_type": "execute_result"
    }
   ],
   "source": [
    "final.groupby('Month').agg({'invoice':'sum','Transaction_ID':'count','Quantity':'sum'})"
   ]
  },
  {
   "cell_type": "code",
   "execution_count": 53,
   "id": "9910d2a6-9cbc-4c75-8770-bb78f3e0c3ce",
   "metadata": {},
   "outputs": [
    {
     "data": {
      "text/html": [
       "<div>\n",
       "<style scoped>\n",
       "    .dataframe tbody tr th:only-of-type {\n",
       "        vertical-align: middle;\n",
       "    }\n",
       "\n",
       "    .dataframe tbody tr th {\n",
       "        vertical-align: top;\n",
       "    }\n",
       "\n",
       "    .dataframe thead th {\n",
       "        text-align: right;\n",
       "    }\n",
       "</style>\n",
       "<table border=\"1\" class=\"dataframe\">\n",
       "  <thead>\n",
       "    <tr style=\"text-align: right;\">\n",
       "      <th></th>\n",
       "      <th>invoice</th>\n",
       "      <th>Transaction_ID</th>\n",
       "      <th>Quantity</th>\n",
       "    </tr>\n",
       "    <tr>\n",
       "      <th>Day</th>\n",
       "      <th></th>\n",
       "      <th></th>\n",
       "      <th></th>\n",
       "    </tr>\n",
       "  </thead>\n",
       "  <tbody>\n",
       "    <tr>\n",
       "      <th>Friday</th>\n",
       "      <td>998722.68836</td>\n",
       "      <td>9266</td>\n",
       "      <td>52433</td>\n",
       "    </tr>\n",
       "    <tr>\n",
       "      <th>Monday</th>\n",
       "      <td>412681.88924</td>\n",
       "      <td>4464</td>\n",
       "      <td>11983</td>\n",
       "    </tr>\n",
       "    <tr>\n",
       "      <th>Saturday</th>\n",
       "      <td>791133.55953</td>\n",
       "      <td>8177</td>\n",
       "      <td>37965</td>\n",
       "    </tr>\n",
       "    <tr>\n",
       "      <th>Sunday</th>\n",
       "      <td>813766.51229</td>\n",
       "      <td>8519</td>\n",
       "      <td>40056</td>\n",
       "    </tr>\n",
       "    <tr>\n",
       "      <th>Thursday</th>\n",
       "      <td>974511.96144</td>\n",
       "      <td>9000</td>\n",
       "      <td>44482</td>\n",
       "    </tr>\n",
       "    <tr>\n",
       "      <th>Tuesday</th>\n",
       "      <td>450233.69110</td>\n",
       "      <td>4611</td>\n",
       "      <td>11317</td>\n",
       "    </tr>\n",
       "    <tr>\n",
       "      <th>Wednesday</th>\n",
       "      <td>956308.44438</td>\n",
       "      <td>8887</td>\n",
       "      <td>39797</td>\n",
       "    </tr>\n",
       "  </tbody>\n",
       "</table>\n",
       "</div>"
      ],
      "text/plain": [
       "                invoice  Transaction_ID  Quantity\n",
       "Day                                              \n",
       "Friday     998722.68836            9266     52433\n",
       "Monday     412681.88924            4464     11983\n",
       "Saturday   791133.55953            8177     37965\n",
       "Sunday     813766.51229            8519     40056\n",
       "Thursday   974511.96144            9000     44482\n",
       "Tuesday    450233.69110            4611     11317\n",
       "Wednesday  956308.44438            8887     39797"
      ]
     },
     "execution_count": 53,
     "metadata": {},
     "output_type": "execute_result"
    }
   ],
   "source": [
    "final.groupby('Day').agg({'invoice':'sum','Transaction_ID':'count','Quantity':'sum'})"
   ]
  },
  {
   "cell_type": "code",
   "execution_count": 54,
   "id": "b7aa2143-50f2-41ea-af7e-42c9790c07a0",
   "metadata": {},
   "outputs": [
    {
     "data": {
      "text/html": [
       "<div>\n",
       "<style scoped>\n",
       "    .dataframe tbody tr th:only-of-type {\n",
       "        vertical-align: middle;\n",
       "    }\n",
       "\n",
       "    .dataframe tbody tr th {\n",
       "        vertical-align: top;\n",
       "    }\n",
       "\n",
       "    .dataframe thead th {\n",
       "        text-align: right;\n",
       "    }\n",
       "</style>\n",
       "<table border=\"1\" class=\"dataframe\">\n",
       "  <thead>\n",
       "    <tr style=\"text-align: right;\">\n",
       "      <th></th>\n",
       "      <th>invoice</th>\n",
       "      <th>Transaction_ID</th>\n",
       "      <th>Quantity</th>\n",
       "    </tr>\n",
       "    <tr>\n",
       "      <th>Week</th>\n",
       "      <th></th>\n",
       "      <th></th>\n",
       "      <th></th>\n",
       "    </tr>\n",
       "  </thead>\n",
       "  <tbody>\n",
       "    <tr>\n",
       "      <th>00</th>\n",
       "      <td>94214.95841</td>\n",
       "      <td>769</td>\n",
       "      <td>4420</td>\n",
       "    </tr>\n",
       "    <tr>\n",
       "      <th>01</th>\n",
       "      <td>104226.96590</td>\n",
       "      <td>838</td>\n",
       "      <td>5195</td>\n",
       "    </tr>\n",
       "    <tr>\n",
       "      <th>02</th>\n",
       "      <td>109198.85060</td>\n",
       "      <td>870</td>\n",
       "      <td>4178</td>\n",
       "    </tr>\n",
       "    <tr>\n",
       "      <th>03</th>\n",
       "      <td>105101.43654</td>\n",
       "      <td>897</td>\n",
       "      <td>3457</td>\n",
       "    </tr>\n",
       "    <tr>\n",
       "      <th>04</th>\n",
       "      <td>113476.50478</td>\n",
       "      <td>958</td>\n",
       "      <td>4298</td>\n",
       "    </tr>\n",
       "  </tbody>\n",
       "</table>\n",
       "</div>"
      ],
      "text/plain": [
       "           invoice  Transaction_ID  Quantity\n",
       "Week                                        \n",
       "00     94214.95841             769      4420\n",
       "01    104226.96590             838      5195\n",
       "02    109198.85060             870      4178\n",
       "03    105101.43654             897      3457\n",
       "04    113476.50478             958      4298"
      ]
     },
     "execution_count": 54,
     "metadata": {},
     "output_type": "execute_result"
    }
   ],
   "source": [
    "final.groupby('Week').agg({'invoice':'sum','Transaction_ID':'count','Quantity':'sum'}).head()"
   ]
  },
  {
   "cell_type": "code",
   "execution_count": 55,
   "id": "9bf4f5aa-39c3-419f-b57c-4d9caa825b43",
   "metadata": {},
   "outputs": [],
   "source": [
    "#  Understand the trends/seasonality of sales by category, location, month etc…"
   ]
  },
  {
   "cell_type": "code",
   "execution_count": 56,
   "id": "403fa335-72a7-4333-9257-3174687feef3",
   "metadata": {},
   "outputs": [
    {
     "data": {
      "text/plain": [
       "Index(['CustomerID', 'Transaction_ID', 'Transaction_Date', 'Product_SKU',\n",
       "       'Product_Description', 'Product_Category', 'Quantity', 'Avg_Price',\n",
       "       'Delivery_Charges', 'Coupon_Status', 'Month', 'Year', 'Coupon_Code',\n",
       "       'Discount_pct', 'GST', 'invoice', 'Day', 'Week', 'Gender', 'Location',\n",
       "       'Tenure_Months'],\n",
       "      dtype='object')"
      ]
     },
     "execution_count": 56,
     "metadata": {},
     "output_type": "execute_result"
    }
   ],
   "source": [
    "final_customer=final.merge(customer,on='CustomerID',how='left')\n",
    "final_customer.columns"
   ]
  },
  {
   "cell_type": "code",
   "execution_count": 57,
   "id": "45e9615f-4520-47dd-9dd3-2f870a6d2852",
   "metadata": {},
   "outputs": [
    {
     "data": {
      "text/plain": [
       "array(['Chicago', 'California', 'New York', 'New Jersey', 'Washington DC'],\n",
       "      dtype=object)"
      ]
     },
     "execution_count": 57,
     "metadata": {},
     "output_type": "execute_result"
    }
   ],
   "source": [
    "customer.Location.unique()"
   ]
  },
  {
   "cell_type": "code",
   "execution_count": 58,
   "id": "e5c07019-03ed-4a6b-9f2f-712da97f2be5",
   "metadata": {},
   "outputs": [
    {
     "data": {
      "text/html": [
       "<div>\n",
       "<style scoped>\n",
       "    .dataframe tbody tr th:only-of-type {\n",
       "        vertical-align: middle;\n",
       "    }\n",
       "\n",
       "    .dataframe tbody tr th {\n",
       "        vertical-align: top;\n",
       "    }\n",
       "\n",
       "    .dataframe thead th {\n",
       "        text-align: right;\n",
       "    }\n",
       "</style>\n",
       "<table border=\"1\" class=\"dataframe\">\n",
       "  <thead>\n",
       "    <tr style=\"text-align: right;\">\n",
       "      <th></th>\n",
       "      <th>Month</th>\n",
       "      <th>Product_Category</th>\n",
       "      <th>invoice</th>\n",
       "    </tr>\n",
       "  </thead>\n",
       "  <tbody>\n",
       "    <tr>\n",
       "      <th>0</th>\n",
       "      <td>Apr</td>\n",
       "      <td>Accessories</td>\n",
       "      <td>203.15710</td>\n",
       "    </tr>\n",
       "    <tr>\n",
       "      <th>1</th>\n",
       "      <td>Apr</td>\n",
       "      <td>Android</td>\n",
       "      <td>54.77910</td>\n",
       "    </tr>\n",
       "    <tr>\n",
       "      <th>2</th>\n",
       "      <td>Apr</td>\n",
       "      <td>Apparel</td>\n",
       "      <td>114793.01718</td>\n",
       "    </tr>\n",
       "    <tr>\n",
       "      <th>3</th>\n",
       "      <td>Apr</td>\n",
       "      <td>Backpacks</td>\n",
       "      <td>1292.94400</td>\n",
       "    </tr>\n",
       "    <tr>\n",
       "      <th>4</th>\n",
       "      <td>Apr</td>\n",
       "      <td>Bags</td>\n",
       "      <td>14762.73648</td>\n",
       "    </tr>\n",
       "  </tbody>\n",
       "</table>\n",
       "</div>"
      ],
      "text/plain": [
       "  Month Product_Category       invoice\n",
       "0   Apr      Accessories     203.15710\n",
       "1   Apr          Android      54.77910\n",
       "2   Apr          Apparel  114793.01718\n",
       "3   Apr        Backpacks    1292.94400\n",
       "4   Apr             Bags   14762.73648"
      ]
     },
     "execution_count": 58,
     "metadata": {},
     "output_type": "execute_result"
    }
   ],
   "source": [
    "month_cat_revenue=final_customer.groupby(['Month','Product_Category'])[['invoice']].sum().reset_index()\n",
    "month_cat_revenue.head()"
   ]
  },
  {
   "cell_type": "code",
   "execution_count": 59,
   "id": "48f9c8e1-7954-409a-81b9-329e86da0ec8",
   "metadata": {},
   "outputs": [
    {
     "data": {
      "image/png": "[encoded data removed]",
      "text/plain": [
       "<Figure size 500x300 with 1 Axes>"
      ]
     },
     "metadata": {},
     "output_type": "display_data"
    },
    {
     "data": {
      "image/png": "[encoded data removed]",
      "text/plain": [
       "<Figure size 500x300 with 1 Axes>"
      ]
     },
     "metadata": {},
     "output_type": "display_data"
    },
    {
     "data": {
      "image/png": "[encoded data removed]",
      "text/plain": [
       "<Figure size 500x300 with 1 Axes>"
      ]
     },
     "metadata": {},
     "output_type": "display_data"
    },
    {
     "data": {
      "image/png": "[encoded data removed]",
      "text/plain": [
       "<Figure size 500x300 with 1 Axes>"
      ]
     },
     "metadata": {},
     "output_type": "display_data"
    },
    {
     "data": {
      "image/png": "[encoded data removed]",
      "text/plain": [
       "<Figure size 500x300 with 1 Axes>"
      ]
     },
     "metadata": {},
     "output_type": "display_data"
    },
    {
     "data": {
      "image/png": "[encoded data removed]",
      "text/plain": [
       "<Figure size 500x300 with 1 Axes>"
      ]
     },
     "metadata": {},
     "output_type": "display_data"
    },
    {
     "data": {
      "image/png": "[encoded data removed]",
      "text/plain": [
       "<Figure size 500x300 with 1 Axes>"
      ]
     },
     "metadata": {},
     "output_type": "display_data"
    },
    {
     "data": {
      "image/png": "[encoded data removed]",
      "text/plain": [
       "<Figure size 500x300 with 1 Axes>"
      ]
     },
     "metadata": {},
     "output_type": "display_data"
    },
    {
     "data": {
      "image/png": "[encoded data removed]",
      "text/plain": [
       "<Figure size 500x300 with 1 Axes>"
      ]
     },
     "metadata": {},
     "output_type": "display_data"
    },
    {
     "data": {
      "image/png": "[encoded data removed]",
      "text/plain": [
       "<Figure size 500x300 with 1 Axes>"
      ]
     },
     "metadata": {},
     "output_type": "display_data"
    },
    {
     "data": {
      "image/png": "[encoded data removed]",
      "text/plain": [
       "<Figure size 500x300 with 1 Axes>"
      ]
     },
     "metadata": {},
     "output_type": "display_data"
    },
    {
     "data": {
      "image/png": "[encoded data removed]",
      "text/plain": [
       "<Figure size 500x300 with 1 Axes>"
      ]
     },
     "metadata": {},
     "output_type": "display_data"
    }
   ],
   "source": [
    "for i in month_cat_revenue.Month.unique():\n",
    "    df=month_cat_revenue[month_cat_revenue['Month']==i][['Product_Category','invoice']]\n",
    "    plt.figure(figsize=(5,3))\n",
    "    plt.pie(df.invoice,labels=df.Product_Category, startangle=90,textprops={'fontsize': 6},labeldistance=1.2)\n",
    "    plt.title(i)\n",
    "    plt.show()"
   ]
  },
  {
   "cell_type": "code",
   "execution_count": 60,
   "id": "85e79bf5-7292-4fe7-b4f3-407a45b1db9c",
   "metadata": {},
   "outputs": [],
   "source": [
    "#  Calculate the Revenue, Marketing spend, percentage of marketing spend out of\n",
    "# revenue, Tax, percentage of delivery charges by month."
   ]
  },
  {
   "cell_type": "code",
   "execution_count": 61,
   "id": "db585be7-6341-4b32-8b45-a9402b5d8562",
   "metadata": {},
   "outputs": [],
   "source": [
    "market['Date']=pd.to_datetime(market['Date'],format='%m/%d/%Y')\n",
    "market['Month']=market['Date'].dt.strftime('%b')\n",
    "market['Total_spend']=market.Offline_Spend+market.Online_Spend"
   ]
  },
  {
   "cell_type": "code",
   "execution_count": 62,
   "id": "8b7d5772-5b2f-49fd-89b8-dd1213e64eeb",
   "metadata": {},
   "outputs": [
    {
     "data": {
      "text/html": [
       "<div>\n",
       "<style scoped>\n",
       "    .dataframe tbody tr th:only-of-type {\n",
       "        vertical-align: middle;\n",
       "    }\n",
       "\n",
       "    .dataframe tbody tr th {\n",
       "        vertical-align: top;\n",
       "    }\n",
       "\n",
       "    .dataframe thead th {\n",
       "        text-align: right;\n",
       "    }\n",
       "</style>\n",
       "<table border=\"1\" class=\"dataframe\">\n",
       "  <thead>\n",
       "    <tr style=\"text-align: right;\">\n",
       "      <th></th>\n",
       "      <th>Month</th>\n",
       "      <th>Total_spend</th>\n",
       "      <th>invoice</th>\n",
       "      <th>Discount_pct</th>\n",
       "      <th>GST</th>\n",
       "      <th>Delivery_Charges</th>\n",
       "      <th>market_spend_%</th>\n",
       "      <th>Delivery_Charges_%</th>\n",
       "    </tr>\n",
       "  </thead>\n",
       "  <tbody>\n",
       "    <tr>\n",
       "      <th>0</th>\n",
       "      <td>Apr</td>\n",
       "      <td>157026.83</td>\n",
       "      <td>477498.59102</td>\n",
       "      <td>9.874699</td>\n",
       "      <td>0.142545</td>\n",
       "      <td>41481.74</td>\n",
       "      <td>32.885297</td>\n",
       "      <td>8.687301</td>\n",
       "    </tr>\n",
       "    <tr>\n",
       "      <th>1</th>\n",
       "      <td>Aug</td>\n",
       "      <td>142904.15</td>\n",
       "      <td>475796.87554</td>\n",
       "      <td>19.876423</td>\n",
       "      <td>0.148522</td>\n",
       "      <td>61099.57</td>\n",
       "      <td>30.034697</td>\n",
       "      <td>12.841524</td>\n",
       "    </tr>\n",
       "    <tr>\n",
       "      <th>2</th>\n",
       "      <td>Dec</td>\n",
       "      <td>198648.75</td>\n",
       "      <td>556112.29179</td>\n",
       "      <td>30.000000</td>\n",
       "      <td>0.121919</td>\n",
       "      <td>37881.99</td>\n",
       "      <td>35.720978</td>\n",
       "      <td>6.811932</td>\n",
       "    </tr>\n",
       "    <tr>\n",
       "      <th>3</th>\n",
       "      <td>Feb</td>\n",
       "      <td>137107.92</td>\n",
       "      <td>375162.04730</td>\n",
       "      <td>19.762485</td>\n",
       "      <td>0.136114</td>\n",
       "      <td>49216.60</td>\n",
       "      <td>36.546319</td>\n",
       "      <td>13.118758</td>\n",
       "    </tr>\n",
       "    <tr>\n",
       "      <th>4</th>\n",
       "      <td>Jan</td>\n",
       "      <td>154928.95</td>\n",
       "      <td>494090.54875</td>\n",
       "      <td>9.901551</td>\n",
       "      <td>0.131691</td>\n",
       "      <td>59242.32</td>\n",
       "      <td>31.356388</td>\n",
       "      <td>11.990175</td>\n",
       "    </tr>\n",
       "  </tbody>\n",
       "</table>\n",
       "</div>"
      ],
      "text/plain": [
       "  Month  Total_spend       invoice  Discount_pct       GST  Delivery_Charges  \\\n",
       "0   Apr    157026.83  477498.59102      9.874699  0.142545          41481.74   \n",
       "1   Aug    142904.15  475796.87554     19.876423  0.148522          61099.57   \n",
       "2   Dec    198648.75  556112.29179     30.000000  0.121919          37881.99   \n",
       "3   Feb    137107.92  375162.04730     19.762485  0.136114          49216.60   \n",
       "4   Jan    154928.95  494090.54875      9.901551  0.131691          59242.32   \n",
       "\n",
       "   market_spend_%  Delivery_Charges_%  \n",
       "0       32.885297            8.687301  \n",
       "1       30.034697           12.841524  \n",
       "2       35.720978            6.811932  \n",
       "3       36.546319           13.118758  \n",
       "4       31.356388           11.990175  "
      ]
     },
     "execution_count": 62,
     "metadata": {},
     "output_type": "execute_result"
    }
   ],
   "source": [
    "x = market.groupby('Month')['Total_spend'].sum().reset_index()\n",
    "y = final.groupby('Month')['invoice'].sum().reset_index()\n",
    "z = final.groupby('Month')['Discount_pct'].mean().reset_index()\n",
    "tax_avg = final.groupby('Month')['GST'].mean().reset_index()\n",
    "deli_charg = final.groupby('Month')['Delivery_Charges'].sum().reset_index()\n",
    "\n",
    "result = x.merge(y, on='Month', how='inner')\n",
    "result = result.merge(z, on='Month', how='inner')\n",
    "result = result.merge(tax_avg, on='Month', how='inner')\n",
    "result = result.merge(deli_charg, on='Month', how='inner')\n",
    "\n",
    "result['market_spend_%'] = (result['Total_spend']*100)/result['invoice']\n",
    "result['Delivery_Charges_%'] = (result['Delivery_Charges']*100)/result['invoice']\n",
    "\n",
    "result.head()"
   ]
  },
  {
   "cell_type": "code",
   "execution_count": 63,
   "id": "8348b6d7-ba4d-40ab-a280-5e6ede701eab",
   "metadata": {},
   "outputs": [],
   "source": [
    "#  How marketing spend is impacting on revenue?"
   ]
  },
  {
   "cell_type": "code",
   "execution_count": 64,
   "id": "cfd59998-a260-44a9-a56e-81d34f6962af",
   "metadata": {},
   "outputs": [
    {
     "name": "stdout",
     "output_type": "stream",
     "text": [
      "0.79628352475623\n"
     ]
    }
   ],
   "source": [
    "correlation=result['Total_spend'].corr(result['invoice'])\n",
    "print(correlation)\n",
    "## correlation is >0.5, which means speding and revenue is direclty proportional to each other"
   ]
  },
  {
   "cell_type": "code",
   "execution_count": 65,
   "id": "0d351e83-9df0-4cb6-b8a9-77d0548c92e6",
   "metadata": {},
   "outputs": [],
   "source": [
    "#  Which product was appeared in the transactions?"
   ]
  },
  {
   "cell_type": "code",
   "execution_count": 66,
   "id": "b6132c54-468d-4bbd-a4fa-0de6226dff90",
   "metadata": {},
   "outputs": [
    {
     "data": {
      "text/html": [
       "<div>\n",
       "<style scoped>\n",
       "    .dataframe tbody tr th:only-of-type {\n",
       "        vertical-align: middle;\n",
       "    }\n",
       "\n",
       "    .dataframe tbody tr th {\n",
       "        vertical-align: top;\n",
       "    }\n",
       "\n",
       "    .dataframe thead th {\n",
       "        text-align: right;\n",
       "    }\n",
       "</style>\n",
       "<table border=\"1\" class=\"dataframe\">\n",
       "  <thead>\n",
       "    <tr style=\"text-align: right;\">\n",
       "      <th></th>\n",
       "      <th>Transaction_ID</th>\n",
       "    </tr>\n",
       "    <tr>\n",
       "      <th>Product_Description</th>\n",
       "      <th></th>\n",
       "    </tr>\n",
       "  </thead>\n",
       "  <tbody>\n",
       "    <tr>\n",
       "      <th>Nest Learning Thermostat 3rd Gen-USA - Stainless Steel</th>\n",
       "      <td>3511</td>\n",
       "    </tr>\n",
       "    <tr>\n",
       "      <th>Nest Cam Outdoor Security Camera - USA</th>\n",
       "      <td>3328</td>\n",
       "    </tr>\n",
       "    <tr>\n",
       "      <th>Nest Cam Indoor Security Camera - USA</th>\n",
       "      <td>3230</td>\n",
       "    </tr>\n",
       "    <tr>\n",
       "      <th>Google Sunglasses</th>\n",
       "      <td>1523</td>\n",
       "    </tr>\n",
       "    <tr>\n",
       "      <th>Nest Protect Smoke + CO White Battery Alarm-USA</th>\n",
       "      <td>1361</td>\n",
       "    </tr>\n",
       "  </tbody>\n",
       "</table>\n",
       "</div>"
      ],
      "text/plain": [
       "                                                    Transaction_ID\n",
       "Product_Description                                               \n",
       "Nest Learning Thermostat 3rd Gen-USA - Stainles...            3511\n",
       "Nest Cam Outdoor Security Camera - USA                        3328\n",
       "Nest Cam Indoor Security Camera - USA                         3230\n",
       "Google Sunglasses                                             1523\n",
       "Nest Protect Smoke + CO White Battery Alarm-USA               1361"
      ]
     },
     "execution_count": 66,
     "metadata": {},
     "output_type": "execute_result"
    }
   ],
   "source": [
    "final.groupby('Product_Description')[['Transaction_ID']].count().nlargest(n=5,columns='Transaction_ID')"
   ]
  },
  {
   "cell_type": "code",
   "execution_count": 67,
   "id": "4680ceac-6914-4350-9132-0512d34cac05",
   "metadata": {},
   "outputs": [],
   "source": [
    "#  Which product was purchased mostly based on the quantity?"
   ]
  },
  {
   "cell_type": "code",
   "execution_count": 68,
   "id": "8879af89-0037-4639-a607-eaa4ce7f6f05",
   "metadata": {},
   "outputs": [
    {
     "data": {
      "text/html": [
       "<div>\n",
       "<style scoped>\n",
       "    .dataframe tbody tr th:only-of-type {\n",
       "        vertical-align: middle;\n",
       "    }\n",
       "\n",
       "    .dataframe tbody tr th {\n",
       "        vertical-align: top;\n",
       "    }\n",
       "\n",
       "    .dataframe thead th {\n",
       "        text-align: right;\n",
       "    }\n",
       "</style>\n",
       "<table border=\"1\" class=\"dataframe\">\n",
       "  <thead>\n",
       "    <tr style=\"text-align: right;\">\n",
       "      <th></th>\n",
       "      <th>Quantity</th>\n",
       "    </tr>\n",
       "    <tr>\n",
       "      <th>Product_Description</th>\n",
       "      <th></th>\n",
       "    </tr>\n",
       "  </thead>\n",
       "  <tbody>\n",
       "    <tr>\n",
       "      <th>Maze Pen</th>\n",
       "      <td>16234</td>\n",
       "    </tr>\n",
       "    <tr>\n",
       "      <th>Google 22 oz Water Bottle</th>\n",
       "      <td>14282</td>\n",
       "    </tr>\n",
       "    <tr>\n",
       "      <th>Google Sunglasses</th>\n",
       "      <td>11452</td>\n",
       "    </tr>\n",
       "    <tr>\n",
       "      <th>Sport Bag</th>\n",
       "      <td>7321</td>\n",
       "    </tr>\n",
       "    <tr>\n",
       "      <th>Google Metallic Notebook Set</th>\n",
       "      <td>6496</td>\n",
       "    </tr>\n",
       "  </tbody>\n",
       "</table>\n",
       "</div>"
      ],
      "text/plain": [
       "                              Quantity\n",
       "Product_Description                   \n",
       "Maze Pen                         16234\n",
       "Google 22 oz Water Bottle        14282\n",
       "Google Sunglasses                11452\n",
       "Sport Bag                         7321\n",
       "Google Metallic Notebook Set      6496"
      ]
     },
     "execution_count": 68,
     "metadata": {},
     "output_type": "execute_result"
    }
   ],
   "source": [
    "# top 5 most purchased products\n",
    "final.groupby('Product_Description')[['Quantity']].sum().nlargest(n=5,columns='Quantity')"
   ]
  },
  {
   "cell_type": "markdown",
   "id": "8b46e630-d519-41da-ab37-a4c3ee454bea",
   "metadata": {},
   "source": [
    "### 3. Performing Customer Segmentation"
   ]
  },
  {
   "cell_type": "code",
   "execution_count": 70,
   "id": "9d895550-0da8-4766-86d1-cb144f243070",
   "metadata": {},
   "outputs": [],
   "source": [
    "#  Heuristic (Value based, RFM) – Divide the customers into Premium, Gold, Silver,\n",
    "# Standard customers and define strategy on the same."
   ]
  },
  {
   "cell_type": "code",
   "execution_count": 71,
   "id": "4287cf01-cac6-4f73-b6e9-57aa51c441b2",
   "metadata": {},
   "outputs": [],
   "source": [
    "today=pd.to_datetime(datetime.datetime.today())"
   ]
  },
  {
   "cell_type": "code",
   "execution_count": 72,
   "id": "7e59837f-f1e3-4d0c-84c5-844758111e28",
   "metadata": {},
   "outputs": [],
   "source": [
    "cust_segment=final.groupby('CustomerID').agg({'Transaction_Date':lambda x:(today-x.max()).days,'CustomerID':'count','invoice':'mean'})"
   ]
  },
  {
   "cell_type": "code",
   "execution_count": 73,
   "id": "4e8d65a3-3d12-44eb-abc8-b12ab2c5fcd1",
   "metadata": {},
   "outputs": [
    {
     "data": {
      "text/html": [
       "<div>\n",
       "<style scoped>\n",
       "    .dataframe tbody tr th:only-of-type {\n",
       "        vertical-align: middle;\n",
       "    }\n",
       "\n",
       "    .dataframe tbody tr th {\n",
       "        vertical-align: top;\n",
       "    }\n",
       "\n",
       "    .dataframe thead th {\n",
       "        text-align: right;\n",
       "    }\n",
       "</style>\n",
       "<table border=\"1\" class=\"dataframe\">\n",
       "  <thead>\n",
       "    <tr style=\"text-align: right;\">\n",
       "      <th></th>\n",
       "      <th>recency</th>\n",
       "      <th>frequency</th>\n",
       "      <th>monetary</th>\n",
       "    </tr>\n",
       "    <tr>\n",
       "      <th>CustomerID</th>\n",
       "      <th></th>\n",
       "      <th></th>\n",
       "      <th></th>\n",
       "    </tr>\n",
       "  </thead>\n",
       "  <tbody>\n",
       "    <tr>\n",
       "      <th>12346</th>\n",
       "      <td>1978</td>\n",
       "      <td>2</td>\n",
       "      <td>87.490870</td>\n",
       "    </tr>\n",
       "    <tr>\n",
       "      <th>12347</th>\n",
       "      <td>1930</td>\n",
       "      <td>60</td>\n",
       "      <td>261.447399</td>\n",
       "    </tr>\n",
       "  </tbody>\n",
       "</table>\n",
       "</div>"
      ],
      "text/plain": [
       "            recency  frequency    monetary\n",
       "CustomerID                                \n",
       "12346          1978          2   87.490870\n",
       "12347          1930         60  261.447399"
      ]
     },
     "execution_count": 73,
     "metadata": {},
     "output_type": "execute_result"
    }
   ],
   "source": [
    "cust_segment.columns=['recency','frequency','monetary']\n",
    "cust_segment.head(2)"
   ]
  },
  {
   "cell_type": "code",
   "execution_count": 74,
   "id": "44148a5b-7355-4ba1-9630-a033622e4511",
   "metadata": {},
   "outputs": [],
   "source": [
    "r_t=[0,cust_segment['recency'].quantile(0.25),cust_segment['recency'].quantile(0.50),cust_segment['recency'].quantile(0.75),float('inf')]\n",
    "f_t=[0,cust_segment['frequency'].quantile(0.25),cust_segment['frequency'].quantile(0.50),cust_segment['frequency'].quantile(0.75),float('inf')]\n",
    "m_t=[0,cust_segment['monetary'].quantile(0.25),cust_segment['monetary'].quantile(0.50),cust_segment['monetary'].quantile(0.75),float('inf')]\n",
    "#float('inf') ensures that the highest values are included in the last bin."
   ]
  },
  {
   "cell_type": "code",
   "execution_count": 75,
   "id": "358ec80b-5f25-44ae-8bb6-2e5a38966f31",
   "metadata": {},
   "outputs": [],
   "source": [
    "cust_segment['r_Segment']=pd.cut(cust_segment['recency'],r_t,labels=False)+1\n",
    "cust_segment['f_Segment']=pd.cut(cust_segment['frequency'],f_t,labels=False)+1\n",
    "cust_segment['m_Segment']=pd.cut(cust_segment['monetary'],m_t,labels=False)+1\n",
    "cust_segment['rfm']=cust_segment['r_Segment'] * 10 + cust_segment['f_Segment'] * 10 + cust_segment['m_Segment']*10"
   ]
  },
  {
   "cell_type": "code",
   "execution_count": 76,
   "id": "cdd04060-193e-4089-92e5-4e8c6feed168",
   "metadata": {},
   "outputs": [],
   "source": [
    "cust_segment['class']=pd.cut(cust_segment['rfm'],4,labels=['Standard','Silver','Gold','Premium'])"
   ]
  },
  {
   "cell_type": "code",
   "execution_count": 77,
   "id": "5facf3f6-8234-4c79-bc6b-321041499401",
   "metadata": {},
   "outputs": [
    {
     "data": {
      "image/png": "[encoded data removed]",
      "text/plain": [
       "<Figure size 640x480 with 1 Axes>"
      ]
     },
     "metadata": {},
     "output_type": "display_data"
    }
   ],
   "source": [
    "plt.pie(cust_segment['class'].value_counts().values,labels=cust_segment['class'].value_counts().index,autopct='%1.1f%%')\n",
    "plt.show()"
   ]
  },
  {
   "cell_type": "code",
   "execution_count": 78,
   "id": "e054e70d-2b0b-4004-a558-40954d93e834",
   "metadata": {},
   "outputs": [],
   "source": [
    "#  Scientific (Using K-Means) & Understand the profiles."
   ]
  },
  {
   "cell_type": "code",
   "execution_count": 79,
   "id": "a3037ec8-75e6-432a-aaee-113b65b67ff3",
   "metadata": {},
   "outputs": [],
   "source": [
    "km=KMeans(n_clusters=4,random_state=42)"
   ]
  },
  {
   "cell_type": "code",
   "execution_count": 80,
   "id": "08f92c28-4cda-45ae-97b9-1f7028dc3269",
   "metadata": {},
   "outputs": [],
   "source": [
    "cust_segment['r_c']=km.fit_predict(cust_segment[['recency']])\n",
    "cust_segment['f_c']=km.fit_predict(cust_segment[['frequency']])\n",
    "cust_segment['m_c']=km.fit_predict(cust_segment[['monetary']])"
   ]
  },
  {
   "cell_type": "code",
   "execution_count": 81,
   "id": "1e611713-4965-4341-b937-1e2cc5a23d1d",
   "metadata": {},
   "outputs": [],
   "source": [
    "cust_segment['overall_rfm']=cust_segment['r_c']+cust_segment['f_c']+cust_segment['m_c']"
   ]
  },
  {
   "cell_type": "code",
   "execution_count": 82,
   "id": "4be00725-ce1d-465a-b822-af5fc3afea19",
   "metadata": {},
   "outputs": [
    {
     "data": {
      "text/plain": [
       "overall_rfm\n",
       "3    376\n",
       "6    254\n",
       "4    218\n",
       "2    167\n",
       "5    142\n",
       "1    118\n",
       "0     65\n",
       "8     52\n",
       "7     47\n",
       "9     29\n",
       "Name: count, dtype: int64"
      ]
     },
     "execution_count": 82,
     "metadata": {},
     "output_type": "execute_result"
    }
   ],
   "source": [
    "cust_segment['overall_rfm'].value_counts()"
   ]
  },
  {
   "cell_type": "code",
   "execution_count": 83,
   "id": "4d9cfaaf-c06e-48c8-bc17-468fa617b51f",
   "metadata": {},
   "outputs": [],
   "source": [
    "def label_clusters(cluster):\n",
    "    if cluster in [8,9]:\n",
    "        return 'Premium'\n",
    "    elif cluster in [7,6]:\n",
    "        return 'Gold'\n",
    "    elif cluster in [5,4,3]:\n",
    "        return 'Silver'\n",
    "    else:\n",
    "        return 'Standard'"
   ]
  },
  {
   "cell_type": "code",
   "execution_count": 84,
   "id": "c31f577e-3575-4498-9e31-068198170388",
   "metadata": {},
   "outputs": [],
   "source": [
    "cust_segment['km_class']=cust_segment['overall_rfm'].apply(label_clusters)"
   ]
  },
  {
   "cell_type": "code",
   "execution_count": 85,
   "id": "3c391026-c745-4f7c-a7fa-d2d141c92b05",
   "metadata": {},
   "outputs": [
    {
     "data": {
      "text/html": [
       "<div>\n",
       "<style scoped>\n",
       "    .dataframe tbody tr th:only-of-type {\n",
       "        vertical-align: middle;\n",
       "    }\n",
       "\n",
       "    .dataframe tbody tr th {\n",
       "        vertical-align: top;\n",
       "    }\n",
       "\n",
       "    .dataframe thead th {\n",
       "        text-align: right;\n",
       "    }\n",
       "</style>\n",
       "<table border=\"1\" class=\"dataframe\">\n",
       "  <thead>\n",
       "    <tr style=\"text-align: right;\">\n",
       "      <th></th>\n",
       "      <th>recency</th>\n",
       "      <th>frequency</th>\n",
       "      <th>monetary</th>\n",
       "      <th>r_Segment</th>\n",
       "      <th>f_Segment</th>\n",
       "      <th>m_Segment</th>\n",
       "      <th>rfm</th>\n",
       "      <th>class</th>\n",
       "      <th>r_c</th>\n",
       "      <th>f_c</th>\n",
       "      <th>m_c</th>\n",
       "      <th>overall_rfm</th>\n",
       "      <th>km_class</th>\n",
       "    </tr>\n",
       "    <tr>\n",
       "      <th>CustomerID</th>\n",
       "      <th></th>\n",
       "      <th></th>\n",
       "      <th></th>\n",
       "      <th></th>\n",
       "      <th></th>\n",
       "      <th></th>\n",
       "      <th></th>\n",
       "      <th></th>\n",
       "      <th></th>\n",
       "      <th></th>\n",
       "      <th></th>\n",
       "      <th></th>\n",
       "      <th></th>\n",
       "    </tr>\n",
       "  </thead>\n",
       "  <tbody>\n",
       "    <tr>\n",
       "      <th>12346</th>\n",
       "      <td>1978</td>\n",
       "      <td>2</td>\n",
       "      <td>87.490870</td>\n",
       "      <td>2</td>\n",
       "      <td>1</td>\n",
       "      <td>2</td>\n",
       "      <td>50</td>\n",
       "      <td>Standard</td>\n",
       "      <td>2</td>\n",
       "      <td>0</td>\n",
       "      <td>3</td>\n",
       "      <td>5</td>\n",
       "      <td>Silver</td>\n",
       "    </tr>\n",
       "    <tr>\n",
       "      <th>12347</th>\n",
       "      <td>1930</td>\n",
       "      <td>60</td>\n",
       "      <td>261.447399</td>\n",
       "      <td>2</td>\n",
       "      <td>4</td>\n",
       "      <td>4</td>\n",
       "      <td>100</td>\n",
       "      <td>Premium</td>\n",
       "      <td>0</td>\n",
       "      <td>3</td>\n",
       "      <td>0</td>\n",
       "      <td>3</td>\n",
       "      <td>Silver</td>\n",
       "    </tr>\n",
       "    <tr>\n",
       "      <th>12348</th>\n",
       "      <td>1944</td>\n",
       "      <td>23</td>\n",
       "      <td>73.458954</td>\n",
       "      <td>2</td>\n",
       "      <td>3</td>\n",
       "      <td>2</td>\n",
       "      <td>70</td>\n",
       "      <td>Silver</td>\n",
       "      <td>0</td>\n",
       "      <td>0</td>\n",
       "      <td>1</td>\n",
       "      <td>1</td>\n",
       "      <td>Standard</td>\n",
       "    </tr>\n",
       "    <tr>\n",
       "      <th>12350</th>\n",
       "      <td>1888</td>\n",
       "      <td>17</td>\n",
       "      <td>86.319722</td>\n",
       "      <td>1</td>\n",
       "      <td>2</td>\n",
       "      <td>2</td>\n",
       "      <td>50</td>\n",
       "      <td>Standard</td>\n",
       "      <td>0</td>\n",
       "      <td>0</td>\n",
       "      <td>3</td>\n",
       "      <td>3</td>\n",
       "      <td>Silver</td>\n",
       "    </tr>\n",
       "    <tr>\n",
       "      <th>12356</th>\n",
       "      <td>1978</td>\n",
       "      <td>36</td>\n",
       "      <td>55.761917</td>\n",
       "      <td>2</td>\n",
       "      <td>3</td>\n",
       "      <td>1</td>\n",
       "      <td>60</td>\n",
       "      <td>Silver</td>\n",
       "      <td>2</td>\n",
       "      <td>0</td>\n",
       "      <td>1</td>\n",
       "      <td>3</td>\n",
       "      <td>Silver</td>\n",
       "    </tr>\n",
       "  </tbody>\n",
       "</table>\n",
       "</div>"
      ],
      "text/plain": [
       "            recency  frequency    monetary  r_Segment  f_Segment  m_Segment  \\\n",
       "CustomerID                                                                    \n",
       "12346          1978          2   87.490870          2          1          2   \n",
       "12347          1930         60  261.447399          2          4          4   \n",
       "12348          1944         23   73.458954          2          3          2   \n",
       "12350          1888         17   86.319722          1          2          2   \n",
       "12356          1978         36   55.761917          2          3          1   \n",
       "\n",
       "            rfm     class  r_c  f_c  m_c  overall_rfm  km_class  \n",
       "CustomerID                                                       \n",
       "12346        50  Standard    2    0    3            5    Silver  \n",
       "12347       100   Premium    0    3    0            3    Silver  \n",
       "12348        70    Silver    0    0    1            1  Standard  \n",
       "12350        50  Standard    0    0    3            3    Silver  \n",
       "12356        60    Silver    2    0    1            3    Silver  "
      ]
     },
     "execution_count": 85,
     "metadata": {},
     "output_type": "execute_result"
    }
   ],
   "source": [
    "cust_segment.head()"
   ]
  },
  {
   "cell_type": "code",
   "execution_count": 86,
   "id": "dd5662ee-6fd8-4086-8483-ec7b8bf2a9e3",
   "metadata": {},
   "outputs": [
    {
     "data": {
      "text/plain": [
       "km_class\n",
       "Silver      736\n",
       "Standard    350\n",
       "Gold        301\n",
       "Premium      81\n",
       "Name: count, dtype: int64"
      ]
     },
     "execution_count": 86,
     "metadata": {},
     "output_type": "execute_result"
    }
   ],
   "source": [
    "cust_segment['km_class'].value_counts()"
   ]
  },
  {
   "cell_type": "markdown",
   "id": "5d9b05b8-d55c-4909-9059-b643bbad37d3",
   "metadata": {},
   "source": [
    "### 4. Predicting Customer Lifetime Value (Low Value/Medium Value/High Value)"
   ]
  },
  {
   "cell_type": "code",
   "execution_count": 88,
   "id": "fde2f7b0-63e7-48e9-b712-267463938db1",
   "metadata": {},
   "outputs": [],
   "source": [
    "def segment(cluster):\n",
    "    if cluster==2:\n",
    "        return 'high'\n",
    "    elif cluster==1:\n",
    "        return 'medium'\n",
    "    else:\n",
    "        return 'low'"
   ]
  },
  {
   "cell_type": "code",
   "execution_count": 89,
   "id": "c37db36c-e1ee-4cd3-ab56-333dbef74f21",
   "metadata": {},
   "outputs": [
    {
     "data": {
      "text/html": [
       "<div>\n",
       "<style scoped>\n",
       "    .dataframe tbody tr th:only-of-type {\n",
       "        vertical-align: middle;\n",
       "    }\n",
       "\n",
       "    .dataframe tbody tr th {\n",
       "        vertical-align: top;\n",
       "    }\n",
       "\n",
       "    .dataframe thead th {\n",
       "        text-align: right;\n",
       "    }\n",
       "</style>\n",
       "<table border=\"1\" class=\"dataframe\">\n",
       "  <thead>\n",
       "    <tr style=\"text-align: right;\">\n",
       "      <th></th>\n",
       "      <th>invoice</th>\n",
       "    </tr>\n",
       "  </thead>\n",
       "  <tbody>\n",
       "    <tr>\n",
       "      <th>0</th>\n",
       "      <td>174.98174</td>\n",
       "    </tr>\n",
       "    <tr>\n",
       "      <th>1</th>\n",
       "      <td>15686.84396</td>\n",
       "    </tr>\n",
       "    <tr>\n",
       "      <th>2</th>\n",
       "      <td>1689.55594</td>\n",
       "    </tr>\n",
       "    <tr>\n",
       "      <th>3</th>\n",
       "      <td>1467.43528</td>\n",
       "    </tr>\n",
       "    <tr>\n",
       "      <th>4</th>\n",
       "      <td>2007.42900</td>\n",
       "    </tr>\n",
       "  </tbody>\n",
       "</table>\n",
       "</div>"
      ],
      "text/plain": [
       "       invoice\n",
       "0    174.98174\n",
       "1  15686.84396\n",
       "2   1689.55594\n",
       "3   1467.43528\n",
       "4   2007.42900"
      ]
     },
     "execution_count": 89,
     "metadata": {},
     "output_type": "execute_result"
    }
   ],
   "source": [
    "cust_revenue=final.groupby('CustomerID')[['invoice']].sum()\n",
    "cust_revenue.reset_index(drop=True,inplace=True)\n",
    "cust_revenue.head()"
   ]
  },
  {
   "cell_type": "code",
   "execution_count": 90,
   "id": "283d4983-0b78-4d5e-acb6-9555f2808efe",
   "metadata": {},
   "outputs": [],
   "source": [
    "km1=KMeans(n_clusters=3,random_state=42)"
   ]
  },
  {
   "cell_type": "code",
   "execution_count": 91,
   "id": "756be388-0d15-44c6-a3d4-4ad353d03c50",
   "metadata": {},
   "outputs": [],
   "source": [
    "cust_revenue['cluster_revenue']=km1.fit_predict(cust_revenue)"
   ]
  },
  {
   "cell_type": "code",
   "execution_count": 92,
   "id": "1e83cc7c-ecd4-4973-a0ce-bfe8a6437c0b",
   "metadata": {},
   "outputs": [
    {
     "data": {
      "text/html": [
       "<div>\n",
       "<style scoped>\n",
       "    .dataframe tbody tr th:only-of-type {\n",
       "        vertical-align: middle;\n",
       "    }\n",
       "\n",
       "    .dataframe tbody tr th {\n",
       "        vertical-align: top;\n",
       "    }\n",
       "\n",
       "    .dataframe thead th {\n",
       "        text-align: right;\n",
       "    }\n",
       "</style>\n",
       "<table border=\"1\" class=\"dataframe\">\n",
       "  <thead>\n",
       "    <tr style=\"text-align: right;\">\n",
       "      <th></th>\n",
       "      <th>invoice</th>\n",
       "      <th>cluster_revenue</th>\n",
       "      <th>segment</th>\n",
       "    </tr>\n",
       "  </thead>\n",
       "  <tbody>\n",
       "    <tr>\n",
       "      <th>0</th>\n",
       "      <td>174.98174</td>\n",
       "      <td>0</td>\n",
       "      <td>low</td>\n",
       "    </tr>\n",
       "    <tr>\n",
       "      <th>1</th>\n",
       "      <td>15686.84396</td>\n",
       "      <td>2</td>\n",
       "      <td>high</td>\n",
       "    </tr>\n",
       "    <tr>\n",
       "      <th>2</th>\n",
       "      <td>1689.55594</td>\n",
       "      <td>0</td>\n",
       "      <td>low</td>\n",
       "    </tr>\n",
       "    <tr>\n",
       "      <th>3</th>\n",
       "      <td>1467.43528</td>\n",
       "      <td>0</td>\n",
       "      <td>low</td>\n",
       "    </tr>\n",
       "    <tr>\n",
       "      <th>4</th>\n",
       "      <td>2007.42900</td>\n",
       "      <td>0</td>\n",
       "      <td>low</td>\n",
       "    </tr>\n",
       "  </tbody>\n",
       "</table>\n",
       "</div>"
      ],
      "text/plain": [
       "       invoice  cluster_revenue segment\n",
       "0    174.98174                0     low\n",
       "1  15686.84396                2    high\n",
       "2   1689.55594                0     low\n",
       "3   1467.43528                0     low\n",
       "4   2007.42900                0     low"
      ]
     },
     "execution_count": 92,
     "metadata": {},
     "output_type": "execute_result"
    }
   ],
   "source": [
    "cust_revenue['segment']=cust_revenue['cluster_revenue'].apply(segment)\n",
    "cust_revenue.head()"
   ]
  },
  {
   "cell_type": "code",
   "execution_count": 93,
   "id": "dba6de54-6174-4ee3-b8f8-7809195b4cc8",
   "metadata": {},
   "outputs": [
    {
     "data": {
      "text/html": [
       "<div>\n",
       "<style scoped>\n",
       "    .dataframe tbody tr th:only-of-type {\n",
       "        vertical-align: middle;\n",
       "    }\n",
       "\n",
       "    .dataframe tbody tr th {\n",
       "        vertical-align: top;\n",
       "    }\n",
       "\n",
       "    .dataframe thead th {\n",
       "        text-align: right;\n",
       "    }\n",
       "</style>\n",
       "<table border=\"1\" class=\"dataframe\">\n",
       "  <thead>\n",
       "    <tr style=\"text-align: right;\">\n",
       "      <th></th>\n",
       "      <th>recency</th>\n",
       "      <th>frequency</th>\n",
       "      <th>monetary</th>\n",
       "      <th>r_Segment</th>\n",
       "      <th>f_Segment</th>\n",
       "      <th>m_Segment</th>\n",
       "      <th>rfm</th>\n",
       "      <th>class</th>\n",
       "      <th>r_c</th>\n",
       "      <th>f_c</th>\n",
       "      <th>m_c</th>\n",
       "      <th>overall_rfm</th>\n",
       "      <th>km_class</th>\n",
       "    </tr>\n",
       "    <tr>\n",
       "      <th>CustomerID</th>\n",
       "      <th></th>\n",
       "      <th></th>\n",
       "      <th></th>\n",
       "      <th></th>\n",
       "      <th></th>\n",
       "      <th></th>\n",
       "      <th></th>\n",
       "      <th></th>\n",
       "      <th></th>\n",
       "      <th></th>\n",
       "      <th></th>\n",
       "      <th></th>\n",
       "      <th></th>\n",
       "    </tr>\n",
       "  </thead>\n",
       "  <tbody>\n",
       "    <tr>\n",
       "      <th>12346</th>\n",
       "      <td>1978</td>\n",
       "      <td>2</td>\n",
       "      <td>87.490870</td>\n",
       "      <td>2</td>\n",
       "      <td>1</td>\n",
       "      <td>2</td>\n",
       "      <td>50</td>\n",
       "      <td>Standard</td>\n",
       "      <td>2</td>\n",
       "      <td>0</td>\n",
       "      <td>3</td>\n",
       "      <td>5</td>\n",
       "      <td>Silver</td>\n",
       "    </tr>\n",
       "    <tr>\n",
       "      <th>12347</th>\n",
       "      <td>1930</td>\n",
       "      <td>60</td>\n",
       "      <td>261.447399</td>\n",
       "      <td>2</td>\n",
       "      <td>4</td>\n",
       "      <td>4</td>\n",
       "      <td>100</td>\n",
       "      <td>Premium</td>\n",
       "      <td>0</td>\n",
       "      <td>3</td>\n",
       "      <td>0</td>\n",
       "      <td>3</td>\n",
       "      <td>Silver</td>\n",
       "    </tr>\n",
       "    <tr>\n",
       "      <th>12348</th>\n",
       "      <td>1944</td>\n",
       "      <td>23</td>\n",
       "      <td>73.458954</td>\n",
       "      <td>2</td>\n",
       "      <td>3</td>\n",
       "      <td>2</td>\n",
       "      <td>70</td>\n",
       "      <td>Silver</td>\n",
       "      <td>0</td>\n",
       "      <td>0</td>\n",
       "      <td>1</td>\n",
       "      <td>1</td>\n",
       "      <td>Standard</td>\n",
       "    </tr>\n",
       "    <tr>\n",
       "      <th>12350</th>\n",
       "      <td>1888</td>\n",
       "      <td>17</td>\n",
       "      <td>86.319722</td>\n",
       "      <td>1</td>\n",
       "      <td>2</td>\n",
       "      <td>2</td>\n",
       "      <td>50</td>\n",
       "      <td>Standard</td>\n",
       "      <td>0</td>\n",
       "      <td>0</td>\n",
       "      <td>3</td>\n",
       "      <td>3</td>\n",
       "      <td>Silver</td>\n",
       "    </tr>\n",
       "    <tr>\n",
       "      <th>12356</th>\n",
       "      <td>1978</td>\n",
       "      <td>36</td>\n",
       "      <td>55.761917</td>\n",
       "      <td>2</td>\n",
       "      <td>3</td>\n",
       "      <td>1</td>\n",
       "      <td>60</td>\n",
       "      <td>Silver</td>\n",
       "      <td>2</td>\n",
       "      <td>0</td>\n",
       "      <td>1</td>\n",
       "      <td>3</td>\n",
       "      <td>Silver</td>\n",
       "    </tr>\n",
       "  </tbody>\n",
       "</table>\n",
       "</div>"
      ],
      "text/plain": [
       "            recency  frequency    monetary  r_Segment  f_Segment  m_Segment  \\\n",
       "CustomerID                                                                    \n",
       "12346          1978          2   87.490870          2          1          2   \n",
       "12347          1930         60  261.447399          2          4          4   \n",
       "12348          1944         23   73.458954          2          3          2   \n",
       "12350          1888         17   86.319722          1          2          2   \n",
       "12356          1978         36   55.761917          2          3          1   \n",
       "\n",
       "            rfm     class  r_c  f_c  m_c  overall_rfm  km_class  \n",
       "CustomerID                                                       \n",
       "12346        50  Standard    2    0    3            5    Silver  \n",
       "12347       100   Premium    0    3    0            3    Silver  \n",
       "12348        70    Silver    0    0    1            1  Standard  \n",
       "12350        50  Standard    0    0    3            3    Silver  \n",
       "12356        60    Silver    2    0    1            3    Silver  "
      ]
     },
     "execution_count": 93,
     "metadata": {},
     "output_type": "execute_result"
    }
   ],
   "source": [
    "cust_segment.head()"
   ]
  },
  {
   "cell_type": "code",
   "execution_count": 94,
   "id": "9b46586c-b110-40a6-a668-ff366db2a76b",
   "metadata": {},
   "outputs": [],
   "source": [
    "# #encoding \n",
    "# segment_label={'high':2,'medium':1,'low':0}\n",
    "# cust['CLV_segment_encoded']=cust_revenue['segment'].apply(lambda x:segment_label[x])"
   ]
  },
  {
   "cell_type": "code",
   "execution_count": 95,
   "id": "d481bac2-fd4c-4e1f-bd10-f4a0b39f7d04",
   "metadata": {},
   "outputs": [
    {
     "data": {
      "text/plain": [
       "(Index(['recency', 'frequency', 'monetary', 'r_Segment', 'f_Segment',\n",
       "        'm_Segment', 'rfm', 'class', 'r_c', 'f_c', 'm_c', 'overall_rfm',\n",
       "        'km_class'],\n",
       "       dtype='object'),\n",
       " Index(['CustomerID', 'Gender', 'Location', 'Tenure_Months'], dtype='object'))"
      ]
     },
     "execution_count": 95,
     "metadata": {},
     "output_type": "execute_result"
    }
   ],
   "source": [
    "cust_segment.columns,customer.columns"
   ]
  },
  {
   "cell_type": "code",
   "execution_count": 96,
   "id": "bca2e452-9c57-4f84-8fd9-58cdb28f18a7",
   "metadata": {},
   "outputs": [],
   "source": [
    "clv_df=cust_segment.merge(customer,on='CustomerID',how='left')"
   ]
  },
  {
   "cell_type": "code",
   "execution_count": 97,
   "id": "674456bf-4fa5-424d-b73c-27e841ceb71c",
   "metadata": {},
   "outputs": [
    {
     "data": {
      "text/plain": [
       "Index(['CustomerID', 'recency', 'frequency', 'monetary', 'r_Segment',\n",
       "       'f_Segment', 'm_Segment', 'rfm', 'class', 'r_c', 'f_c', 'm_c',\n",
       "       'overall_rfm', 'km_class', 'Gender', 'Location', 'Tenure_Months'],\n",
       "      dtype='object')"
      ]
     },
     "execution_count": 97,
     "metadata": {},
     "output_type": "execute_result"
    }
   ],
   "source": [
    "clv_df.columns"
   ]
  },
  {
   "cell_type": "code",
   "execution_count": 98,
   "id": "42a6fa6f-089d-467c-b329-0d956fec24e5",
   "metadata": {},
   "outputs": [],
   "source": [
    "clv_df.drop(columns=['CustomerID','r_Segment','f_Segment', 'm_Segment', 'rfm', 'class', 'km_class','Tenure_Months','recency', 'frequency', 'monetary','overall_rfm'],inplace=True)"
   ]
  },
  {
   "cell_type": "code",
   "execution_count": 99,
   "id": "d69435a9-6665-4c81-aa21-a25ac2e625a4",
   "metadata": {},
   "outputs": [],
   "source": [
    "clv_df=pd.concat([pd.get_dummies(clv_df['Gender'],dtype='int',drop_first=True),pd.get_dummies(clv_df['Location'],dtype='int',drop_first=True),clv_df],axis=1)"
   ]
  },
  {
   "cell_type": "code",
   "execution_count": 100,
   "id": "93077900-ff9f-4fb5-a7d2-488152364d0d",
   "metadata": {},
   "outputs": [],
   "source": [
    "clv_df.drop(columns=['Gender','Location'],inplace=True)"
   ]
  },
  {
   "cell_type": "code",
   "execution_count": 101,
   "id": "03a4c49f-3032-49fa-9ff1-9a11bbec1c04",
   "metadata": {},
   "outputs": [
    {
     "data": {
      "text/plain": [
       "Index(['M', 'Chicago', 'New Jersey', 'New York', 'Washington DC', 'r_c', 'f_c',\n",
       "       'm_c'],\n",
       "      dtype='object')"
      ]
     },
     "execution_count": 101,
     "metadata": {},
     "output_type": "execute_result"
    }
   ],
   "source": [
    "clv_df.columns"
   ]
  },
  {
   "cell_type": "code",
   "execution_count": 102,
   "id": "23e80fd2-c95d-48ea-a5a6-92e4d41292a2",
   "metadata": {},
   "outputs": [],
   "source": [
    "#splitting data into train and test"
   ]
  },
  {
   "cell_type": "code",
   "execution_count": 103,
   "id": "8dc67d56-d66b-4aa6-ad95-7d8bef5dbc20",
   "metadata": {},
   "outputs": [],
   "source": [
    "x=clv_df\n",
    "y=cust_revenue['cluster_revenue']"
   ]
  },
  {
   "cell_type": "code",
   "execution_count": 104,
   "id": "07979d9b-d266-4111-9e80-1320cffe162a",
   "metadata": {},
   "outputs": [],
   "source": [
    "xtrain,xtest,ytrain,ytest=train_test_split(x,y,random_state=42,test_size=0.2)"
   ]
  },
  {
   "cell_type": "code",
   "execution_count": 105,
   "id": "0d672533-6936-4a0b-aaf0-86b873bde519",
   "metadata": {},
   "outputs": [
    {
     "data": {
      "text/plain": [
       "((1174, 8), (294, 8), (1174,), (294,))"
      ]
     },
     "execution_count": 105,
     "metadata": {},
     "output_type": "execute_result"
    }
   ],
   "source": [
    "xtrain.shape,xtest.shape,ytrain.shape,ytest.shape"
   ]
  },
  {
   "cell_type": "code",
   "execution_count": 106,
   "id": "c099fb46-bc65-4c74-8890-d79a33d6cbb3",
   "metadata": {},
   "outputs": [],
   "source": [
    "# modelling\n",
    "xgb_model=xgb.XGBClassifier(max_depth=2)"
   ]
  },
  {
   "cell_type": "code",
   "execution_count": 107,
   "id": "ae738386-1036-4d07-9e3c-731319905581",
   "metadata": {},
   "outputs": [
    {
     "data": {
      "text/html": [
       "<style>#sk-container-id-1 {\n",
       "  /* Definition of color scheme common for light and dark mode */\n",
       "  --sklearn-color-text: black;\n",
       "  --sklearn-color-line: gray;\n",
       "  /* Definition of color scheme for unfitted estimators */\n",
       "  --sklearn-color-unfitted-level-0: #fff5e6;\n",
       "  --sklearn-color-unfitted-level-1: #f6e4d2;\n",
       "  --sklearn-color-unfitted-level-2: #ffe0b3;\n",
       "  --sklearn-color-unfitted-level-3: chocolate;\n",
       "  /* Definition of color scheme for fitted estimators */\n",
       "  --sklearn-color-fitted-level-0: #f0f8ff;\n",
       "  --sklearn-color-fitted-level-1: #d4ebff;\n",
       "  --sklearn-color-fitted-level-2: #b3dbfd;\n",
       "  --sklearn-color-fitted-level-3: cornflowerblue;\n",
       "\n",
       "  /* Specific color for light theme */\n",
       "  --sklearn-color-text-on-default-background: var(--sg-text-color, var(--theme-code-foreground, var(--jp-content-font-color1, black)));\n",
       "  --sklearn-color-background: var(--sg-background-color, var(--theme-background, var(--jp-layout-color0, white)));\n",
       "  --sklearn-color-border-box: var(--sg-text-color, var(--theme-code-foreground, var(--jp-content-font-color1, black)));\n",
       "  --sklearn-color-icon: #696969;\n",
       "\n",
       "  @media (prefers-color-scheme: dark) {\n",
       "    /* Redefinition of color scheme for dark theme */\n",
       "    --sklearn-color-text-on-default-background: var(--sg-text-color, var(--theme-code-foreground, var(--jp-content-font-color1, white)));\n",
       "    --sklearn-color-background: var(--sg-background-color, var(--theme-background, var(--jp-layout-color0, #111)));\n",
       "    --sklearn-color-border-box: var(--sg-text-color, var(--theme-code-foreground, var(--jp-content-font-color1, white)));\n",
       "    --sklearn-color-icon: #878787;\n",
       "  }\n",
       "}\n",
       "\n",
       "#sk-container-id-1 {\n",
       "  color: var(--sklearn-color-text);\n",
       "}\n",
       "\n",
       "#sk-container-id-1 pre {\n",
       "  padding: 0;\n",
       "}\n",
       "\n",
       "#sk-container-id-1 input.sk-hidden--visually {\n",
       "  border: 0;\n",
       "  clip: rect(1px 1px 1px 1px);\n",
       "  clip: rect(1px, 1px, 1px, 1px);\n",
       "  height: 1px;\n",
       "  margin: -1px;\n",
       "  overflow: hidden;\n",
       "  padding: 0;\n",
       "  position: absolute;\n",
       "  width: 1px;\n",
       "}\n",
       "\n",
       "#sk-container-id-1 div.sk-dashed-wrapped {\n",
       "  border: 1px dashed var(--sklearn-color-line);\n",
       "  margin: 0 0.4em 0.5em 0.4em;\n",
       "  box-sizing: border-box;\n",
       "  padding-bottom: 0.4em;\n",
       "  background-color: var(--sklearn-color-background);\n",
       "}\n",
       "\n",
       "#sk-container-id-1 div.sk-container {\n",
       "  /* jupyter's `normalize.less` sets `[hidden] { display: none; }`\n",
       "     but bootstrap.min.css set `[hidden] { display: none !important; }`\n",
       "     so we also need the `!important` here to be able to override the\n",
       "     default hidden behavior on the sphinx rendered scikit-learn.org.\n",
       "     See: https://github.com/scikit-learn/scikit-learn/issues/21755 */\n",
       "  display: inline-block !important;\n",
       "  position: relative;\n",
       "}\n",
       "\n",
       "#sk-container-id-1 div.sk-text-repr-fallback {\n",
       "  display: none;\n",
       "}\n",
       "\n",
       "div.sk-parallel-item,\n",
       "div.sk-serial,\n",
       "div.sk-item {\n",
       "  /* draw centered vertical line to link estimators */\n",
       "  background-image: linear-gradient(var(--sklearn-color-text-on-default-background), var(--sklearn-color-text-on-default-background));\n",
       "  background-size: 2px 100%;\n",
       "  background-repeat: no-repeat;\n",
       "  background-position: center center;\n",
       "}\n",
       "\n",
       "/* Parallel-specific style estimator block */\n",
       "\n",
       "#sk-container-id-1 div.sk-parallel-item::after {\n",
       "  content: \"\";\n",
       "  width: 100%;\n",
       "  border-bottom: 2px solid var(--sklearn-color-text-on-default-background);\n",
       "  flex-grow: 1;\n",
       "}\n",
       "\n",
       "#sk-container-id-1 div.sk-parallel {\n",
       "  display: flex;\n",
       "  align-items: stretch;\n",
       "  justify-content: center;\n",
       "  background-color: var(--sklearn-color-background);\n",
       "  position: relative;\n",
       "}\n",
       "\n",
       "#sk-container-id-1 div.sk-parallel-item {\n",
       "  display: flex;\n",
       "  flex-direction: column;\n",
       "}\n",
       "\n",
       "#sk-container-id-1 div.sk-parallel-item:first-child::after {\n",
       "  align-self: flex-end;\n",
       "  width: 50%;\n",
       "}\n",
       "\n",
       "#sk-container-id-1 div.sk-parallel-item:last-child::after {\n",
       "  align-self: flex-start;\n",
       "  width: 50%;\n",
       "}\n",
       "\n",
       "#sk-container-id-1 div.sk-parallel-item:only-child::after {\n",
       "  width: 0;\n",
       "}\n",
       "\n",
       "/* Serial-specific style estimator block */\n",
       "\n",
       "#sk-container-id-1 div.sk-serial {\n",
       "  display: flex;\n",
       "  flex-direction: column;\n",
       "  align-items: center;\n",
       "  background-color: var(--sklearn-color-background);\n",
       "  padding-right: 1em;\n",
       "  padding-left: 1em;\n",
       "}\n",
       "\n",
       "\n",
       "/* Toggleable style: style used for estimator/Pipeline/ColumnTransformer box that is\n",
       "clickable and can be expanded/collapsed.\n",
       "- Pipeline and ColumnTransformer use this feature and define the default style\n",
       "- Estimators will overwrite some part of the style using the `sk-estimator` class\n",
       "*/\n",
       "\n",
       "/* Pipeline and ColumnTransformer style (default) */\n",
       "\n",
       "#sk-container-id-1 div.sk-toggleable {\n",
       "  /* Default theme specific background. It is overwritten whether we have a\n",
       "  specific estimator or a Pipeline/ColumnTransformer */\n",
       "  background-color: var(--sklearn-color-background);\n",
       "}\n",
       "\n",
       "/* Toggleable label */\n",
       "#sk-container-id-1 label.sk-toggleable__label {\n",
       "  cursor: pointer;\n",
       "  display: block;\n",
       "  width: 100%;\n",
       "  margin-bottom: 0;\n",
       "  padding: 0.5em;\n",
       "  box-sizing: border-box;\n",
       "  text-align: center;\n",
       "}\n",
       "\n",
       "#sk-container-id-1 label.sk-toggleable__label-arrow:before {\n",
       "  /* Arrow on the left of the label */\n",
       "  content: \"▸\";\n",
       "  float: left;\n",
       "  margin-right: 0.25em;\n",
       "  color: var(--sklearn-color-icon);\n",
       "}\n",
       "\n",
       "#sk-container-id-1 label.sk-toggleable__label-arrow:hover:before {\n",
       "  color: var(--sklearn-color-text);\n",
       "}\n",
       "\n",
       "/* Toggleable content - dropdown */\n",
       "\n",
       "#sk-container-id-1 div.sk-toggleable__content {\n",
       "  max-height: 0;\n",
       "  max-width: 0;\n",
       "  overflow: hidden;\n",
       "  text-align: left;\n",
       "  /* unfitted */\n",
       "  background-color: var(--sklearn-color-unfitted-level-0);\n",
       "}\n",
       "\n",
       "#sk-container-id-1 div.sk-toggleable__content.fitted {\n",
       "  /* fitted */\n",
       "  background-color: var(--sklearn-color-fitted-level-0);\n",
       "}\n",
       "\n",
       "#sk-container-id-1 div.sk-toggleable__content pre {\n",
       "  margin: 0.2em;\n",
       "  border-radius: 0.25em;\n",
       "  color: var(--sklearn-color-text);\n",
       "  /* unfitted */\n",
       "  background-color: var(--sklearn-color-unfitted-level-0);\n",
       "}\n",
       "\n",
       "#sk-container-id-1 div.sk-toggleable__content.fitted pre {\n",
       "  /* unfitted */\n",
       "  background-color: var(--sklearn-color-fitted-level-0);\n",
       "}\n",
       "\n",
       "#sk-container-id-1 input.sk-toggleable__control:checked~div.sk-toggleable__content {\n",
       "  /* Expand drop-down */\n",
       "  max-height: 200px;\n",
       "  max-width: 100%;\n",
       "  overflow: auto;\n",
       "}\n",
       "\n",
       "#sk-container-id-1 input.sk-toggleable__control:checked~label.sk-toggleable__label-arrow:before {\n",
       "  content: \"▾\";\n",
       "}\n",
       "\n",
       "/* Pipeline/ColumnTransformer-specific style */\n",
       "\n",
       "#sk-container-id-1 div.sk-label input.sk-toggleable__control:checked~label.sk-toggleable__label {\n",
       "  color: var(--sklearn-color-text);\n",
       "  background-color: var(--sklearn-color-unfitted-level-2);\n",
       "}\n",
       "\n",
       "#sk-container-id-1 div.sk-label.fitted input.sk-toggleable__control:checked~label.sk-toggleable__label {\n",
       "  background-color: var(--sklearn-color-fitted-level-2);\n",
       "}\n",
       "\n",
       "/* Estimator-specific style */\n",
       "\n",
       "/* Colorize estimator box */\n",
       "#sk-container-id-1 div.sk-estimator input.sk-toggleable__control:checked~label.sk-toggleable__label {\n",
       "  /* unfitted */\n",
       "  background-color: var(--sklearn-color-unfitted-level-2);\n",
       "}\n",
       "\n",
       "#sk-container-id-1 div.sk-estimator.fitted input.sk-toggleable__control:checked~label.sk-toggleable__label {\n",
       "  /* fitted */\n",
       "  background-color: var(--sklearn-color-fitted-level-2);\n",
       "}\n",
       "\n",
       "#sk-container-id-1 div.sk-label label.sk-toggleable__label,\n",
       "#sk-container-id-1 div.sk-label label {\n",
       "  /* The background is the default theme color */\n",
       "  color: var(--sklearn-color-text-on-default-background);\n",
       "}\n",
       "\n",
       "/* On hover, darken the color of the background */\n",
       "#sk-container-id-1 div.sk-label:hover label.sk-toggleable__label {\n",
       "  color: var(--sklearn-color-text);\n",
       "  background-color: var(--sklearn-color-unfitted-level-2);\n",
       "}\n",
       "\n",
       "/* Label box, darken color on hover, fitted */\n",
       "#sk-container-id-1 div.sk-label.fitted:hover label.sk-toggleable__label.fitted {\n",
       "  color: var(--sklearn-color-text);\n",
       "  background-color: var(--sklearn-color-fitted-level-2);\n",
       "}\n",
       "\n",
       "/* Estimator label */\n",
       "\n",
       "#sk-container-id-1 div.sk-label label {\n",
       "  font-family: monospace;\n",
       "  font-weight: bold;\n",
       "  display: inline-block;\n",
       "  line-height: 1.2em;\n",
       "}\n",
       "\n",
       "#sk-container-id-1 div.sk-label-container {\n",
       "  text-align: center;\n",
       "}\n",
       "\n",
       "/* Estimator-specific */\n",
       "#sk-container-id-1 div.sk-estimator {\n",
       "  font-family: monospace;\n",
       "  border: 1px dotted var(--sklearn-color-border-box);\n",
       "  border-radius: 0.25em;\n",
       "  box-sizing: border-box;\n",
       "  margin-bottom: 0.5em;\n",
       "  /* unfitted */\n",
       "  background-color: var(--sklearn-color-unfitted-level-0);\n",
       "}\n",
       "\n",
       "#sk-container-id-1 div.sk-estimator.fitted {\n",
       "  /* fitted */\n",
       "  background-color: var(--sklearn-color-fitted-level-0);\n",
       "}\n",
       "\n",
       "/* on hover */\n",
       "#sk-container-id-1 div.sk-estimator:hover {\n",
       "  /* unfitted */\n",
       "  background-color: var(--sklearn-color-unfitted-level-2);\n",
       "}\n",
       "\n",
       "#sk-container-id-1 div.sk-estimator.fitted:hover {\n",
       "  /* fitted */\n",
       "  background-color: var(--sklearn-color-fitted-level-2);\n",
       "}\n",
       "\n",
       "/* Specification for estimator info (e.g. \"i\" and \"?\") */\n",
       "\n",
       "/* Common style for \"i\" and \"?\" */\n",
       "\n",
       ".sk-estimator-doc-link,\n",
       "a:link.sk-estimator-doc-link,\n",
       "a:visited.sk-estimator-doc-link {\n",
       "  float: right;\n",
       "  font-size: smaller;\n",
       "  line-height: 1em;\n",
       "  font-family: monospace;\n",
       "  background-color: var(--sklearn-color-background);\n",
       "  border-radius: 1em;\n",
       "  height: 1em;\n",
       "  width: 1em;\n",
       "  text-decoration: none !important;\n",
       "  margin-left: 1ex;\n",
       "  /* unfitted */\n",
       "  border: var(--sklearn-color-unfitted-level-1) 1pt solid;\n",
       "  color: var(--sklearn-color-unfitted-level-1);\n",
       "}\n",
       "\n",
       ".sk-estimator-doc-link.fitted,\n",
       "a:link.sk-estimator-doc-link.fitted,\n",
       "a:visited.sk-estimator-doc-link.fitted {\n",
       "  /* fitted */\n",
       "  border: var(--sklearn-color-fitted-level-1) 1pt solid;\n",
       "  color: var(--sklearn-color-fitted-level-1);\n",
       "}\n",
       "\n",
       "/* On hover */\n",
       "div.sk-estimator:hover .sk-estimator-doc-link:hover,\n",
       ".sk-estimator-doc-link:hover,\n",
       "div.sk-label-container:hover .sk-estimator-doc-link:hover,\n",
       ".sk-estimator-doc-link:hover {\n",
       "  /* unfitted */\n",
       "  background-color: var(--sklearn-color-unfitted-level-3);\n",
       "  color: var(--sklearn-color-background);\n",
       "  text-decoration: none;\n",
       "}\n",
       "\n",
       "div.sk-estimator.fitted:hover .sk-estimator-doc-link.fitted:hover,\n",
       ".sk-estimator-doc-link.fitted:hover,\n",
       "div.sk-label-container:hover .sk-estimator-doc-link.fitted:hover,\n",
       ".sk-estimator-doc-link.fitted:hover {\n",
       "  /* fitted */\n",
       "  background-color: var(--sklearn-color-fitted-level-3);\n",
       "  color: var(--sklearn-color-background);\n",
       "  text-decoration: none;\n",
       "}\n",
       "\n",
       "/* Span, style for the box shown on hovering the info icon */\n",
       ".sk-estimator-doc-link span {\n",
       "  display: none;\n",
       "  z-index: 9999;\n",
       "  position: relative;\n",
       "  font-weight: normal;\n",
       "  right: .2ex;\n",
       "  padding: .5ex;\n",
       "  margin: .5ex;\n",
       "  width: min-content;\n",
       "  min-width: 20ex;\n",
       "  max-width: 50ex;\n",
       "  color: var(--sklearn-color-text);\n",
       "  box-shadow: 2pt 2pt 4pt #999;\n",
       "  /* unfitted */\n",
       "  background: var(--sklearn-color-unfitted-level-0);\n",
       "  border: .5pt solid var(--sklearn-color-unfitted-level-3);\n",
       "}\n",
       "\n",
       ".sk-estimator-doc-link.fitted span {\n",
       "  /* fitted */\n",
       "  background: var(--sklearn-color-fitted-level-0);\n",
       "  border: var(--sklearn-color-fitted-level-3);\n",
       "}\n",
       "\n",
       ".sk-estimator-doc-link:hover span {\n",
       "  display: block;\n",
       "}\n",
       "\n",
       "/* \"?\"-specific style due to the `<a>` HTML tag */\n",
       "\n",
       "#sk-container-id-1 a.estimator_doc_link {\n",
       "  float: right;\n",
       "  font-size: 1rem;\n",
       "  line-height: 1em;\n",
       "  font-family: monospace;\n",
       "  background-color: var(--sklearn-color-background);\n",
       "  border-radius: 1rem;\n",
       "  height: 1rem;\n",
       "  width: 1rem;\n",
       "  text-decoration: none;\n",
       "  /* unfitted */\n",
       "  color: var(--sklearn-color-unfitted-level-1);\n",
       "  border: var(--sklearn-color-unfitted-level-1) 1pt solid;\n",
       "}\n",
       "\n",
       "#sk-container-id-1 a.estimator_doc_link.fitted {\n",
       "  /* fitted */\n",
       "  border: var(--sklearn-color-fitted-level-1) 1pt solid;\n",
       "  color: var(--sklearn-color-fitted-level-1);\n",
       "}\n",
       "\n",
       "/* On hover */\n",
       "#sk-container-id-1 a.estimator_doc_link:hover {\n",
       "  /* unfitted */\n",
       "  background-color: var(--sklearn-color-unfitted-level-3);\n",
       "  color: var(--sklearn-color-background);\n",
       "  text-decoration: none;\n",
       "}\n",
       "\n",
       "#sk-container-id-1 a.estimator_doc_link.fitted:hover {\n",
       "  /* fitted */\n",
       "  background-color: var(--sklearn-color-fitted-level-3);\n",
       "}\n",
       "</style><div id=\"sk-container-id-1\" class=\"sk-top-container\"><div class=\"sk-text-repr-fallback\"><pre>XGBClassifier(base_score=None, booster=None, callbacks=None,\n",
       "              colsample_bylevel=None, colsample_bynode=None,\n",
       "              colsample_bytree=None, device=None, early_stopping_rounds=None,\n",
       "              enable_categorical=False, eval_metric=None, feature_types=None,\n",
       "              gamma=None, grow_policy=None, importance_type=None,\n",
       "              interaction_constraints=None, learning_rate=None, max_bin=None,\n",
       "              max_cat_threshold=None, max_cat_to_onehot=None,\n",
       "              max_delta_step=None, max_depth=2, max_leaves=None,\n",
       "              min_child_weight=None, missing=nan, monotone_constraints=None,\n",
       "              multi_strategy=None, n_estimators=None, n_jobs=None,\n",
       "              num_parallel_tree=None, objective=&#x27;multi:softprob&#x27;, ...)</pre><b>In a Jupyter environment, please rerun this cell to show the HTML representation or trust the notebook. <br />On GitHub, the HTML representation is unable to render, please try loading this page with nbviewer.org.</b></div><div class=\"sk-container\" hidden><div class=\"sk-item\"><div class=\"sk-estimator fitted sk-toggleable\"><input class=\"sk-toggleable__control sk-hidden--visually\" id=\"sk-estimator-id-1\" type=\"checkbox\" checked><label for=\"sk-estimator-id-1\" class=\"sk-toggleable__label fitted sk-toggleable__label-arrow fitted\">&nbsp;XGBClassifier<span class=\"sk-estimator-doc-link fitted\">i<span>Fitted</span></span></label><div class=\"sk-toggleable__content fitted\"><pre>XGBClassifier(base_score=None, booster=None, callbacks=None,\n",
       "              colsample_bylevel=None, colsample_bynode=None,\n",
       "              colsample_bytree=None, device=None, early_stopping_rounds=None,\n",
       "              enable_categorical=False, eval_metric=None, feature_types=None,\n",
       "              gamma=None, grow_policy=None, importance_type=None,\n",
       "              interaction_constraints=None, learning_rate=None, max_bin=None,\n",
       "              max_cat_threshold=None, max_cat_to_onehot=None,\n",
       "              max_delta_step=None, max_depth=2, max_leaves=None,\n",
       "              min_child_weight=None, missing=nan, monotone_constraints=None,\n",
       "              multi_strategy=None, n_estimators=None, n_jobs=None,\n",
       "              num_parallel_tree=None, objective=&#x27;multi:softprob&#x27;, ...)</pre></div> </div></div></div></div>"
      ],
      "text/plain": [
       "XGBClassifier(base_score=None, booster=None, callbacks=None,\n",
       "              colsample_bylevel=None, colsample_bynode=None,\n",
       "              colsample_bytree=None, device=None, early_stopping_rounds=None,\n",
       "              enable_categorical=False, eval_metric=None, feature_types=None,\n",
       "              gamma=None, grow_policy=None, importance_type=None,\n",
       "              interaction_constraints=None, learning_rate=None, max_bin=None,\n",
       "              max_cat_threshold=None, max_cat_to_onehot=None,\n",
       "              max_delta_step=None, max_depth=2, max_leaves=None,\n",
       "              min_child_weight=None, missing=nan, monotone_constraints=None,\n",
       "              multi_strategy=None, n_estimators=None, n_jobs=None,\n",
       "              num_parallel_tree=None, objective='multi:softprob', ...)"
      ]
     },
     "execution_count": 107,
     "metadata": {},
     "output_type": "execute_result"
    }
   ],
   "source": [
    "xgb_model.fit(xtrain,ytrain)"
   ]
  },
  {
   "cell_type": "code",
   "execution_count": 108,
   "id": "450fe4a0-eb20-42d2-897c-65d8b85d8c55",
   "metadata": {},
   "outputs": [],
   "source": [
    "pred_xgb=xgb_model.predict(xtest)"
   ]
  },
  {
   "cell_type": "code",
   "execution_count": 109,
   "id": "cfba5dc2-b5af-449d-ad74-7036c476c5a3",
   "metadata": {},
   "outputs": [
    {
     "name": "stdout",
     "output_type": "stream",
     "text": [
      "accuracy :  0.9115646258503401\n",
      "              precision    recall  f1-score   support\n",
      "\n",
      "           0       0.93      0.96      0.95       245\n",
      "           2       0.78      0.65      0.71        49\n",
      "\n",
      "    accuracy                           0.91       294\n",
      "   macro avg       0.86      0.81      0.83       294\n",
      "weighted avg       0.91      0.91      0.91       294\n",
      "\n"
     ]
    }
   ],
   "source": [
    "# evaluation: \n",
    "accuracy = accuracy_score(ytest, pred_xgb)\n",
    "classification=classification_report(ytest, pred_xgb)\n",
    "print('accuracy : ',accuracy)\n",
    "print(classification)"
   ]
  },
  {
   "cell_type": "markdown",
   "id": "5e2402aa-e255-4ec1-8cf0-d8511a20a2d8",
   "metadata": {},
   "source": [
    "### 5. Cross-Selling (Which products are selling together)"
   ]
  },
  {
   "cell_type": "code",
   "execution_count": 111,
   "id": "cf354794-f420-4779-9375-f89527df2702",
   "metadata": {},
   "outputs": [],
   "source": [
    "#  You can perform exploratory analysis & market basket analysis to understand which\n",
    "# of items can be bundled together."
   ]
  },
  {
   "cell_type": "code",
   "execution_count": 112,
   "id": "be3848bc-7d70-43af-8fab-27d8b6b83660",
   "metadata": {},
   "outputs": [
    {
     "data": {
      "text/plain": [
       "Index(['CustomerID', 'Transaction_ID', 'Transaction_Date', 'Product_SKU',\n",
       "       'Product_Description', 'Product_Category', 'Quantity', 'Avg_Price',\n",
       "       'Delivery_Charges', 'Coupon_Status', 'Month', 'Year', 'Coupon_Code',\n",
       "       'Discount_pct', 'GST', 'invoice', 'Day', 'Week'],\n",
       "      dtype='object')"
      ]
     },
     "execution_count": 112,
     "metadata": {},
     "output_type": "execute_result"
    }
   ],
   "source": [
    "final.columns"
   ]
  },
  {
   "cell_type": "code",
   "execution_count": 113,
   "id": "b75b8411-1e4e-4eea-b923-2c3da19794f0",
   "metadata": {},
   "outputs": [
    {
     "data": {
      "text/html": [
       "<div>\n",
       "<style scoped>\n",
       "    .dataframe tbody tr th:only-of-type {\n",
       "        vertical-align: middle;\n",
       "    }\n",
       "\n",
       "    .dataframe tbody tr th {\n",
       "        vertical-align: top;\n",
       "    }\n",
       "\n",
       "    .dataframe thead th {\n",
       "        text-align: right;\n",
       "    }\n",
       "</style>\n",
       "<table border=\"1\" class=\"dataframe\">\n",
       "  <thead>\n",
       "    <tr style=\"text-align: right;\">\n",
       "      <th>Product_Category</th>\n",
       "      <th>Accessories</th>\n",
       "      <th>Android</th>\n",
       "      <th>Apparel</th>\n",
       "      <th>Backpacks</th>\n",
       "      <th>Bags</th>\n",
       "      <th>Bottles</th>\n",
       "      <th>Drinkware</th>\n",
       "      <th>Fun</th>\n",
       "      <th>Gift Cards</th>\n",
       "      <th>Google</th>\n",
       "      <th>Headgear</th>\n",
       "      <th>Housewares</th>\n",
       "      <th>Lifestyle</th>\n",
       "      <th>More Bags</th>\n",
       "      <th>Nest</th>\n",
       "      <th>Nest-Canada</th>\n",
       "      <th>Nest-USA</th>\n",
       "      <th>Notebooks &amp; Journals</th>\n",
       "      <th>Office</th>\n",
       "      <th>Waze</th>\n",
       "    </tr>\n",
       "    <tr>\n",
       "      <th>Transaction_ID</th>\n",
       "      <th></th>\n",
       "      <th></th>\n",
       "      <th></th>\n",
       "      <th></th>\n",
       "      <th></th>\n",
       "      <th></th>\n",
       "      <th></th>\n",
       "      <th></th>\n",
       "      <th></th>\n",
       "      <th></th>\n",
       "      <th></th>\n",
       "      <th></th>\n",
       "      <th></th>\n",
       "      <th></th>\n",
       "      <th></th>\n",
       "      <th></th>\n",
       "      <th></th>\n",
       "      <th></th>\n",
       "      <th></th>\n",
       "      <th></th>\n",
       "    </tr>\n",
       "  </thead>\n",
       "  <tbody>\n",
       "    <tr>\n",
       "      <th>16679</th>\n",
       "      <td>0.0</td>\n",
       "      <td>0.0</td>\n",
       "      <td>0.0</td>\n",
       "      <td>0.0</td>\n",
       "      <td>0.0</td>\n",
       "      <td>0.0</td>\n",
       "      <td>0.0</td>\n",
       "      <td>0.0</td>\n",
       "      <td>0.0</td>\n",
       "      <td>0.0</td>\n",
       "      <td>0.0</td>\n",
       "      <td>0.0</td>\n",
       "      <td>0.0</td>\n",
       "      <td>0.0</td>\n",
       "      <td>0.0</td>\n",
       "      <td>0.0</td>\n",
       "      <td>1.0</td>\n",
       "      <td>0.0</td>\n",
       "      <td>0.0</td>\n",
       "      <td>0.0</td>\n",
       "    </tr>\n",
       "    <tr>\n",
       "      <th>16680</th>\n",
       "      <td>0.0</td>\n",
       "      <td>0.0</td>\n",
       "      <td>0.0</td>\n",
       "      <td>0.0</td>\n",
       "      <td>0.0</td>\n",
       "      <td>0.0</td>\n",
       "      <td>0.0</td>\n",
       "      <td>0.0</td>\n",
       "      <td>0.0</td>\n",
       "      <td>0.0</td>\n",
       "      <td>0.0</td>\n",
       "      <td>0.0</td>\n",
       "      <td>0.0</td>\n",
       "      <td>0.0</td>\n",
       "      <td>0.0</td>\n",
       "      <td>0.0</td>\n",
       "      <td>1.0</td>\n",
       "      <td>0.0</td>\n",
       "      <td>0.0</td>\n",
       "      <td>0.0</td>\n",
       "    </tr>\n",
       "    <tr>\n",
       "      <th>16681</th>\n",
       "      <td>0.0</td>\n",
       "      <td>0.0</td>\n",
       "      <td>0.0</td>\n",
       "      <td>0.0</td>\n",
       "      <td>0.0</td>\n",
       "      <td>0.0</td>\n",
       "      <td>0.0</td>\n",
       "      <td>0.0</td>\n",
       "      <td>0.0</td>\n",
       "      <td>0.0</td>\n",
       "      <td>0.0</td>\n",
       "      <td>0.0</td>\n",
       "      <td>0.0</td>\n",
       "      <td>0.0</td>\n",
       "      <td>0.0</td>\n",
       "      <td>0.0</td>\n",
       "      <td>0.0</td>\n",
       "      <td>0.0</td>\n",
       "      <td>1.0</td>\n",
       "      <td>0.0</td>\n",
       "    </tr>\n",
       "    <tr>\n",
       "      <th>16682</th>\n",
       "      <td>0.0</td>\n",
       "      <td>0.0</td>\n",
       "      <td>10.0</td>\n",
       "      <td>0.0</td>\n",
       "      <td>16.0</td>\n",
       "      <td>0.0</td>\n",
       "      <td>35.0</td>\n",
       "      <td>0.0</td>\n",
       "      <td>0.0</td>\n",
       "      <td>0.0</td>\n",
       "      <td>0.0</td>\n",
       "      <td>0.0</td>\n",
       "      <td>0.0</td>\n",
       "      <td>0.0</td>\n",
       "      <td>0.0</td>\n",
       "      <td>0.0</td>\n",
       "      <td>0.0</td>\n",
       "      <td>0.0</td>\n",
       "      <td>114.0</td>\n",
       "      <td>0.0</td>\n",
       "    </tr>\n",
       "    <tr>\n",
       "      <th>16684</th>\n",
       "      <td>0.0</td>\n",
       "      <td>0.0</td>\n",
       "      <td>0.0</td>\n",
       "      <td>0.0</td>\n",
       "      <td>0.0</td>\n",
       "      <td>0.0</td>\n",
       "      <td>0.0</td>\n",
       "      <td>0.0</td>\n",
       "      <td>0.0</td>\n",
       "      <td>0.0</td>\n",
       "      <td>0.0</td>\n",
       "      <td>0.0</td>\n",
       "      <td>0.0</td>\n",
       "      <td>0.0</td>\n",
       "      <td>0.0</td>\n",
       "      <td>0.0</td>\n",
       "      <td>3.0</td>\n",
       "      <td>0.0</td>\n",
       "      <td>0.0</td>\n",
       "      <td>0.0</td>\n",
       "    </tr>\n",
       "  </tbody>\n",
       "</table>\n",
       "</div>"
      ],
      "text/plain": [
       "Product_Category  Accessories  Android  Apparel  Backpacks  Bags  Bottles  \\\n",
       "Transaction_ID                                                              \n",
       "16679                     0.0      0.0      0.0        0.0   0.0      0.0   \n",
       "16680                     0.0      0.0      0.0        0.0   0.0      0.0   \n",
       "16681                     0.0      0.0      0.0        0.0   0.0      0.0   \n",
       "16682                     0.0      0.0     10.0        0.0  16.0      0.0   \n",
       "16684                     0.0      0.0      0.0        0.0   0.0      0.0   \n",
       "\n",
       "Product_Category  Drinkware  Fun  Gift Cards  Google  Headgear  Housewares  \\\n",
       "Transaction_ID                                                               \n",
       "16679                   0.0  0.0         0.0     0.0       0.0         0.0   \n",
       "16680                   0.0  0.0         0.0     0.0       0.0         0.0   \n",
       "16681                   0.0  0.0         0.0     0.0       0.0         0.0   \n",
       "16682                  35.0  0.0         0.0     0.0       0.0         0.0   \n",
       "16684                   0.0  0.0         0.0     0.0       0.0         0.0   \n",
       "\n",
       "Product_Category  Lifestyle  More Bags  Nest  Nest-Canada  Nest-USA  \\\n",
       "Transaction_ID                                                        \n",
       "16679                   0.0        0.0   0.0          0.0       1.0   \n",
       "16680                   0.0        0.0   0.0          0.0       1.0   \n",
       "16681                   0.0        0.0   0.0          0.0       0.0   \n",
       "16682                   0.0        0.0   0.0          0.0       0.0   \n",
       "16684                   0.0        0.0   0.0          0.0       3.0   \n",
       "\n",
       "Product_Category  Notebooks & Journals  Office  Waze  \n",
       "Transaction_ID                                        \n",
       "16679                              0.0     0.0   0.0  \n",
       "16680                              0.0     0.0   0.0  \n",
       "16681                              0.0     1.0   0.0  \n",
       "16682                              0.0   114.0   0.0  \n",
       "16684                              0.0     0.0   0.0  "
      ]
     },
     "execution_count": 113,
     "metadata": {},
     "output_type": "execute_result"
    }
   ],
   "source": [
    "basket=final.groupby(['Transaction_ID','Product_Category'])['Quantity'].sum().unstack().fillna(0)\n",
    "basket.head()"
   ]
  },
  {
   "cell_type": "code",
   "execution_count": 114,
   "id": "8ef363e6-8eb5-49d5-a6ab-5592f6681163",
   "metadata": {},
   "outputs": [],
   "source": [
    "basket[basket>1]=1"
   ]
  },
  {
   "cell_type": "code",
   "execution_count": 115,
   "id": "9cb69b6f-05cc-47df-b2ea-238a1520628e",
   "metadata": {},
   "outputs": [
    {
     "name": "stderr",
     "output_type": "stream",
     "text": [
      "D:\\anaconda3\\Lib\\site-packages\\mlxtend\\frequent_patterns\\fpcommon.py:161: DeprecationWarning: DataFrames with non-bool types result in worse computationalperformance and their support might be discontinued in the future.Please use a DataFrame with bool type\n",
      "  warnings.warn(\n"
     ]
    }
   ],
   "source": [
    "frequent_set=apriori(basket,min_support=0.03,use_colnames=True)"
   ]
  },
  {
   "cell_type": "code",
   "execution_count": 116,
   "id": "b9f2ef97-e35d-4aab-8756-972bc05a5355",
   "metadata": {},
   "outputs": [
    {
     "data": {
      "text/plain": [
       "0                [Apparel]\n",
       "1                   [Bags]\n",
       "2              [Drinkware]\n",
       "3              [Lifestyle]\n",
       "4                   [Nest]\n",
       "5               [Nest-USA]\n",
       "6                 [Office]\n",
       "7     [Apparel, Drinkware]\n",
       "8     [Apparel, Lifestyle]\n",
       "9        [Apparel, Office]\n",
       "10     [Office, Drinkware]\n",
       "11     [Lifestyle, Office]\n",
       "Name: itemsets, dtype: object"
      ]
     },
     "execution_count": 116,
     "metadata": {},
     "output_type": "execute_result"
    }
   ],
   "source": [
    "frequent_set['itemsets'].apply(lambda x:list(x))"
   ]
  },
  {
   "cell_type": "markdown",
   "id": "dfff74f4-b86a-4d59-aec9-46ef6f9bb3e8",
   "metadata": {},
   "source": [
    "### 6. Predicting Next Purchase Day(How soon each customer can visit the store (0-30 days, 30-60 \n",
    "days, 60-90 days, 90+ days) ."
   ]
  },
  {
   "cell_type": "code",
   "execution_count": 118,
   "id": "c6524b8e-f226-4f8e-8f15-429821e35fb0",
   "metadata": {},
   "outputs": [],
   "source": [
    "#  For this, we need create dependent variable at customer level (average days per one\n",
    "# transaction for only repeat customers and divide into groups 0-30 days, 30-60 days,\n",
    "# 60-90 days and 90+ days) then build classification model to predict next purchase of\n",
    "# given customer."
   ]
  },
  {
   "cell_type": "code",
   "execution_count": 119,
   "id": "b1ab1f89-1144-4556-8c60-067d9a1ccdb9",
   "metadata": {},
   "outputs": [
    {
     "data": {
      "text/plain": [
       "Index(['CustomerID', 'Transaction_ID', 'Transaction_Date', 'Product_SKU',\n",
       "       'Product_Description', 'Product_Category', 'Quantity', 'Avg_Price',\n",
       "       'Delivery_Charges', 'Coupon_Status', 'Month', 'Year', 'Coupon_Code',\n",
       "       'Discount_pct', 'GST', 'invoice', 'Day', 'Week'],\n",
       "      dtype='object')"
      ]
     },
     "execution_count": 119,
     "metadata": {},
     "output_type": "execute_result"
    }
   ],
   "source": [
    "final.columns"
   ]
  },
  {
   "cell_type": "code",
   "execution_count": 120,
   "id": "3cc19a96-155d-4230-a45d-9e7bb6b5d142",
   "metadata": {},
   "outputs": [],
   "source": [
    "def categorize_days(days):\n",
    "    if days <= 30:\n",
    "        return '0-30 days'\n",
    "    elif days <= 60:\n",
    "        return '30-60 days'\n",
    "    elif days <= 90:\n",
    "        return '60-90 days'\n",
    "    else:\n",
    "        return '90+ days'"
   ]
  },
  {
   "cell_type": "code",
   "execution_count": 121,
   "id": "8a76a830-6693-47fb-ba7d-9be08b2d2632",
   "metadata": {},
   "outputs": [
    {
     "data": {
      "text/html": [
       "<div>\n",
       "<style scoped>\n",
       "    .dataframe tbody tr th:only-of-type {\n",
       "        vertical-align: middle;\n",
       "    }\n",
       "\n",
       "    .dataframe tbody tr th {\n",
       "        vertical-align: top;\n",
       "    }\n",
       "\n",
       "    .dataframe thead th {\n",
       "        text-align: right;\n",
       "    }\n",
       "</style>\n",
       "<table border=\"1\" class=\"dataframe\">\n",
       "  <thead>\n",
       "    <tr style=\"text-align: right;\">\n",
       "      <th></th>\n",
       "      <th>CustomerID</th>\n",
       "      <th>days_between</th>\n",
       "    </tr>\n",
       "  </thead>\n",
       "  <tbody>\n",
       "    <tr>\n",
       "      <th>0</th>\n",
       "      <td>12346</td>\n",
       "      <td>0.0</td>\n",
       "    </tr>\n",
       "    <tr>\n",
       "      <th>1</th>\n",
       "      <td>12347</td>\n",
       "      <td>3.0</td>\n",
       "    </tr>\n",
       "    <tr>\n",
       "      <th>2</th>\n",
       "      <td>12348</td>\n",
       "      <td>5.0</td>\n",
       "    </tr>\n",
       "    <tr>\n",
       "      <th>3</th>\n",
       "      <td>12350</td>\n",
       "      <td>0.0</td>\n",
       "    </tr>\n",
       "    <tr>\n",
       "      <th>4</th>\n",
       "      <td>12356</td>\n",
       "      <td>0.0</td>\n",
       "    </tr>\n",
       "  </tbody>\n",
       "</table>\n",
       "</div>"
      ],
      "text/plain": [
       "   CustomerID  days_between\n",
       "0       12346           0.0\n",
       "1       12347           3.0\n",
       "2       12348           5.0\n",
       "3       12350           0.0\n",
       "4       12356           0.0"
      ]
     },
     "execution_count": 121,
     "metadata": {},
     "output_type": "execute_result"
    }
   ],
   "source": [
    "final = final.sort_values(by=['CustomerID', 'Transaction_Date'])\n",
    "avg_day=final.groupby('CustomerID')['Transaction_Date'].apply(lambda x:x.diff().mean().days).reset_index()\n",
    "avg_day.columns=['CustomerID','days_between']\n",
    "avg_day.head()"
   ]
  },
  {
   "cell_type": "code",
   "execution_count": 122,
   "id": "a42b662f-f5e4-4ba7-a815-4e0fba917bbb",
   "metadata": {},
   "outputs": [],
   "source": [
    "avg_day.dropna(subset='days_between',inplace=True)"
   ]
  },
  {
   "cell_type": "code",
   "execution_count": 123,
   "id": "96d6d87d-db2f-498f-a73d-c33947d3f676",
   "metadata": {},
   "outputs": [
    {
     "data": {
      "text/plain": [
       "category\n",
       "0-30 days     1385\n",
       "30-60 days      11\n",
       "90+ days         5\n",
       "60-90 days       1\n",
       "Name: count, dtype: int64"
      ]
     },
     "execution_count": 123,
     "metadata": {},
     "output_type": "execute_result"
    }
   ],
   "source": [
    "avg_day['category']=avg_day['days_between'].apply(categorize_days)\n",
    "avg_day.category.value_counts()"
   ]
  },
  {
   "cell_type": "code",
   "execution_count": 124,
   "id": "8dca6f4b-692d-47bc-94b4-4bb99926cf11",
   "metadata": {},
   "outputs": [],
   "source": [
    "temp=avg_day.merge(cust_segment,on='CustomerID')\n",
    "temp=temp[['CustomerID','category', 'recency', 'frequency','monetary']]"
   ]
  },
  {
   "cell_type": "code",
   "execution_count": 125,
   "id": "3d3e80ab-ed7d-47ae-ab86-5c1a5aa2f7dd",
   "metadata": {},
   "outputs": [],
   "source": [
    "le=LabelEncoder()"
   ]
  },
  {
   "cell_type": "code",
   "execution_count": 126,
   "id": "9e5fc3db-ff09-44cc-b6ab-d34053f2d047",
   "metadata": {},
   "outputs": [],
   "source": [
    "temp['category']=le.fit_transform(temp['category'])"
   ]
  },
  {
   "cell_type": "code",
   "execution_count": 127,
   "id": "f51b6578-ea52-47b9-b2bf-7ebf5c9e75ff",
   "metadata": {},
   "outputs": [],
   "source": [
    "x=temp[['recency', 'frequency','monetary']]\n",
    "y=temp['category']"
   ]
  },
  {
   "cell_type": "code",
   "execution_count": 128,
   "id": "7865d4aa-5f67-42b5-81fa-b29a4ecbec7a",
   "metadata": {},
   "outputs": [],
   "source": [
    "xtrain,xtest,ytrain,ytest=train_test_split(x,y,test_size=0.3,random_state=42)"
   ]
  },
  {
   "cell_type": "code",
   "execution_count": 129,
   "id": "dd9c5d4f-2cf2-4ad8-b85e-d3ab4f6f4a28",
   "metadata": {},
   "outputs": [
    {
     "data": {
      "text/plain": [
       "((981, 3), (421, 3), (981,), (421,))"
      ]
     },
     "execution_count": 129,
     "metadata": {},
     "output_type": "execute_result"
    }
   ],
   "source": [
    "xtrain.shape,xtest.shape,ytrain.shape,ytest.shape"
   ]
  },
  {
   "cell_type": "code",
   "execution_count": 130,
   "id": "570840a9-fb86-4cb5-b198-f28d8942f84a",
   "metadata": {},
   "outputs": [],
   "source": [
    "model_rfc=RandomForestClassifier()"
   ]
  },
  {
   "cell_type": "code",
   "execution_count": 131,
   "id": "4f880ef7-295c-4409-94fc-95404e366372",
   "metadata": {},
   "outputs": [
    {
     "data": {
      "text/html": [
       "<style>#sk-container-id-2 {\n",
       "  /* Definition of color scheme common for light and dark mode */\n",
       "  --sklearn-color-text: black;\n",
       "  --sklearn-color-line: gray;\n",
       "  /* Definition of color scheme for unfitted estimators */\n",
       "  --sklearn-color-unfitted-level-0: #fff5e6;\n",
       "  --sklearn-color-unfitted-level-1: #f6e4d2;\n",
       "  --sklearn-color-unfitted-level-2: #ffe0b3;\n",
       "  --sklearn-color-unfitted-level-3: chocolate;\n",
       "  /* Definition of color scheme for fitted estimators */\n",
       "  --sklearn-color-fitted-level-0: #f0f8ff;\n",
       "  --sklearn-color-fitted-level-1: #d4ebff;\n",
       "  --sklearn-color-fitted-level-2: #b3dbfd;\n",
       "  --sklearn-color-fitted-level-3: cornflowerblue;\n",
       "\n",
       "  /* Specific color for light theme */\n",
       "  --sklearn-color-text-on-default-background: var(--sg-text-color, var(--theme-code-foreground, var(--jp-content-font-color1, black)));\n",
       "  --sklearn-color-background: var(--sg-background-color, var(--theme-background, var(--jp-layout-color0, white)));\n",
       "  --sklearn-color-border-box: var(--sg-text-color, var(--theme-code-foreground, var(--jp-content-font-color1, black)));\n",
       "  --sklearn-color-icon: #696969;\n",
       "\n",
       "  @media (prefers-color-scheme: dark) {\n",
       "    /* Redefinition of color scheme for dark theme */\n",
       "    --sklearn-color-text-on-default-background: var(--sg-text-color, var(--theme-code-foreground, var(--jp-content-font-color1, white)));\n",
       "    --sklearn-color-background: var(--sg-background-color, var(--theme-background, var(--jp-layout-color0, #111)));\n",
       "    --sklearn-color-border-box: var(--sg-text-color, var(--theme-code-foreground, var(--jp-content-font-color1, white)));\n",
       "    --sklearn-color-icon: #878787;\n",
       "  }\n",
       "}\n",
       "\n",
       "#sk-container-id-2 {\n",
       "  color: var(--sklearn-color-text);\n",
       "}\n",
       "\n",
       "#sk-container-id-2 pre {\n",
       "  padding: 0;\n",
       "}\n",
       "\n",
       "#sk-container-id-2 input.sk-hidden--visually {\n",
       "  border: 0;\n",
       "  clip: rect(1px 1px 1px 1px);\n",
       "  clip: rect(1px, 1px, 1px, 1px);\n",
       "  height: 1px;\n",
       "  margin: -1px;\n",
       "  overflow: hidden;\n",
       "  padding: 0;\n",
       "  position: absolute;\n",
       "  width: 1px;\n",
       "}\n",
       "\n",
       "#sk-container-id-2 div.sk-dashed-wrapped {\n",
       "  border: 1px dashed var(--sklearn-color-line);\n",
       "  margin: 0 0.4em 0.5em 0.4em;\n",
       "  box-sizing: border-box;\n",
       "  padding-bottom: 0.4em;\n",
       "  background-color: var(--sklearn-color-background);\n",
       "}\n",
       "\n",
       "#sk-container-id-2 div.sk-container {\n",
       "  /* jupyter's `normalize.less` sets `[hidden] { display: none; }`\n",
       "     but bootstrap.min.css set `[hidden] { display: none !important; }`\n",
       "     so we also need the `!important` here to be able to override the\n",
       "     default hidden behavior on the sphinx rendered scikit-learn.org.\n",
       "     See: https://github.com/scikit-learn/scikit-learn/issues/21755 */\n",
       "  display: inline-block !important;\n",
       "  position: relative;\n",
       "}\n",
       "\n",
       "#sk-container-id-2 div.sk-text-repr-fallback {\n",
       "  display: none;\n",
       "}\n",
       "\n",
       "div.sk-parallel-item,\n",
       "div.sk-serial,\n",
       "div.sk-item {\n",
       "  /* draw centered vertical line to link estimators */\n",
       "  background-image: linear-gradient(var(--sklearn-color-text-on-default-background), var(--sklearn-color-text-on-default-background));\n",
       "  background-size: 2px 100%;\n",
       "  background-repeat: no-repeat;\n",
       "  background-position: center center;\n",
       "}\n",
       "\n",
       "/* Parallel-specific style estimator block */\n",
       "\n",
       "#sk-container-id-2 div.sk-parallel-item::after {\n",
       "  content: \"\";\n",
       "  width: 100%;\n",
       "  border-bottom: 2px solid var(--sklearn-color-text-on-default-background);\n",
       "  flex-grow: 1;\n",
       "}\n",
       "\n",
       "#sk-container-id-2 div.sk-parallel {\n",
       "  display: flex;\n",
       "  align-items: stretch;\n",
       "  justify-content: center;\n",
       "  background-color: var(--sklearn-color-background);\n",
       "  position: relative;\n",
       "}\n",
       "\n",
       "#sk-container-id-2 div.sk-parallel-item {\n",
       "  display: flex;\n",
       "  flex-direction: column;\n",
       "}\n",
       "\n",
       "#sk-container-id-2 div.sk-parallel-item:first-child::after {\n",
       "  align-self: flex-end;\n",
       "  width: 50%;\n",
       "}\n",
       "\n",
       "#sk-container-id-2 div.sk-parallel-item:last-child::after {\n",
       "  align-self: flex-start;\n",
       "  width: 50%;\n",
       "}\n",
       "\n",
       "#sk-container-id-2 div.sk-parallel-item:only-child::after {\n",
       "  width: 0;\n",
       "}\n",
       "\n",
       "/* Serial-specific style estimator block */\n",
       "\n",
       "#sk-container-id-2 div.sk-serial {\n",
       "  display: flex;\n",
       "  flex-direction: column;\n",
       "  align-items: center;\n",
       "  background-color: var(--sklearn-color-background);\n",
       "  padding-right: 1em;\n",
       "  padding-left: 1em;\n",
       "}\n",
       "\n",
       "\n",
       "/* Toggleable style: style used for estimator/Pipeline/ColumnTransformer box that is\n",
       "clickable and can be expanded/collapsed.\n",
       "- Pipeline and ColumnTransformer use this feature and define the default style\n",
       "- Estimators will overwrite some part of the style using the `sk-estimator` class\n",
       "*/\n",
       "\n",
       "/* Pipeline and ColumnTransformer style (default) */\n",
       "\n",
       "#sk-container-id-2 div.sk-toggleable {\n",
       "  /* Default theme specific background. It is overwritten whether we have a\n",
       "  specific estimator or a Pipeline/ColumnTransformer */\n",
       "  background-color: var(--sklearn-color-background);\n",
       "}\n",
       "\n",
       "/* Toggleable label */\n",
       "#sk-container-id-2 label.sk-toggleable__label {\n",
       "  cursor: pointer;\n",
       "  display: block;\n",
       "  width: 100%;\n",
       "  margin-bottom: 0;\n",
       "  padding: 0.5em;\n",
       "  box-sizing: border-box;\n",
       "  text-align: center;\n",
       "}\n",
       "\n",
       "#sk-container-id-2 label.sk-toggleable__label-arrow:before {\n",
       "  /* Arrow on the left of the label */\n",
       "  content: \"▸\";\n",
       "  float: left;\n",
       "  margin-right: 0.25em;\n",
       "  color: var(--sklearn-color-icon);\n",
       "}\n",
       "\n",
       "#sk-container-id-2 label.sk-toggleable__label-arrow:hover:before {\n",
       "  color: var(--sklearn-color-text);\n",
       "}\n",
       "\n",
       "/* Toggleable content - dropdown */\n",
       "\n",
       "#sk-container-id-2 div.sk-toggleable__content {\n",
       "  max-height: 0;\n",
       "  max-width: 0;\n",
       "  overflow: hidden;\n",
       "  text-align: left;\n",
       "  /* unfitted */\n",
       "  background-color: var(--sklearn-color-unfitted-level-0);\n",
       "}\n",
       "\n",
       "#sk-container-id-2 div.sk-toggleable__content.fitted {\n",
       "  /* fitted */\n",
       "  background-color: var(--sklearn-color-fitted-level-0);\n",
       "}\n",
       "\n",
       "#sk-container-id-2 div.sk-toggleable__content pre {\n",
       "  margin: 0.2em;\n",
       "  border-radius: 0.25em;\n",
       "  color: var(--sklearn-color-text);\n",
       "  /* unfitted */\n",
       "  background-color: var(--sklearn-color-unfitted-level-0);\n",
       "}\n",
       "\n",
       "#sk-container-id-2 div.sk-toggleable__content.fitted pre {\n",
       "  /* unfitted */\n",
       "  background-color: var(--sklearn-color-fitted-level-0);\n",
       "}\n",
       "\n",
       "#sk-container-id-2 input.sk-toggleable__control:checked~div.sk-toggleable__content {\n",
       "  /* Expand drop-down */\n",
       "  max-height: 200px;\n",
       "  max-width: 100%;\n",
       "  overflow: auto;\n",
       "}\n",
       "\n",
       "#sk-container-id-2 input.sk-toggleable__control:checked~label.sk-toggleable__label-arrow:before {\n",
       "  content: \"▾\";\n",
       "}\n",
       "\n",
       "/* Pipeline/ColumnTransformer-specific style */\n",
       "\n",
       "#sk-container-id-2 div.sk-label input.sk-toggleable__control:checked~label.sk-toggleable__label {\n",
       "  color: var(--sklearn-color-text);\n",
       "  background-color: var(--sklearn-color-unfitted-level-2);\n",
       "}\n",
       "\n",
       "#sk-container-id-2 div.sk-label.fitted input.sk-toggleable__control:checked~label.sk-toggleable__label {\n",
       "  background-color: var(--sklearn-color-fitted-level-2);\n",
       "}\n",
       "\n",
       "/* Estimator-specific style */\n",
       "\n",
       "/* Colorize estimator box */\n",
       "#sk-container-id-2 div.sk-estimator input.sk-toggleable__control:checked~label.sk-toggleable__label {\n",
       "  /* unfitted */\n",
       "  background-color: var(--sklearn-color-unfitted-level-2);\n",
       "}\n",
       "\n",
       "#sk-container-id-2 div.sk-estimator.fitted input.sk-toggleable__control:checked~label.sk-toggleable__label {\n",
       "  /* fitted */\n",
       "  background-color: var(--sklearn-color-fitted-level-2);\n",
       "}\n",
       "\n",
       "#sk-container-id-2 div.sk-label label.sk-toggleable__label,\n",
       "#sk-container-id-2 div.sk-label label {\n",
       "  /* The background is the default theme color */\n",
       "  color: var(--sklearn-color-text-on-default-background);\n",
       "}\n",
       "\n",
       "/* On hover, darken the color of the background */\n",
       "#sk-container-id-2 div.sk-label:hover label.sk-toggleable__label {\n",
       "  color: var(--sklearn-color-text);\n",
       "  background-color: var(--sklearn-color-unfitted-level-2);\n",
       "}\n",
       "\n",
       "/* Label box, darken color on hover, fitted */\n",
       "#sk-container-id-2 div.sk-label.fitted:hover label.sk-toggleable__label.fitted {\n",
       "  color: var(--sklearn-color-text);\n",
       "  background-color: var(--sklearn-color-fitted-level-2);\n",
       "}\n",
       "\n",
       "/* Estimator label */\n",
       "\n",
       "#sk-container-id-2 div.sk-label label {\n",
       "  font-family: monospace;\n",
       "  font-weight: bold;\n",
       "  display: inline-block;\n",
       "  line-height: 1.2em;\n",
       "}\n",
       "\n",
       "#sk-container-id-2 div.sk-label-container {\n",
       "  text-align: center;\n",
       "}\n",
       "\n",
       "/* Estimator-specific */\n",
       "#sk-container-id-2 div.sk-estimator {\n",
       "  font-family: monospace;\n",
       "  border: 1px dotted var(--sklearn-color-border-box);\n",
       "  border-radius: 0.25em;\n",
       "  box-sizing: border-box;\n",
       "  margin-bottom: 0.5em;\n",
       "  /* unfitted */\n",
       "  background-color: var(--sklearn-color-unfitted-level-0);\n",
       "}\n",
       "\n",
       "#sk-container-id-2 div.sk-estimator.fitted {\n",
       "  /* fitted */\n",
       "  background-color: var(--sklearn-color-fitted-level-0);\n",
       "}\n",
       "\n",
       "/* on hover */\n",
       "#sk-container-id-2 div.sk-estimator:hover {\n",
       "  /* unfitted */\n",
       "  background-color: var(--sklearn-color-unfitted-level-2);\n",
       "}\n",
       "\n",
       "#sk-container-id-2 div.sk-estimator.fitted:hover {\n",
       "  /* fitted */\n",
       "  background-color: var(--sklearn-color-fitted-level-2);\n",
       "}\n",
       "\n",
       "/* Specification for estimator info (e.g. \"i\" and \"?\") */\n",
       "\n",
       "/* Common style for \"i\" and \"?\" */\n",
       "\n",
       ".sk-estimator-doc-link,\n",
       "a:link.sk-estimator-doc-link,\n",
       "a:visited.sk-estimator-doc-link {\n",
       "  float: right;\n",
       "  font-size: smaller;\n",
       "  line-height: 1em;\n",
       "  font-family: monospace;\n",
       "  background-color: var(--sklearn-color-background);\n",
       "  border-radius: 1em;\n",
       "  height: 1em;\n",
       "  width: 1em;\n",
       "  text-decoration: none !important;\n",
       "  margin-left: 1ex;\n",
       "  /* unfitted */\n",
       "  border: var(--sklearn-color-unfitted-level-1) 1pt solid;\n",
       "  color: var(--sklearn-color-unfitted-level-1);\n",
       "}\n",
       "\n",
       ".sk-estimator-doc-link.fitted,\n",
       "a:link.sk-estimator-doc-link.fitted,\n",
       "a:visited.sk-estimator-doc-link.fitted {\n",
       "  /* fitted */\n",
       "  border: var(--sklearn-color-fitted-level-1) 1pt solid;\n",
       "  color: var(--sklearn-color-fitted-level-1);\n",
       "}\n",
       "\n",
       "/* On hover */\n",
       "div.sk-estimator:hover .sk-estimator-doc-link:hover,\n",
       ".sk-estimator-doc-link:hover,\n",
       "div.sk-label-container:hover .sk-estimator-doc-link:hover,\n",
       ".sk-estimator-doc-link:hover {\n",
       "  /* unfitted */\n",
       "  background-color: var(--sklearn-color-unfitted-level-3);\n",
       "  color: var(--sklearn-color-background);\n",
       "  text-decoration: none;\n",
       "}\n",
       "\n",
       "div.sk-estimator.fitted:hover .sk-estimator-doc-link.fitted:hover,\n",
       ".sk-estimator-doc-link.fitted:hover,\n",
       "div.sk-label-container:hover .sk-estimator-doc-link.fitted:hover,\n",
       ".sk-estimator-doc-link.fitted:hover {\n",
       "  /* fitted */\n",
       "  background-color: var(--sklearn-color-fitted-level-3);\n",
       "  color: var(--sklearn-color-background);\n",
       "  text-decoration: none;\n",
       "}\n",
       "\n",
       "/* Span, style for the box shown on hovering the info icon */\n",
       ".sk-estimator-doc-link span {\n",
       "  display: none;\n",
       "  z-index: 9999;\n",
       "  position: relative;\n",
       "  font-weight: normal;\n",
       "  right: .2ex;\n",
       "  padding: .5ex;\n",
       "  margin: .5ex;\n",
       "  width: min-content;\n",
       "  min-width: 20ex;\n",
       "  max-width: 50ex;\n",
       "  color: var(--sklearn-color-text);\n",
       "  box-shadow: 2pt 2pt 4pt #999;\n",
       "  /* unfitted */\n",
       "  background: var(--sklearn-color-unfitted-level-0);\n",
       "  border: .5pt solid var(--sklearn-color-unfitted-level-3);\n",
       "}\n",
       "\n",
       ".sk-estimator-doc-link.fitted span {\n",
       "  /* fitted */\n",
       "  background: var(--sklearn-color-fitted-level-0);\n",
       "  border: var(--sklearn-color-fitted-level-3);\n",
       "}\n",
       "\n",
       ".sk-estimator-doc-link:hover span {\n",
       "  display: block;\n",
       "}\n",
       "\n",
       "/* \"?\"-specific style due to the `<a>` HTML tag */\n",
       "\n",
       "#sk-container-id-2 a.estimator_doc_link {\n",
       "  float: right;\n",
       "  font-size: 1rem;\n",
       "  line-height: 1em;\n",
       "  font-family: monospace;\n",
       "  background-color: var(--sklearn-color-background);\n",
       "  border-radius: 1rem;\n",
       "  height: 1rem;\n",
       "  width: 1rem;\n",
       "  text-decoration: none;\n",
       "  /* unfitted */\n",
       "  color: var(--sklearn-color-unfitted-level-1);\n",
       "  border: var(--sklearn-color-unfitted-level-1) 1pt solid;\n",
       "}\n",
       "\n",
       "#sk-container-id-2 a.estimator_doc_link.fitted {\n",
       "  /* fitted */\n",
       "  border: var(--sklearn-color-fitted-level-1) 1pt solid;\n",
       "  color: var(--sklearn-color-fitted-level-1);\n",
       "}\n",
       "\n",
       "/* On hover */\n",
       "#sk-container-id-2 a.estimator_doc_link:hover {\n",
       "  /* unfitted */\n",
       "  background-color: var(--sklearn-color-unfitted-level-3);\n",
       "  color: var(--sklearn-color-background);\n",
       "  text-decoration: none;\n",
       "}\n",
       "\n",
       "#sk-container-id-2 a.estimator_doc_link.fitted:hover {\n",
       "  /* fitted */\n",
       "  background-color: var(--sklearn-color-fitted-level-3);\n",
       "}\n",
       "</style><div id=\"sk-container-id-2\" class=\"sk-top-container\"><div class=\"sk-text-repr-fallback\"><pre>RandomForestClassifier()</pre><b>In a Jupyter environment, please rerun this cell to show the HTML representation or trust the notebook. <br />On GitHub, the HTML representation is unable to render, please try loading this page with nbviewer.org.</b></div><div class=\"sk-container\" hidden><div class=\"sk-item\"><div class=\"sk-estimator fitted sk-toggleable\"><input class=\"sk-toggleable__control sk-hidden--visually\" id=\"sk-estimator-id-2\" type=\"checkbox\" checked><label for=\"sk-estimator-id-2\" class=\"sk-toggleable__label fitted sk-toggleable__label-arrow fitted\">&nbsp;&nbsp;RandomForestClassifier<a class=\"sk-estimator-doc-link fitted\" rel=\"noreferrer\" target=\"_blank\" href=\"https://scikit-learn.org/1.5/modules/generated/sklearn.ensemble.RandomForestClassifier.html\">?<span>Documentation for RandomForestClassifier</span></a><span class=\"sk-estimator-doc-link fitted\">i<span>Fitted</span></span></label><div class=\"sk-toggleable__content fitted\"><pre>RandomForestClassifier()</pre></div> </div></div></div></div>"
      ],
      "text/plain": [
       "RandomForestClassifier()"
      ]
     },
     "execution_count": 131,
     "metadata": {},
     "output_type": "execute_result"
    }
   ],
   "source": [
    "model_rfc.fit(xtrain,ytrain)"
   ]
  },
  {
   "cell_type": "code",
   "execution_count": 132,
   "id": "454fa04d-9ecc-459c-b0b5-61c78cc0d197",
   "metadata": {},
   "outputs": [],
   "source": [
    "y_pred_rfc=model_rfc.predict(xtest)"
   ]
  },
  {
   "cell_type": "code",
   "execution_count": 133,
   "id": "b4672b42-2ea2-48e9-a105-a7b094b69ec3",
   "metadata": {},
   "outputs": [
    {
     "name": "stdout",
     "output_type": "stream",
     "text": [
      "accuracy :  0.9857482185273159\n",
      "              precision    recall  f1-score   support\n",
      "\n",
      "           0       0.99      1.00      0.99       415\n",
      "           1       0.00      0.00      0.00         3\n",
      "           2       0.00      0.00      0.00         1\n",
      "           3       0.00      0.00      0.00         2\n",
      "\n",
      "    accuracy                           0.99       421\n",
      "   macro avg       0.25      0.25      0.25       421\n",
      "weighted avg       0.97      0.99      0.98       421\n",
      "\n"
     ]
    },
    {
     "name": "stderr",
     "output_type": "stream",
     "text": [
      "D:\\anaconda3\\Lib\\site-packages\\sklearn\\metrics\\_classification.py:1531: UndefinedMetricWarning: Precision is ill-defined and being set to 0.0 in labels with no predicted samples. Use `zero_division` parameter to control this behavior.\n",
      "  _warn_prf(average, modifier, f\"{metric.capitalize()} is\", len(result))\n",
      "D:\\anaconda3\\Lib\\site-packages\\sklearn\\metrics\\_classification.py:1531: UndefinedMetricWarning: Precision is ill-defined and being set to 0.0 in labels with no predicted samples. Use `zero_division` parameter to control this behavior.\n",
      "  _warn_prf(average, modifier, f\"{metric.capitalize()} is\", len(result))\n",
      "D:\\anaconda3\\Lib\\site-packages\\sklearn\\metrics\\_classification.py:1531: UndefinedMetricWarning: Precision is ill-defined and being set to 0.0 in labels with no predicted samples. Use `zero_division` parameter to control this behavior.\n",
      "  _warn_prf(average, modifier, f\"{metric.capitalize()} is\", len(result))\n"
     ]
    }
   ],
   "source": [
    "# Evaluate the model\n",
    "accuracy = accuracy_score(ytest, y_pred_rfc)\n",
    "classification=classification_report(ytest, y_pred_rfc)\n",
    "print('accuracy : ',accuracy)\n",
    "print(classification)"
   ]
  },
  {
   "cell_type": "markdown",
   "id": "2acab8d1-5d65-4bb2-a5ea-0c9c56756398",
   "metadata": {},
   "source": [
    "### 7. Perform cohort analysis by defining below cohortsn?"
   ]
  },
  {
   "cell_type": "code",
   "execution_count": 135,
   "id": "bbf2ab88-49d2-4b34-ac9b-2034a66be404",
   "metadata": {},
   "outputs": [],
   "source": [
    "#  Customers who started in each month and understand their behaviour\n",
    "#  Which Month cohort has maximum retention?"
   ]
  },
  {
   "cell_type": "code",
   "execution_count": 136,
   "id": "f0d0eba9-0bc4-497d-957c-a9ea25ffc942",
   "metadata": {},
   "outputs": [],
   "source": [
    "cohorts = final.groupby('Month')"
   ]
  },
  {
   "cell_type": "code",
   "execution_count": 137,
   "id": "9e746a1e-70bb-4e83-922f-0769b6ee6b90",
   "metadata": {},
   "outputs": [
    {
     "data": {
      "text/html": [
       "<div>\n",
       "<style scoped>\n",
       "    .dataframe tbody tr th:only-of-type {\n",
       "        vertical-align: middle;\n",
       "    }\n",
       "\n",
       "    .dataframe tbody tr th {\n",
       "        vertical-align: top;\n",
       "    }\n",
       "\n",
       "    .dataframe thead tr th {\n",
       "        text-align: left;\n",
       "    }\n",
       "\n",
       "    .dataframe thead tr:last-of-type th {\n",
       "        text-align: right;\n",
       "    }\n",
       "</style>\n",
       "<table border=\"1\" class=\"dataframe\">\n",
       "  <thead>\n",
       "    <tr>\n",
       "      <th></th>\n",
       "      <th>CustomerID</th>\n",
       "      <th colspan=\"2\" halign=\"left\">invoice</th>\n",
       "    </tr>\n",
       "    <tr>\n",
       "      <th></th>\n",
       "      <th>nunique</th>\n",
       "      <th>count</th>\n",
       "      <th>sum</th>\n",
       "    </tr>\n",
       "    <tr>\n",
       "      <th>Month</th>\n",
       "      <th></th>\n",
       "      <th></th>\n",
       "      <th></th>\n",
       "    </tr>\n",
       "  </thead>\n",
       "  <tbody>\n",
       "    <tr>\n",
       "      <th>Apr</th>\n",
       "      <td>224</td>\n",
       "      <td>4150</td>\n",
       "      <td>477498.59102</td>\n",
       "    </tr>\n",
       "    <tr>\n",
       "      <th>Aug</th>\n",
       "      <td>300</td>\n",
       "      <td>6150</td>\n",
       "      <td>475796.87554</td>\n",
       "    </tr>\n",
       "    <tr>\n",
       "      <th>Dec</th>\n",
       "      <td>236</td>\n",
       "      <td>4502</td>\n",
       "      <td>556112.29179</td>\n",
       "    </tr>\n",
       "    <tr>\n",
       "      <th>Feb</th>\n",
       "      <td>109</td>\n",
       "      <td>3284</td>\n",
       "      <td>375162.04730</td>\n",
       "    </tr>\n",
       "    <tr>\n",
       "      <th>Jan</th>\n",
       "      <td>215</td>\n",
       "      <td>4063</td>\n",
       "      <td>494090.54875</td>\n",
       "    </tr>\n",
       "    <tr>\n",
       "      <th>Jul</th>\n",
       "      <td>236</td>\n",
       "      <td>5251</td>\n",
       "      <td>451878.40904</td>\n",
       "    </tr>\n",
       "    <tr>\n",
       "      <th>Jun</th>\n",
       "      <td>259</td>\n",
       "      <td>4193</td>\n",
       "      <td>361000.17429</td>\n",
       "    </tr>\n",
       "    <tr>\n",
       "      <th>Mar</th>\n",
       "      <td>208</td>\n",
       "      <td>4346</td>\n",
       "      <td>415157.79044</td>\n",
       "    </tr>\n",
       "    <tr>\n",
       "      <th>May</th>\n",
       "      <td>200</td>\n",
       "      <td>4572</td>\n",
       "      <td>365596.02956</td>\n",
       "    </tr>\n",
       "    <tr>\n",
       "      <th>Nov</th>\n",
       "      <td>188</td>\n",
       "      <td>3961</td>\n",
       "      <td>547788.12626</td>\n",
       "    </tr>\n",
       "    <tr>\n",
       "      <th>Oct</th>\n",
       "      <td>210</td>\n",
       "      <td>4164</td>\n",
       "      <td>480767.36981</td>\n",
       "    </tr>\n",
       "    <tr>\n",
       "      <th>Sep</th>\n",
       "      <td>193</td>\n",
       "      <td>4288</td>\n",
       "      <td>396510.49254</td>\n",
       "    </tr>\n",
       "  </tbody>\n",
       "</table>\n",
       "</div>"
      ],
      "text/plain": [
       "      CustomerID invoice              \n",
       "         nunique   count           sum\n",
       "Month                                 \n",
       "Apr          224    4150  477498.59102\n",
       "Aug          300    6150  475796.87554\n",
       "Dec          236    4502  556112.29179\n",
       "Feb          109    3284  375162.04730\n",
       "Jan          215    4063  494090.54875\n",
       "Jul          236    5251  451878.40904\n",
       "Jun          259    4193  361000.17429\n",
       "Mar          208    4346  415157.79044\n",
       "May          200    4572  365596.02956\n",
       "Nov          188    3961  547788.12626\n",
       "Oct          210    4164  480767.36981\n",
       "Sep          193    4288  396510.49254"
      ]
     },
     "execution_count": 137,
     "metadata": {},
     "output_type": "execute_result"
    }
   ],
   "source": [
    "cohort_metrics = cohorts.agg({\n",
    "    'CustomerID': 'nunique','invoice': ['count','sum']})\n",
    "cohort_metrics"
   ]
  },
  {
   "cell_type": "code",
   "execution_count": 138,
   "id": "6cb97db6-3cf7-43aa-ad00-185c4603bd24",
   "metadata": {},
   "outputs": [
    {
     "data": {
      "text/html": [
       "<div>\n",
       "<style scoped>\n",
       "    .dataframe tbody tr th:only-of-type {\n",
       "        vertical-align: middle;\n",
       "    }\n",
       "\n",
       "    .dataframe tbody tr th {\n",
       "        vertical-align: top;\n",
       "    }\n",
       "\n",
       "    .dataframe thead th {\n",
       "        text-align: right;\n",
       "    }\n",
       "</style>\n",
       "<table border=\"1\" class=\"dataframe\">\n",
       "  <thead>\n",
       "    <tr style=\"text-align: right;\">\n",
       "      <th></th>\n",
       "      <th>Unique Customers</th>\n",
       "      <th>Total Invoices</th>\n",
       "      <th>Total Invoices Amount</th>\n",
       "    </tr>\n",
       "    <tr>\n",
       "      <th>Month</th>\n",
       "      <th></th>\n",
       "      <th></th>\n",
       "      <th></th>\n",
       "    </tr>\n",
       "  </thead>\n",
       "  <tbody>\n",
       "    <tr>\n",
       "      <th>Apr</th>\n",
       "      <td>224</td>\n",
       "      <td>4150</td>\n",
       "      <td>477498.59102</td>\n",
       "    </tr>\n",
       "    <tr>\n",
       "      <th>Aug</th>\n",
       "      <td>300</td>\n",
       "      <td>6150</td>\n",
       "      <td>475796.87554</td>\n",
       "    </tr>\n",
       "    <tr>\n",
       "      <th>Dec</th>\n",
       "      <td>236</td>\n",
       "      <td>4502</td>\n",
       "      <td>556112.29179</td>\n",
       "    </tr>\n",
       "    <tr>\n",
       "      <th>Feb</th>\n",
       "      <td>109</td>\n",
       "      <td>3284</td>\n",
       "      <td>375162.04730</td>\n",
       "    </tr>\n",
       "    <tr>\n",
       "      <th>Jan</th>\n",
       "      <td>215</td>\n",
       "      <td>4063</td>\n",
       "      <td>494090.54875</td>\n",
       "    </tr>\n",
       "    <tr>\n",
       "      <th>Jul</th>\n",
       "      <td>236</td>\n",
       "      <td>5251</td>\n",
       "      <td>451878.40904</td>\n",
       "    </tr>\n",
       "    <tr>\n",
       "      <th>Jun</th>\n",
       "      <td>259</td>\n",
       "      <td>4193</td>\n",
       "      <td>361000.17429</td>\n",
       "    </tr>\n",
       "    <tr>\n",
       "      <th>Mar</th>\n",
       "      <td>208</td>\n",
       "      <td>4346</td>\n",
       "      <td>415157.79044</td>\n",
       "    </tr>\n",
       "    <tr>\n",
       "      <th>May</th>\n",
       "      <td>200</td>\n",
       "      <td>4572</td>\n",
       "      <td>365596.02956</td>\n",
       "    </tr>\n",
       "    <tr>\n",
       "      <th>Nov</th>\n",
       "      <td>188</td>\n",
       "      <td>3961</td>\n",
       "      <td>547788.12626</td>\n",
       "    </tr>\n",
       "    <tr>\n",
       "      <th>Oct</th>\n",
       "      <td>210</td>\n",
       "      <td>4164</td>\n",
       "      <td>480767.36981</td>\n",
       "    </tr>\n",
       "    <tr>\n",
       "      <th>Sep</th>\n",
       "      <td>193</td>\n",
       "      <td>4288</td>\n",
       "      <td>396510.49254</td>\n",
       "    </tr>\n",
       "  </tbody>\n",
       "</table>\n",
       "</div>"
      ],
      "text/plain": [
       "       Unique Customers  Total Invoices  Total Invoices Amount\n",
       "Month                                                         \n",
       "Apr                 224            4150           477498.59102\n",
       "Aug                 300            6150           475796.87554\n",
       "Dec                 236            4502           556112.29179\n",
       "Feb                 109            3284           375162.04730\n",
       "Jan                 215            4063           494090.54875\n",
       "Jul                 236            5251           451878.40904\n",
       "Jun                 259            4193           361000.17429\n",
       "Mar                 208            4346           415157.79044\n",
       "May                 200            4572           365596.02956\n",
       "Nov                 188            3961           547788.12626\n",
       "Oct                 210            4164           480767.36981\n",
       "Sep                 193            4288           396510.49254"
      ]
     },
     "execution_count": 138,
     "metadata": {},
     "output_type": "execute_result"
    }
   ],
   "source": [
    "cohort_metrics.columns = cohort_metrics.columns\n",
    "cohort_metrics.columns = ['Unique Customers', 'Total Invoices', 'Total Invoices Amount']\n",
    "cohort_metrics"
   ]
  },
  {
   "cell_type": "code",
   "execution_count": 139,
   "id": "193db9bf-4bc3-43ef-8c9c-b1e84f4a2f64",
   "metadata": {},
   "outputs": [],
   "source": [
    "max_retention_month=[i for i,j in retention.items() if j == max(retention.values())]"
   ]
  },
  {
   "cell_type": "code",
   "execution_count": 140,
   "id": "ec6b343d-3af3-444e-acd6-cce57e8a966a",
   "metadata": {},
   "outputs": [
    {
     "name": "stdout",
     "output_type": "stream",
     "text": [
      "Cohort Metrics:\n",
      "       Unique Customers  Total Invoices  Total Invoices Amount\n",
      "Month                                                         \n",
      "Apr                 224            4150           477498.59102\n",
      "Aug                 300            6150           475796.87554\n",
      "Dec                 236            4502           556112.29179\n",
      "Feb                 109            3284           375162.04730\n",
      "Jan                 215            4063           494090.54875\n",
      "Jul                 236            5251           451878.40904\n",
      "Jun                 259            4193           361000.17429\n",
      "Mar                 208            4346           415157.79044\n",
      "May                 200            4572           365596.02956\n",
      "Nov                 188            3961           547788.12626\n",
      "Oct                 210            4164           480767.36981\n",
      "Sep                 193            4288           396510.49254\n",
      "\n",
      "Cohort Retention Rates:\n",
      "dict_items([('jan', 0), ('Feb', 13), ('Mar', 11), ('Apr', 24), ('May', 25), ('Jun', 37), ('Jul', 58), ('Aug', 65), ('Sep', 44), ('Oct', 29), ('Nov', 31), ('Dec', 28)])\n",
      "\n",
      "Month cohort with maximum retention: Aug\n"
     ]
    }
   ],
   "source": [
    "print(\"Cohort Metrics:\")\n",
    "print(cohort_metrics)\n",
    "print(\"\\nCohort Retention Rates:\")\n",
    "print(retention.items())\n",
    "print(\"\\nMonth cohort with maximum retention:\", max_retention_month[0])"
   ]
  }
 ],
 "metadata": {
  "kernelspec": {
   "display_name": "Python 3 (ipykernel)",
   "language": "python",
   "name": "python3"
  },
  "language_info": {
   "codemirror_mode": {
    "name": "ipython",
    "version": 3
   },
   "file_extension": ".py",
   "mimetype": "text/x-python",
   "name": "python",
   "nbconvert_exporter": "python",
   "pygments_lexer": "ipython3",
   "version": "3.11.7"
  }
 },
 "nbformat": 4,
 "nbformat_minor": 5
}
